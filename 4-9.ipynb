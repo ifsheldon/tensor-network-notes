{
 "cells": [
  {
   "cell_type": "markdown",
   "metadata": {},
   "source": [
    "# 4.9: 基于量子纠缠的特征选择\n",
    "\n",
    "> References:\n",
    "> * _Feature Extraction by Tensor Network Machine Learning_\n",
    "> * _Unsupervised Recognition of Informative Features via Tensor Network Machine Learning and Quantum Entanglement Variations_\n",
    "\n",
    "\n",
    "核心思想：利用量子概率诠释实现特征提取，属于量子启发（quantum-inspired）的机器学习解释性（interpretability）理论\n",
    "\n",
    "本节的核心概念：二分纠缠熵（bipartite entanglement entropy）\n",
    "\n",
    "在[2.6](./2-6.ipynb)中：从约化密度算符出发给出了二分纠缠谱的定义，可通过量子波函数（量子态系数）的奇异谱（奇异谱与奇异值分解的相关内容可参考[1.7](./1-7.ipynb)）或约化矩阵的本征谱给出\n",
    "\n",
    "在[4.2](./4-2.ipynb)：我们讨论了矩阵乘积态纠缠谱与中心正交形式间的关系，并利用纠缠谱的裁剪实现了中心正交矩阵乘积态的虚拟维数最优裁剪。\n",
    "\n",
    "## 二分纠缠熵\n",
    "\n",
    "二分纠缠熵的统计意义来源于冯诺伊曼熵(von Neumann entropy)：系统混乱程度的刻画\n",
    "\n",
    "设系统存在K个可能的**状态**，处于各个状态的**概率**记为$p_k$ $(k = 0,...,K-1)$，则冯诺伊曼熵满足\n",
    "\n",
    "$$S_{VN} = -\\sum_k p_k \\ln p_k$$\n",
    "\n",
    "有$p_k \\geq 0$且$\\sum_{k=0}^{K-1} p_k = 1$，且规定$0 \\ln 0 = 0$ (该式在从原点右侧趋向于0的极限下成立)，则可以证明$0 \\leq S_{VN} \\leq \\ln K$，当且仅当 $p_0 = p_k = \\cdots = p_{K-1} = 1/K$时，右侧等号成立，$S_{VN}$极大。\n",
    "\n",
    "> 例子，投骰子：\n",
    "> \n",
    "> 所有面出现的概率都相等$p_0 = p_1 = \\cdots = p_5 = 1/6$，此时相当于我们对于骰子出现的面是完全没有信息的，即不确定性最大，无论采取什么样的策略，猜中的几率均为1/6。但当骰子出现了某种问题导致某一面的概率大于了1/6，此时我们只需要猜概率最大的那一面即可，猜对的概率将大于1/6，对应的冯诺伊曼熵也会小于最大值$\\ln 6$，且相对于最大值的熵的减小量刻画了上述情况下信息的增量。\n",
    "\n",
    "\n",
    "### 经典和量子的本质区别\n",
    "\n",
    "* 量子系统的状态可定义为叠加态\n",
    "* 量子系统状态的定义直接影响其混乱程度的刻画\n",
    "\n",
    "> 例：一枚经典或量子硬币（量子比特）\n",
    ">\n",
    "> * 状态自然地应该是\"朝上\"（记为0）与\"朝下\"（记为1），则对应的冯诺伊曼熵为$S_{VN} = -p_0 \\ln p_0 - p_1 \\ln p_1$；\n",
    "> * 设其所处量子态为纯态$|\\psi\\rangle$，我们当然可以通过测量获得其向上或向下的概率$p_s = \\langle\\psi|s\\rangle\\langle s|\\psi\\rangle$ ($s = 0$或$1$，参考第二章第3节）子系统状态的定义直接影响其混乱程度的刻画；\n",
    "> * 此时相当于选择测量算符为 $\\hat{M}^{(0)} = |0\\rangle\\langle0|$、$\\hat{M}^{(1)} = |1\\rangle\\langle1|$，有 $p_s = \\langle\\psi|\\hat{M}^{(s)}|\\psi\\rangle$\n",
    "> * 变换一组测量算符，例如$\\hat{M}^{(0)} = \\frac{1}{2}(|0\\rangle + |1\\rangle)(\\langle0| + \\langle1|)$、$\\hat{M}^{(1)} = \\frac{1}{2}(|0\\rangle - |1\\rangle)(\\langle0| - \\langle1|)$，通过简单计算得到不同的冯诺依曼熵；\n",
    "> * 显然：量子系统的冯诺依曼熵与测量算符的选择相关，即量子系统的混乱程度或信息量不单单取决于系统本身，还取决于观察者的视角（测量算符的选择），这点是与经典系统具有本质区别的。\n",
    "> * 注：合法的测量算符需满足\n",
    ">   $$\\sum_s \\hat{M}^{(s)} = \\hat{I}$$\n",
    ">   易证，上述公式对应于测量算符得到的概率分布的归一性$\\sum_s p_s = 1$。\n",
    ">\n",
    "\n",
    "### 二分纠缠熵的数学定义\n",
    "\n",
    "> 为什么要用二分纠缠熵：冯诺依曼熵会随着量子系统状态的定义而变化，不适合直接使用，见上述例子\n",
    "\n",
    "定义：将系统分为两部分，对某个子体系测量所得概率分布的最小冯诺伊曼熵\n",
    "$$S = \\min_{\\{M^{(s)}\\}} S_{VN}(\\{M^{(s)}\\})$$\n",
    "\n",
    "> 为什么要二分：因为对于纯态而言，最小的冯诺依曼熵是 0，因为\n",
    "> 1. 纯态总可以找到一个规范正交基底\n",
    "> 2. 这个规范正交基底下，冯诺依曼熵计算为 0\n",
    "\n",
    "根据线性代数，上述极小化问题的解可由本征值分解或奇异值分解给出。具体而言，纠缠熵可由系数矩阵的奇异谱（记为 $\\Gamma$）或约化矩阵的本征谱（记为 $\\Lambda$）给出，满足\n",
    "$$S = -\\sum_s \\Gamma_s^2 \\ln \\Gamma_s^2 = -\\sum_s \\Lambda_s \\ln \\Lambda_s$$\n",
    "\n",
    "其中 $\\Lambda$ 被称为纠缠谱，这是因为它实际上对应纠缠哈密顿量（entanglement Hamiltonian）的能谱；$\\Gamma$ 被称为施密特系数（Schmidt coefficients）[参考 Hui Li and F. D. M. Haldane, Phys. Rev. Lett. 101, 010504 (2008)]\n",
    "\n",
    "物理意义：笼统地认为是量子版本的关联函数\n",
    "\n",
    "性质：\n",
    "* 约化矩阵的本征谱=原矩阵奇异谱的平方，两种方式算出来的纠缠是一致；\n",
    "* 系数矩阵的左、右约化矩阵的本征谱相等，因此二者会得到一致的纠缠熵，也说明了左、右两个子体系测量获得的冯诺伊曼熵的下限是相等的；\n",
    "* 纠缠熵可以直接通过任意一个子系统的约化密度矩阵（记为$\\hat{\\rho}_R$）来表示\n",
    "  $$S = -\\text{Tr}(\\hat{\\rho}_R \\ln \\hat{\\rho}_R)$$\n",
    "  式中的对数函数ln作用在算符上，并非是对算符的各个系数取对数；\n",
    "* 如果量子态为两个子系统各自态的直积，则该两个子系统间的二分纠缠熵为0，反过来也是成立的，即二分纠缠熵为0的量子态为直积态。"
   ]
  },
  {
   "cell_type": "code",
   "execution_count": 1,
   "metadata": {},
   "outputs": [],
   "source": [
    "import torch\n",
    "from tensor_network.tensor_gates.functional import rand_unitary\n",
    "from tensor_network.quantum_state.functional import calc_reduced_density_matrix\n",
    "import matplotlib.pyplot as plt\n",
    "\n",
    "complex_dtype = torch.complex64"
   ]
  },
  {
   "cell_type": "code",
   "execution_count": 2,
   "metadata": {},
   "outputs": [],
   "source": [
    "def calculate_entropy_by_sampling(rdm: torch.Tensor, measure_times: int):\n",
    "    entropies = []\n",
    "    for _ in range(measure_times):\n",
    "        basis = rand_unitary(2, dtype=complex_dtype)\n",
    "        basis_0 = basis[:, 0]\n",
    "        basis_1 = basis[:, 1]\n",
    "\n",
    "        p_basis0 = torch.einsum(\"a, ab, b->\", basis_0.conj(), rdm, basis_0).real\n",
    "        p_basis1 = torch.einsum(\"a, ab, b->\", basis_1.conj(), rdm, basis_1).real\n",
    "\n",
    "        entropy = -p_basis0 * torch.log(p_basis0) - p_basis1 * torch.log(p_basis1)\n",
    "        entropies.append(entropy)\n",
    "    return torch.stack(entropies)"
   ]
  },
  {
   "cell_type": "code",
   "execution_count": 3,
   "metadata": {},
   "outputs": [
    {
     "name": "stdout",
     "output_type": "stream",
     "text": [
      "\n",
      "Reference entropy: 0.35148364305496216\n",
      "Sample entropy on qubit-0: 0.35280290246009827\n",
      "Sample entropy on qubit-1: 0.35204967856407166\n",
      "\n"
     ]
    }
   ],
   "source": [
    "qubit_state = torch.randn(2, 2, dtype=complex_dtype)\n",
    "qubit_state = qubit_state / torch.linalg.norm(qubit_state)\n",
    "\n",
    "rdm_1 = calc_reduced_density_matrix(qubit_state, 0)  # reducing qubit-0, ρ₀\n",
    "# rdm_1 = qubit_state.conj().mm(qubit_state.t()) # the same as above\n",
    "rdm_0 = calc_reduced_density_matrix(qubit_state, 1)  # reducing qubit-1, ρ₁\n",
    "\n",
    "eigval_1 = torch.linalg.eigvalsh(rdm_1)\n",
    "eigval_0 = torch.linalg.eigvalsh(rdm_0)\n",
    "\n",
    "entropy_1 = -eigval_1.inner(torch.log(eigval_1))\n",
    "entropy_0 = -eigval_0.inner(torch.log(eigval_0))\n",
    "\n",
    "assert entropy_1.isclose(entropy_0)\n",
    "ref_entropy = entropy_1\n",
    "\n",
    "measure_times = 600\n",
    "\n",
    "entropies_1 = calculate_entropy_by_sampling(rdm_1, measure_times)\n",
    "sample_entropy_1 = entropies_1.min()\n",
    "\n",
    "entropies_0 = calculate_entropy_by_sampling(rdm_0, measure_times)\n",
    "sample_entropy_0 = entropies_0.min()\n",
    "\n",
    "print(f\"\"\"\n",
    "Reference entropy: {ref_entropy.item()}\n",
    "Sample entropy on qubit-0: {sample_entropy_0.item()}\n",
    "Sample entropy on qubit-1: {sample_entropy_1.item()}\n",
    "\"\"\")"
   ]
  },
  {
   "cell_type": "code",
   "execution_count": 4,
   "metadata": {},
   "outputs": [],
   "source": [
    "def plot_sampled_entropy(\n",
    "    entropies: torch.Tensor, ref_entropy: torch.Tensor, max_entropy: torch.Tensor\n",
    "):\n",
    "    plt.figure(figsize=(8, 6))\n",
    "    plt.scatter(range(len(entropies)), entropies, c=\"blue\", label=\"Sampled entropies\")\n",
    "    plt.axhline(y=ref_entropy.item(), color=\"g\", linestyle=\"--\", label=\"Reference entropy\")\n",
    "    plt.axhline(y=max_entropy.item(), color=\"r\", linestyle=\"--\", label=\"Max entropy\")\n",
    "    plt.xlabel(\"Sample index\")\n",
    "    plt.ylabel(\"Entropy\")\n",
    "    plt.title(\"Entropy Sampling Distribution\")\n",
    "    plt.legend()\n",
    "    plt.grid(True)\n",
    "    plt.show()"
   ]
  },
  {
   "cell_type": "code",
   "execution_count": 5,
   "metadata": {},
   "outputs": [
    {
     "data": {
      "image/png": "[encoded data removed]",
      "text/plain": [
       "<Figure size 800x600 with 1 Axes>"
      ]
     },
     "metadata": {},
     "output_type": "display_data"
    },
    {
     "data": {
      "image/png": "[encoded data removed]",
      "text/plain": [
       "<Figure size 800x600 with 1 Axes>"
      ]
     },
     "metadata": {},
     "output_type": "display_data"
    }
   ],
   "source": [
    "max_entropy = torch.log(torch.tensor(2))\n",
    "\n",
    "plot_sampled_entropy(entropies_0, ref_entropy, max_entropy)\n",
    "plot_sampled_entropy(entropies_1, ref_entropy, max_entropy)"
   ]
  },
  {
   "cell_type": "markdown",
   "metadata": {},
   "source": [
    "### 单点纠缠熵 (On-site Entanglement Entropy) 实现特征选择\n",
    "\n",
    "定义单点纠缠熵实现特征选择：\n",
    "\n",
    "$$S_l = -\\text{Tr}(\\hat{\\rho}^{[l]} \\ln \\hat{\\rho}^{[l]})$$\n",
    "\n",
    "其中 $\\hat{\\rho}^{[l]}$ 为第 $l$ 个量子比特对应的约化密度算符\n",
    "\n",
    "两个$S_l = 0$的特殊情况来理解单点纠缠熵：\n",
    "\n",
    "1. 假设第$l$个像素在所有样本中都取同一个值，例如MNIST数据集中处于边缘的像素为一般为黑色，在cos-sin特征映射下对应于$|0\\rangle$，其懒惰态一定具有如下形式\n",
    "   $$|\\psi\\rangle = |0\\rangle|\\psi'\\rangle$$\n",
    "   其中$|\\psi'\\rangle$为除第$l$个量子位外其余量子位对应的某量子态，懒惰态为$|\\psi'\\rangle$与第$l$个量子位的$|0\\rangle$态的直积态。易得，第$l$个量子位对应的约化密度算符满足\n",
    "   $$\\hat{\\rho}^{[l]} = \\text{Tr}_{/l}|\\psi\\rangle\\langle\\psi| = \\langle\\psi'|\\psi'\\rangle|0\\rangle\\langle0| = |0\\rangle\\langle0|$$\n",
    "   第 $l$ 个量子位的单体纠缠熵 $S_l = 0$ 因为单秩矩阵的本征谱为 `[1, 0, 0, ...]`\n",
    "2. 对于某特征，其在各个样本的取值虽然不同，但和其他特征的取值没有关联。例如，考虑黑白图片（即像素取值只能为0或1）数据集，设图片总是以以下方式成对出现在数据集中的，例如设$l = 0$，如果图片$[0,1,1,0,1,0, ... ]$在数据集中，那么我们设图片$[1,1,1,0,1,0, ... ]$也在数据集中。在这种情况下，数据集对应的懒惰态满足\n",
    "   $$|\\psi\\rangle = \\frac{|0\\rangle + |1\\rangle}{\\sqrt{2}}|\\tilde{\\psi}\\rangle$$\n",
    "   此时也有$S_l = 0$，这个性质对于生成式张量网络态也成立。\n",
    "\n",
    "笼统地讲单点纠缠熵的物理意义：\n",
    "* 根据纠缠熵的极小点的性质，当我们使用量子态来表示联合概率分布时，单点纠缠熵 $S_1$ 给出的是测量该量子位能得到的信息增量的下限。\n",
    "* 简而言之，单点纠缠熵在实现特征选择上具有较为明确的量子性的统计意义，并且在张量网络方法的帮助下，其计算比大部分经典特征选择方法更加简洁、高效，并不需要人为设计各种各样的计算策略。"
   ]
  },
  {
   "cell_type": "markdown",
   "metadata": {},
   "source": [
    "#### Code"
   ]
  },
  {
   "cell_type": "code",
   "execution_count": 6,
   "metadata": {},
   "outputs": [],
   "source": [
    "from tensor_network.mps.modules import MPS, MPSType\n",
    "from tensor_network.utils.data import load_mnist_images\n",
    "from typing import List\n",
    "from tensor_network.algorithms.gmps import gmps_classify, train_gmps, eval_nll\n",
    "from tensor_network.feature_mapping import cossin_feature_map\n",
    "from tqdm.auto import tqdm\n",
    "import json"
   ]
  },
  {
   "cell_type": "code",
   "execution_count": 7,
   "metadata": {},
   "outputs": [],
   "source": [
    "# |export mps.modules\n",
    "\n",
    "\n",
    "def _entanglement_entropy_onsite(\n",
    "    self: MPS, indices: List[int] | None = None, eps: float = 1e-10\n",
    ") -> torch.Tensor:\n",
    "    \"\"\"\n",
    "    Calculate the onsite entanglement entropies for qubits at `indices`.\n",
    "\n",
    "    Args:\n",
    "        indices: The indices of the qubits to calculate the entanglement entropies. If `None`, calculate for all qubits.\n",
    "        eps: The small value to avoid log(0). Default is 1e-10.\n",
    "\n",
    "    Returns:\n",
    "        The entanglement entropies for the qubits at `indices`.\n",
    "    \"\"\"\n",
    "    if indices is None:\n",
    "        indices = list(range(self._length))\n",
    "    assert 0 < len(indices) <= self._length, \"indices must be a list of indices in [0, length)\"\n",
    "\n",
    "    rdms = [\n",
    "        self.one_body_reduced_density_matrix(idx=idx, do_tracing=True, inplace_mutation=True)\n",
    "        for idx in indices\n",
    "    ]\n",
    "    rdms = torch.stack(rdms)  # (length, 2, 2)\n",
    "    eigenvalues = torch.linalg.eigvalsh(rdms)  # (length, 2)\n",
    "    probs = eigenvalues / eigenvalues.sum(dim=1, keepdim=True)  # (length, 2)\n",
    "    probs[probs < eps] = eps\n",
    "    entropies = -(probs * torch.log(probs)).sum(dim=1)  # (length,)\n",
    "    return entropies\n",
    "\n",
    "\n",
    "# monkey patch from 4-9.ipynb to avoid code clutter\n",
    "MPS.entanglement_entropy_onsite = _entanglement_entropy_onsite"
   ]
  },
  {
   "cell_type": "code",
   "execution_count": 8,
   "metadata": {},
   "outputs": [],
   "source": [
    "classes = list(range(10))\n",
    "test_device = torch.device(\"cpu\")"
   ]
  },
  {
   "cell_type": "code",
   "execution_count": 9,
   "metadata": {},
   "outputs": [],
   "source": [
    "gmpss = []\n",
    "\n",
    "for train_class in classes:\n",
    "    path = f\"datasets/mps/mnist_{train_class}_mps.safetensors\"\n",
    "    mps = MPS.load_from_safetensors(path, requires_grad=False)\n",
    "    mps.to_(device=test_device)\n",
    "    gmpss.append(mps)\n",
    "\n",
    "onsite_entanglement_entropies = [m.entanglement_entropy_onsite() for m in gmpss]"
   ]
  },
  {
   "cell_type": "markdown",
   "metadata": {},
   "source": [
    "##### Visualization"
   ]
  },
  {
   "cell_type": "code",
   "execution_count": 10,
   "metadata": {},
   "outputs": [
    {
     "data": {
      "image/png": "[encoded data removed]",
      "text/plain": [
       "<Figure size 2000x800 with 11 Axes>"
      ]
     },
     "metadata": {},
     "output_type": "display_data"
    }
   ],
   "source": [
    "# since the cossin feature map gives 2-dimensional feature space\n",
    "max_entropy = torch.log(torch.tensor(2.0))\n",
    "fig, axes = plt.subplots(2, 5, figsize=(20, 8))\n",
    "axes = axes.flatten()\n",
    "\n",
    "for i, entropy in enumerate(onsite_entanglement_entropies):\n",
    "    im = axes[i].imshow(entropy.reshape(28, 28), cmap=\"coolwarm\", vmin=0, vmax=max_entropy)\n",
    "    axes[i].set_title(f\"Digit {i}\")\n",
    "    axes[i].axis(\"off\")\n",
    "\n",
    "# Add a single colorbar for all subplots\n",
    "cbar_ax = fig.add_axes([0.92, 0.15, 0.02, 0.7])\n",
    "fig.colorbar(im, cax=cbar_ax, label=\"Entanglement Entropy\")\n",
    "\n",
    "plt.show()"
   ]
  },
  {
   "cell_type": "markdown",
   "metadata": {},
   "source": [
    "##### Accuracy Comparison"
   ]
  },
  {
   "cell_type": "code",
   "execution_count": 11,
   "metadata": {},
   "outputs": [],
   "source": [
    "cache_path = \"datasets/MNIST\"\n",
    "MNIST_NORMALIZATION = False\n",
    "COSSIN_THETA = 0.5"
   ]
  },
  {
   "cell_type": "code",
   "execution_count": 12,
   "metadata": {},
   "outputs": [],
   "source": [
    "mnist_train_data, mnist_train_labels = load_mnist_images(\n",
    "    cache_path=cache_path,\n",
    "    num=None,\n",
    "    from_subset=\"train\",\n",
    "    shuffle=True,\n",
    "    normalization=MNIST_NORMALIZATION,\n",
    "    return_labels=True,\n",
    ")\n",
    "mnist_test_data, mnist_test_labels = load_mnist_images(\n",
    "    cache_path=cache_path,\n",
    "    num=None,\n",
    "    from_subset=\"test\",\n",
    "    shuffle=False,\n",
    "    normalization=MNIST_NORMALIZATION,\n",
    "    return_labels=True,\n",
    ")\n",
    "\n",
    "mnist_train_data = mnist_train_data.reshape(-1, 28 * 28)\n",
    "mnist_test_data = mnist_test_data.reshape(-1, 28 * 28)\n",
    "\n",
    "mnist_train_data = mnist_train_data.to(device=test_device)\n",
    "mnist_train_data = cossin_feature_map(mnist_train_data, theta=COSSIN_THETA)\n",
    "mnist_test_data = mnist_test_data.to(device=test_device)\n",
    "mnist_test_data = cossin_feature_map(mnist_test_data, theta=COSSIN_THETA)\n",
    "\n",
    "mnist_train_labels = mnist_train_labels.to(device=test_device)\n",
    "mnist_test_labels = mnist_test_labels.to(device=test_device)"
   ]
  },
  {
   "cell_type": "markdown",
   "metadata": {},
   "source": [
    "###### All Features in Training and Inference"
   ]
  },
  {
   "cell_type": "code",
   "execution_count": 13,
   "metadata": {},
   "outputs": [
    {
     "data": {
      "application/vnd.jupyter.widget-view+json": {
       "model_id": "874b20f203494aa780355dbff47408dc",
       "version_major": 2,
       "version_minor": 0
      },
      "text/plain": [
       "  0%|          | 0/10 [00:00<?, ?it/s]"
      ]
     },
     "metadata": {},
     "output_type": "display_data"
    },
    {
     "data": {
      "application/vnd.jupyter.widget-view+json": {
       "model_id": "048540c6c4244ee3b40a58fab494144f",
       "version_major": 2,
       "version_minor": 0
      },
      "text/plain": [
       "  0%|          | 0/10 [00:00<?, ?it/s]"
      ]
     },
     "metadata": {},
     "output_type": "display_data"
    },
    {
     "name": "stdout",
     "output_type": "stream",
     "text": [
      "Train accuracy: 0.9960, Test accuracy: 0.9721\n"
     ]
    }
   ],
   "source": [
    "gmpsc_train_preds = gmps_classify(gmpss, mnist_train_data, show_progress=True)\n",
    "gmpsc_test_preds = gmps_classify(gmpss, mnist_test_data, show_progress=True)\n",
    "gmpsc_train_acc = (gmpsc_train_preds == mnist_train_labels).float().mean()\n",
    "gmpsc_test_acc = (gmpsc_test_preds == mnist_test_labels).float().mean()\n",
    "print(f\"Train accuracy: {gmpsc_train_acc:.4f}, Test accuracy: {gmpsc_test_acc:.4f}\")"
   ]
  },
  {
   "cell_type": "markdown",
   "metadata": {},
   "source": [
    "###### Selected Features in Training and Inference"
   ]
  },
  {
   "cell_type": "code",
   "execution_count": 14,
   "metadata": {},
   "outputs": [],
   "source": [
    "# hyperparameters\n",
    "train_device = torch.device(\"cpu\")\n",
    "lr = 1e-1\n",
    "sweep_times = 10\n",
    "\n",
    "physical_dim = 2  # since we use cossin feature map\n",
    "virtual_dim = 64\n",
    "\n",
    "feature_nums = [15, 20, 50, 100, 200, 300, 400, 500, 600]"
   ]
  },
  {
   "cell_type": "code",
   "execution_count": 15,
   "metadata": {},
   "outputs": [],
   "source": [
    "# Need to use summed OEE across all classes because when doing classification, we don't know which class the data belongs to\n",
    "oee = torch.stack(onsite_entanglement_entropies).to(train_device).sum(dim=0)  # (28*28)\n",
    "feature_indices_sorted_by_oee = torch.argsort(oee, descending=True)  # (28*28)"
   ]
  },
  {
   "cell_type": "code",
   "execution_count": 16,
   "metadata": {},
   "outputs": [
    {
     "data": {
      "application/vnd.jupyter.widget-view+json": {
       "model_id": "ab3614d48f994dffb79cc9a7fc0f3e01",
       "version_major": 2,
       "version_minor": 0
      },
      "text/plain": [
       "  0%|          | 0/9 [00:00<?, ?it/s]"
      ]
     },
     "metadata": {},
     "output_type": "display_data"
    },
    {
     "data": {
      "application/vnd.jupyter.widget-view+json": {
       "model_id": "f1ea7513bc4e444896ede0acb3ce471f",
       "version_major": 2,
       "version_minor": 0
      },
      "text/plain": [
       "  0%|          | 0/10 [00:00<?, ?it/s]"
      ]
     },
     "metadata": {},
     "output_type": "display_data"
    },
    {
     "data": {
      "application/vnd.jupyter.widget-view+json": {
       "model_id": "698f8f80dad84516889a65c18efe717c",
       "version_major": 2,
       "version_minor": 0
      },
      "text/plain": [
       "  0%|          | 0/10 [00:00<?, ?it/s]"
      ]
     },
     "metadata": {},
     "output_type": "display_data"
    },
    {
     "data": {
      "application/vnd.jupyter.widget-view+json": {
       "model_id": "c68f588024984ba7bda10862185f30f9",
       "version_major": 2,
       "version_minor": 0
      },
      "text/plain": [
       "  0%|          | 0/10 [00:00<?, ?it/s]"
      ]
     },
     "metadata": {},
     "output_type": "display_data"
    },
    {
     "data": {
      "application/vnd.jupyter.widget-view+json": {
       "model_id": "70659678d47841d0bd211d2c5448e9ea",
       "version_major": 2,
       "version_minor": 0
      },
      "text/plain": [
       "  0%|          | 0/10 [00:00<?, ?it/s]"
      ]
     },
     "metadata": {},
     "output_type": "display_data"
    },
    {
     "data": {
      "application/vnd.jupyter.widget-view+json": {
       "model_id": "9762aee0b2954e15b8b24d2a66ef7014",
       "version_major": 2,
       "version_minor": 0
      },
      "text/plain": [
       "  0%|          | 0/10 [00:00<?, ?it/s]"
      ]
     },
     "metadata": {},
     "output_type": "display_data"
    },
    {
     "data": {
      "application/vnd.jupyter.widget-view+json": {
       "model_id": "825d62dc1a624458a6e65b5083718148",
       "version_major": 2,
       "version_minor": 0
      },
      "text/plain": [
       "  0%|          | 0/10 [00:00<?, ?it/s]"
      ]
     },
     "metadata": {},
     "output_type": "display_data"
    },
    {
     "data": {
      "application/vnd.jupyter.widget-view+json": {
       "model_id": "0793c737c60549a393353ed4bf84359c",
       "version_major": 2,
       "version_minor": 0
      },
      "text/plain": [
       "  0%|          | 0/10 [00:00<?, ?it/s]"
      ]
     },
     "metadata": {},
     "output_type": "display_data"
    },
    {
     "data": {
      "application/vnd.jupyter.widget-view+json": {
       "model_id": "0fc29ab30c65472fb58dd5bc08874526",
       "version_major": 2,
       "version_minor": 0
      },
      "text/plain": [
       "  0%|          | 0/10 [00:00<?, ?it/s]"
      ]
     },
     "metadata": {},
     "output_type": "display_data"
    },
    {
     "data": {
      "application/vnd.jupyter.widget-view+json": {
       "model_id": "fb8e50c22de3496594d45a693757481b",
       "version_major": 2,
       "version_minor": 0
      },
      "text/plain": [
       "  0%|          | 0/10 [00:00<?, ?it/s]"
      ]
     },
     "metadata": {},
     "output_type": "display_data"
    },
    {
     "data": {
      "application/vnd.jupyter.widget-view+json": {
       "model_id": "a456704a95cc476485f8c2ff78551bc0",
       "version_major": 2,
       "version_minor": 0
      },
      "text/plain": [
       "  0%|          | 0/10 [00:00<?, ?it/s]"
      ]
     },
     "metadata": {},
     "output_type": "display_data"
    },
    {
     "data": {
      "application/vnd.jupyter.widget-view+json": {
       "model_id": "afb29c58cd4e4ff58174a7713965d586",
       "version_major": 2,
       "version_minor": 0
      },
      "text/plain": [
       "  0%|          | 0/10 [00:00<?, ?it/s]"
      ]
     },
     "metadata": {},
     "output_type": "display_data"
    },
    {
     "data": {
      "application/vnd.jupyter.widget-view+json": {
       "model_id": "ea1942f82ea54d73a4c184d01edfacfa",
       "version_major": 2,
       "version_minor": 0
      },
      "text/plain": [
       "  0%|          | 0/10 [00:00<?, ?it/s]"
      ]
     },
     "metadata": {},
     "output_type": "display_data"
    },
    {
     "data": {
      "application/vnd.jupyter.widget-view+json": {
       "model_id": "89d48a9785cf4f9794be502af352cd48",
       "version_major": 2,
       "version_minor": 0
      },
      "text/plain": [
       "  0%|          | 0/10 [00:00<?, ?it/s]"
      ]
     },
     "metadata": {},
     "output_type": "display_data"
    },
    {
     "data": {
      "application/vnd.jupyter.widget-view+json": {
       "model_id": "61b22c523a704c48bebcf8b8b1297b5c",
       "version_major": 2,
       "version_minor": 0
      },
      "text/plain": [
       "  0%|          | 0/10 [00:00<?, ?it/s]"
      ]
     },
     "metadata": {},
     "output_type": "display_data"
    },
    {
     "data": {
      "application/vnd.jupyter.widget-view+json": {
       "model_id": "6cebca4661234303b3714337d4d94c76",
       "version_major": 2,
       "version_minor": 0
      },
      "text/plain": [
       "  0%|          | 0/10 [00:00<?, ?it/s]"
      ]
     },
     "metadata": {},
     "output_type": "display_data"
    },
    {
     "data": {
      "application/vnd.jupyter.widget-view+json": {
       "model_id": "37985831095943a892f253a1a2156036",
       "version_major": 2,
       "version_minor": 0
      },
      "text/plain": [
       "  0%|          | 0/10 [00:00<?, ?it/s]"
      ]
     },
     "metadata": {},
     "output_type": "display_data"
    },
    {
     "data": {
      "application/vnd.jupyter.widget-view+json": {
       "model_id": "43711ad0815745cc9e2849eefc7b7e8f",
       "version_major": 2,
       "version_minor": 0
      },
      "text/plain": [
       "  0%|          | 0/10 [00:00<?, ?it/s]"
      ]
     },
     "metadata": {},
     "output_type": "display_data"
    },
    {
     "data": {
      "application/vnd.jupyter.widget-view+json": {
       "model_id": "3d1827a1ff094f399e227393cebc1026",
       "version_major": 2,
       "version_minor": 0
      },
      "text/plain": [
       "  0%|          | 0/10 [00:00<?, ?it/s]"
      ]
     },
     "metadata": {},
     "output_type": "display_data"
    },
    {
     "data": {
      "application/vnd.jupyter.widget-view+json": {
       "model_id": "1eee060db53a45f7af8e27e4b4dea6f3",
       "version_major": 2,
       "version_minor": 0
      },
      "text/plain": [
       "  0%|          | 0/10 [00:00<?, ?it/s]"
      ]
     },
     "metadata": {},
     "output_type": "display_data"
    },
    {
     "data": {
      "application/vnd.jupyter.widget-view+json": {
       "model_id": "eb1336b061ca412a940f1b81b389d56d",
       "version_major": 2,
       "version_minor": 0
      },
      "text/plain": [
       "  0%|          | 0/10 [00:00<?, ?it/s]"
      ]
     },
     "metadata": {},
     "output_type": "display_data"
    },
    {
     "data": {
      "application/vnd.jupyter.widget-view+json": {
       "model_id": "3c087cf20ad641a595d3acc4218f00c9",
       "version_major": 2,
       "version_minor": 0
      },
      "text/plain": [
       "  0%|          | 0/10 [00:00<?, ?it/s]"
      ]
     },
     "metadata": {},
     "output_type": "display_data"
    },
    {
     "data": {
      "application/vnd.jupyter.widget-view+json": {
       "model_id": "6c48662c1e5841088bf9828851e99663",
       "version_major": 2,
       "version_minor": 0
      },
      "text/plain": [
       "  0%|          | 0/10 [00:00<?, ?it/s]"
      ]
     },
     "metadata": {},
     "output_type": "display_data"
    },
    {
     "data": {
      "application/vnd.jupyter.widget-view+json": {
       "model_id": "16a28068929a4ab085d0f9576c4b9b8f",
       "version_major": 2,
       "version_minor": 0
      },
      "text/plain": [
       "  0%|          | 0/10 [00:00<?, ?it/s]"
      ]
     },
     "metadata": {},
     "output_type": "display_data"
    },
    {
     "data": {
      "application/vnd.jupyter.widget-view+json": {
       "model_id": "a24e812a25384a369d3a14be029936de",
       "version_major": 2,
       "version_minor": 0
      },
      "text/plain": [
       "  0%|          | 0/10 [00:00<?, ?it/s]"
      ]
     },
     "metadata": {},
     "output_type": "display_data"
    },
    {
     "data": {
      "application/vnd.jupyter.widget-view+json": {
       "model_id": "2cc120eb62ea45de8f010b0f2d6fb847",
       "version_major": 2,
       "version_minor": 0
      },
      "text/plain": [
       "  0%|          | 0/10 [00:00<?, ?it/s]"
      ]
     },
     "metadata": {},
     "output_type": "display_data"
    },
    {
     "data": {
      "application/vnd.jupyter.widget-view+json": {
       "model_id": "4b0bd0dd8ea44fb2a257d86745f25642",
       "version_major": 2,
       "version_minor": 0
      },
      "text/plain": [
       "  0%|          | 0/10 [00:00<?, ?it/s]"
      ]
     },
     "metadata": {},
     "output_type": "display_data"
    },
    {
     "data": {
      "application/vnd.jupyter.widget-view+json": {
       "model_id": "efc316b131264c38b823d48464000bc6",
       "version_major": 2,
       "version_minor": 0
      },
      "text/plain": [
       "  0%|          | 0/10 [00:00<?, ?it/s]"
      ]
     },
     "metadata": {},
     "output_type": "display_data"
    },
    {
     "data": {
      "application/vnd.jupyter.widget-view+json": {
       "model_id": "8a61a15de89e4f4a9d9787f0185b8ed2",
       "version_major": 2,
       "version_minor": 0
      },
      "text/plain": [
       "  0%|          | 0/10 [00:00<?, ?it/s]"
      ]
     },
     "metadata": {},
     "output_type": "display_data"
    },
    {
     "data": {
      "application/vnd.jupyter.widget-view+json": {
       "model_id": "487f8245a0de4dc4b200782efeb2d6b5",
       "version_major": 2,
       "version_minor": 0
      },
      "text/plain": [
       "  0%|          | 0/10 [00:00<?, ?it/s]"
      ]
     },
     "metadata": {},
     "output_type": "display_data"
    },
    {
     "data": {
      "application/vnd.jupyter.widget-view+json": {
       "model_id": "22210884f55a4dcdb39718d76ffe6784",
       "version_major": 2,
       "version_minor": 0
      },
      "text/plain": [
       "  0%|          | 0/10 [00:00<?, ?it/s]"
      ]
     },
     "metadata": {},
     "output_type": "display_data"
    },
    {
     "data": {
      "application/vnd.jupyter.widget-view+json": {
       "model_id": "f13ab89718214efbb0becfa13c9f2c36",
       "version_major": 2,
       "version_minor": 0
      },
      "text/plain": [
       "  0%|          | 0/10 [00:00<?, ?it/s]"
      ]
     },
     "metadata": {},
     "output_type": "display_data"
    },
    {
     "data": {
      "application/vnd.jupyter.widget-view+json": {
       "model_id": "b0c525b32e494f54910ac9223192e6a0",
       "version_major": 2,
       "version_minor": 0
      },
      "text/plain": [
       "  0%|          | 0/10 [00:00<?, ?it/s]"
      ]
     },
     "metadata": {},
     "output_type": "display_data"
    },
    {
     "data": {
      "application/vnd.jupyter.widget-view+json": {
       "model_id": "53ada32da88f48188086b528a0428417",
       "version_major": 2,
       "version_minor": 0
      },
      "text/plain": [
       "  0%|          | 0/10 [00:00<?, ?it/s]"
      ]
     },
     "metadata": {},
     "output_type": "display_data"
    },
    {
     "data": {
      "application/vnd.jupyter.widget-view+json": {
       "model_id": "776d898b1a6a4a8d8e206262fc193e44",
       "version_major": 2,
       "version_minor": 0
      },
      "text/plain": [
       "  0%|          | 0/10 [00:00<?, ?it/s]"
      ]
     },
     "metadata": {},
     "output_type": "display_data"
    },
    {
     "data": {
      "application/vnd.jupyter.widget-view+json": {
       "model_id": "2c4ed7087651419f9cf2b54c201acc4c",
       "version_major": 2,
       "version_minor": 0
      },
      "text/plain": [
       "  0%|          | 0/10 [00:00<?, ?it/s]"
      ]
     },
     "metadata": {},
     "output_type": "display_data"
    },
    {
     "data": {
      "application/vnd.jupyter.widget-view+json": {
       "model_id": "c4c72f324ec343c79fb329c388ad96f6",
       "version_major": 2,
       "version_minor": 0
      },
      "text/plain": [
       "  0%|          | 0/10 [00:00<?, ?it/s]"
      ]
     },
     "metadata": {},
     "output_type": "display_data"
    },
    {
     "data": {
      "application/vnd.jupyter.widget-view+json": {
       "model_id": "af1b22ed961d470684090dc220bd7288",
       "version_major": 2,
       "version_minor": 0
      },
      "text/plain": [
       "  0%|          | 0/10 [00:00<?, ?it/s]"
      ]
     },
     "metadata": {},
     "output_type": "display_data"
    },
    {
     "data": {
      "application/vnd.jupyter.widget-view+json": {
       "model_id": "2765cc2022f64161baf18177c4504267",
       "version_major": 2,
       "version_minor": 0
      },
      "text/plain": [
       "  0%|          | 0/10 [00:00<?, ?it/s]"
      ]
     },
     "metadata": {},
     "output_type": "display_data"
    },
    {
     "data": {
      "application/vnd.jupyter.widget-view+json": {
       "model_id": "e4c54199103b4a708009d74d5905c902",
       "version_major": 2,
       "version_minor": 0
      },
      "text/plain": [
       "  0%|          | 0/10 [00:00<?, ?it/s]"
      ]
     },
     "metadata": {},
     "output_type": "display_data"
    },
    {
     "data": {
      "application/vnd.jupyter.widget-view+json": {
       "model_id": "ec96e0d4d7974620a9321321c495b323",
       "version_major": 2,
       "version_minor": 0
      },
      "text/plain": [
       "  0%|          | 0/10 [00:00<?, ?it/s]"
      ]
     },
     "metadata": {},
     "output_type": "display_data"
    },
    {
     "data": {
      "application/vnd.jupyter.widget-view+json": {
       "model_id": "dd09ee4a08364e3a9b051976423055e7",
       "version_major": 2,
       "version_minor": 0
      },
      "text/plain": [
       "  0%|          | 0/10 [00:00<?, ?it/s]"
      ]
     },
     "metadata": {},
     "output_type": "display_data"
    },
    {
     "data": {
      "application/vnd.jupyter.widget-view+json": {
       "model_id": "7728a0760bec4aa29a66319faf3b69d5",
       "version_major": 2,
       "version_minor": 0
      },
      "text/plain": [
       "  0%|          | 0/10 [00:00<?, ?it/s]"
      ]
     },
     "metadata": {},
     "output_type": "display_data"
    },
    {
     "data": {
      "application/vnd.jupyter.widget-view+json": {
       "model_id": "18492f82daa34c76856522fc0e8d05d1",
       "version_major": 2,
       "version_minor": 0
      },
      "text/plain": [
       "  0%|          | 0/10 [00:00<?, ?it/s]"
      ]
     },
     "metadata": {},
     "output_type": "display_data"
    },
    {
     "data": {
      "application/vnd.jupyter.widget-view+json": {
       "model_id": "856ab5c966bd4bf28c005b1507a9e3ce",
       "version_major": 2,
       "version_minor": 0
      },
      "text/plain": [
       "  0%|          | 0/10 [00:00<?, ?it/s]"
      ]
     },
     "metadata": {},
     "output_type": "display_data"
    },
    {
     "data": {
      "application/vnd.jupyter.widget-view+json": {
       "model_id": "404517a9ed65455688022d29fcd0ec1f",
       "version_major": 2,
       "version_minor": 0
      },
      "text/plain": [
       "  0%|          | 0/10 [00:00<?, ?it/s]"
      ]
     },
     "metadata": {},
     "output_type": "display_data"
    },
    {
     "data": {
      "application/vnd.jupyter.widget-view+json": {
       "model_id": "8e5ec7bda7fa4258b9f5bd31f680594a",
       "version_major": 2,
       "version_minor": 0
      },
      "text/plain": [
       "  0%|          | 0/10 [00:00<?, ?it/s]"
      ]
     },
     "metadata": {},
     "output_type": "display_data"
    },
    {
     "data": {
      "application/vnd.jupyter.widget-view+json": {
       "model_id": "179470f2ef2842f7a1917a7f7d0bee01",
       "version_major": 2,
       "version_minor": 0
      },
      "text/plain": [
       "  0%|          | 0/10 [00:00<?, ?it/s]"
      ]
     },
     "metadata": {},
     "output_type": "display_data"
    },
    {
     "data": {
      "application/vnd.jupyter.widget-view+json": {
       "model_id": "06e51218b61e4c90a375121917ead02f",
       "version_major": 2,
       "version_minor": 0
      },
      "text/plain": [
       "  0%|          | 0/10 [00:00<?, ?it/s]"
      ]
     },
     "metadata": {},
     "output_type": "display_data"
    },
    {
     "data": {
      "application/vnd.jupyter.widget-view+json": {
       "model_id": "5ad3ec3463d040b49461fc20b89595b8",
       "version_major": 2,
       "version_minor": 0
      },
      "text/plain": [
       "  0%|          | 0/10 [00:00<?, ?it/s]"
      ]
     },
     "metadata": {},
     "output_type": "display_data"
    },
    {
     "data": {
      "application/vnd.jupyter.widget-view+json": {
       "model_id": "d9c18f000a024b39b622a83f12d9c0f0",
       "version_major": 2,
       "version_minor": 0
      },
      "text/plain": [
       "  0%|          | 0/10 [00:00<?, ?it/s]"
      ]
     },
     "metadata": {},
     "output_type": "display_data"
    },
    {
     "data": {
      "application/vnd.jupyter.widget-view+json": {
       "model_id": "ace086728d99455e956e0dcec8b4aaee",
       "version_major": 2,
       "version_minor": 0
      },
      "text/plain": [
       "  0%|          | 0/10 [00:00<?, ?it/s]"
      ]
     },
     "metadata": {},
     "output_type": "display_data"
    },
    {
     "data": {
      "application/vnd.jupyter.widget-view+json": {
       "model_id": "c58c0b6a60cd401998d4f9b23b611eaf",
       "version_major": 2,
       "version_minor": 0
      },
      "text/plain": [
       "  0%|          | 0/10 [00:00<?, ?it/s]"
      ]
     },
     "metadata": {},
     "output_type": "display_data"
    },
    {
     "data": {
      "application/vnd.jupyter.widget-view+json": {
       "model_id": "8437f350f7794b2497919b5e7e1d0f99",
       "version_major": 2,
       "version_minor": 0
      },
      "text/plain": [
       "  0%|          | 0/10 [00:00<?, ?it/s]"
      ]
     },
     "metadata": {},
     "output_type": "display_data"
    },
    {
     "data": {
      "application/vnd.jupyter.widget-view+json": {
       "model_id": "9fd1ce3afe89481db1efdcb02fc5ee5d",
       "version_major": 2,
       "version_minor": 0
      },
      "text/plain": [
       "  0%|          | 0/10 [00:00<?, ?it/s]"
      ]
     },
     "metadata": {},
     "output_type": "display_data"
    },
    {
     "data": {
      "application/vnd.jupyter.widget-view+json": {
       "model_id": "285ed27956b649f69cc47503d251ad9e",
       "version_major": 2,
       "version_minor": 0
      },
      "text/plain": [
       "  0%|          | 0/10 [00:00<?, ?it/s]"
      ]
     },
     "metadata": {},
     "output_type": "display_data"
    },
    {
     "data": {
      "application/vnd.jupyter.widget-view+json": {
       "model_id": "7913a5278fa24c068c0b1efc5d742169",
       "version_major": 2,
       "version_minor": 0
      },
      "text/plain": [
       "  0%|          | 0/10 [00:00<?, ?it/s]"
      ]
     },
     "metadata": {},
     "output_type": "display_data"
    },
    {
     "data": {
      "application/vnd.jupyter.widget-view+json": {
       "model_id": "c47bc1c4a8eb403fb25de65f71b387e3",
       "version_major": 2,
       "version_minor": 0
      },
      "text/plain": [
       "  0%|          | 0/10 [00:00<?, ?it/s]"
      ]
     },
     "metadata": {},
     "output_type": "display_data"
    },
    {
     "data": {
      "application/vnd.jupyter.widget-view+json": {
       "model_id": "3b14b64342424f03a4885dae3ae5639d",
       "version_major": 2,
       "version_minor": 0
      },
      "text/plain": [
       "  0%|          | 0/10 [00:00<?, ?it/s]"
      ]
     },
     "metadata": {},
     "output_type": "display_data"
    },
    {
     "data": {
      "application/vnd.jupyter.widget-view+json": {
       "model_id": "1a6d05c477ed4565887e7554aed6fea0",
       "version_major": 2,
       "version_minor": 0
      },
      "text/plain": [
       "  0%|          | 0/10 [00:00<?, ?it/s]"
      ]
     },
     "metadata": {},
     "output_type": "display_data"
    },
    {
     "data": {
      "application/vnd.jupyter.widget-view+json": {
       "model_id": "a706f65b372d4a8aac9e2df93adec755",
       "version_major": 2,
       "version_minor": 0
      },
      "text/plain": [
       "  0%|          | 0/10 [00:00<?, ?it/s]"
      ]
     },
     "metadata": {},
     "output_type": "display_data"
    },
    {
     "data": {
      "application/vnd.jupyter.widget-view+json": {
       "model_id": "317a46a0665240f5a60b7fc6b76195ec",
       "version_major": 2,
       "version_minor": 0
      },
      "text/plain": [
       "  0%|          | 0/10 [00:00<?, ?it/s]"
      ]
     },
     "metadata": {},
     "output_type": "display_data"
    },
    {
     "data": {
      "application/vnd.jupyter.widget-view+json": {
       "model_id": "d58f648b5f344374952b49c7663fbfa4",
       "version_major": 2,
       "version_minor": 0
      },
      "text/plain": [
       "  0%|          | 0/10 [00:00<?, ?it/s]"
      ]
     },
     "metadata": {},
     "output_type": "display_data"
    },
    {
     "data": {
      "application/vnd.jupyter.widget-view+json": {
       "model_id": "4d586fb2c84f4f6a8666d562b6811f99",
       "version_major": 2,
       "version_minor": 0
      },
      "text/plain": [
       "  0%|          | 0/10 [00:00<?, ?it/s]"
      ]
     },
     "metadata": {},
     "output_type": "display_data"
    },
    {
     "data": {
      "application/vnd.jupyter.widget-view+json": {
       "model_id": "21de48f7bd944905b593d34d64136507",
       "version_major": 2,
       "version_minor": 0
      },
      "text/plain": [
       "  0%|          | 0/10 [00:00<?, ?it/s]"
      ]
     },
     "metadata": {},
     "output_type": "display_data"
    },
    {
     "data": {
      "application/vnd.jupyter.widget-view+json": {
       "model_id": "8ab2779c1e1e499c8cabe9ffc0211f83",
       "version_major": 2,
       "version_minor": 0
      },
      "text/plain": [
       "  0%|          | 0/10 [00:00<?, ?it/s]"
      ]
     },
     "metadata": {},
     "output_type": "display_data"
    },
    {
     "data": {
      "application/vnd.jupyter.widget-view+json": {
       "model_id": "a2b834fcf3b2471c943e9a6676c7cc18",
       "version_major": 2,
       "version_minor": 0
      },
      "text/plain": [
       "  0%|          | 0/10 [00:00<?, ?it/s]"
      ]
     },
     "metadata": {},
     "output_type": "display_data"
    },
    {
     "data": {
      "application/vnd.jupyter.widget-view+json": {
       "model_id": "e65260b9befd47b2ad0739499c267319",
       "version_major": 2,
       "version_minor": 0
      },
      "text/plain": [
       "  0%|          | 0/10 [00:00<?, ?it/s]"
      ]
     },
     "metadata": {},
     "output_type": "display_data"
    },
    {
     "data": {
      "application/vnd.jupyter.widget-view+json": {
       "model_id": "533c83c39cf44a91b551db07d6991704",
       "version_major": 2,
       "version_minor": 0
      },
      "text/plain": [
       "  0%|          | 0/10 [00:00<?, ?it/s]"
      ]
     },
     "metadata": {},
     "output_type": "display_data"
    },
    {
     "data": {
      "application/vnd.jupyter.widget-view+json": {
       "model_id": "7905c8bedb1846e19c6dc8570cb2882f",
       "version_major": 2,
       "version_minor": 0
      },
      "text/plain": [
       "  0%|          | 0/10 [00:00<?, ?it/s]"
      ]
     },
     "metadata": {},
     "output_type": "display_data"
    },
    {
     "data": {
      "application/vnd.jupyter.widget-view+json": {
       "model_id": "4254471754884814831c639ebcab48e2",
       "version_major": 2,
       "version_minor": 0
      },
      "text/plain": [
       "  0%|          | 0/10 [00:00<?, ?it/s]"
      ]
     },
     "metadata": {},
     "output_type": "display_data"
    },
    {
     "data": {
      "application/vnd.jupyter.widget-view+json": {
       "model_id": "7b61e618b1c9486f831dfd116797c501",
       "version_major": 2,
       "version_minor": 0
      },
      "text/plain": [
       "  0%|          | 0/10 [00:00<?, ?it/s]"
      ]
     },
     "metadata": {},
     "output_type": "display_data"
    },
    {
     "data": {
      "application/vnd.jupyter.widget-view+json": {
       "model_id": "09a5fc7056074927b28beb693fdb3cc3",
       "version_major": 2,
       "version_minor": 0
      },
      "text/plain": [
       "  0%|          | 0/10 [00:00<?, ?it/s]"
      ]
     },
     "metadata": {},
     "output_type": "display_data"
    },
    {
     "data": {
      "application/vnd.jupyter.widget-view+json": {
       "model_id": "4f061b32c6ce4428ad1f57bead811822",
       "version_major": 2,
       "version_minor": 0
      },
      "text/plain": [
       "  0%|          | 0/10 [00:00<?, ?it/s]"
      ]
     },
     "metadata": {},
     "output_type": "display_data"
    },
    {
     "data": {
      "application/vnd.jupyter.widget-view+json": {
       "model_id": "28a63a9930bb42cb984d894443cf2b7b",
       "version_major": 2,
       "version_minor": 0
      },
      "text/plain": [
       "  0%|          | 0/10 [00:00<?, ?it/s]"
      ]
     },
     "metadata": {},
     "output_type": "display_data"
    },
    {
     "data": {
      "application/vnd.jupyter.widget-view+json": {
       "model_id": "917bad3616d6449db667b18cbfef36fa",
       "version_major": 2,
       "version_minor": 0
      },
      "text/plain": [
       "  0%|          | 0/10 [00:00<?, ?it/s]"
      ]
     },
     "metadata": {},
     "output_type": "display_data"
    },
    {
     "data": {
      "application/vnd.jupyter.widget-view+json": {
       "model_id": "21e169d460aa4ebf95d3418cd3c983cf",
       "version_major": 2,
       "version_minor": 0
      },
      "text/plain": [
       "  0%|          | 0/10 [00:00<?, ?it/s]"
      ]
     },
     "metadata": {},
     "output_type": "display_data"
    },
    {
     "data": {
      "application/vnd.jupyter.widget-view+json": {
       "model_id": "3d5949cc405e4d47910654fe9b374086",
       "version_major": 2,
       "version_minor": 0
      },
      "text/plain": [
       "  0%|          | 0/10 [00:00<?, ?it/s]"
      ]
     },
     "metadata": {},
     "output_type": "display_data"
    },
    {
     "data": {
      "application/vnd.jupyter.widget-view+json": {
       "model_id": "cdf0543da5fd450e97369756c4ea7ccd",
       "version_major": 2,
       "version_minor": 0
      },
      "text/plain": [
       "  0%|          | 0/10 [00:00<?, ?it/s]"
      ]
     },
     "metadata": {},
     "output_type": "display_data"
    },
    {
     "data": {
      "application/vnd.jupyter.widget-view+json": {
       "model_id": "f3f2880419784c55928124b5107bb681",
       "version_major": 2,
       "version_minor": 0
      },
      "text/plain": [
       "  0%|          | 0/10 [00:00<?, ?it/s]"
      ]
     },
     "metadata": {},
     "output_type": "display_data"
    },
    {
     "data": {
      "application/vnd.jupyter.widget-view+json": {
       "model_id": "fa5fe408974346dcbb5ceca331b2eb9e",
       "version_major": 2,
       "version_minor": 0
      },
      "text/plain": [
       "  0%|          | 0/10 [00:00<?, ?it/s]"
      ]
     },
     "metadata": {},
     "output_type": "display_data"
    },
    {
     "data": {
      "application/vnd.jupyter.widget-view+json": {
       "model_id": "8a2be10b55e54f648d462fcb1bded6a8",
       "version_major": 2,
       "version_minor": 0
      },
      "text/plain": [
       "  0%|          | 0/10 [00:00<?, ?it/s]"
      ]
     },
     "metadata": {},
     "output_type": "display_data"
    },
    {
     "data": {
      "application/vnd.jupyter.widget-view+json": {
       "model_id": "da1bfc81c34847ccb111542c1956dc9e",
       "version_major": 2,
       "version_minor": 0
      },
      "text/plain": [
       "  0%|          | 0/10 [00:00<?, ?it/s]"
      ]
     },
     "metadata": {},
     "output_type": "display_data"
    },
    {
     "data": {
      "application/vnd.jupyter.widget-view+json": {
       "model_id": "3897d6ce6fda472086b308166672a718",
       "version_major": 2,
       "version_minor": 0
      },
      "text/plain": [
       "  0%|          | 0/10 [00:00<?, ?it/s]"
      ]
     },
     "metadata": {},
     "output_type": "display_data"
    },
    {
     "data": {
      "application/vnd.jupyter.widget-view+json": {
       "model_id": "073fc5b8cea7416db4e1ca832eea292c",
       "version_major": 2,
       "version_minor": 0
      },
      "text/plain": [
       "  0%|          | 0/10 [00:00<?, ?it/s]"
      ]
     },
     "metadata": {},
     "output_type": "display_data"
    },
    {
     "data": {
      "application/vnd.jupyter.widget-view+json": {
       "model_id": "791005c2f6564914bd36a9860ceb34b2",
       "version_major": 2,
       "version_minor": 0
      },
      "text/plain": [
       "  0%|          | 0/10 [00:00<?, ?it/s]"
      ]
     },
     "metadata": {},
     "output_type": "display_data"
    },
    {
     "data": {
      "application/vnd.jupyter.widget-view+json": {
       "model_id": "02ad841a11074c99a07f281d7fa80c59",
       "version_major": 2,
       "version_minor": 0
      },
      "text/plain": [
       "  0%|          | 0/10 [00:00<?, ?it/s]"
      ]
     },
     "metadata": {},
     "output_type": "display_data"
    },
    {
     "data": {
      "application/vnd.jupyter.widget-view+json": {
       "model_id": "4242a584f73f4175acb6a4dc3250f025",
       "version_major": 2,
       "version_minor": 0
      },
      "text/plain": [
       "  0%|          | 0/10 [00:00<?, ?it/s]"
      ]
     },
     "metadata": {},
     "output_type": "display_data"
    },
    {
     "data": {
      "application/vnd.jupyter.widget-view+json": {
       "model_id": "8fe750d043e74598801942fd6f943c83",
       "version_major": 2,
       "version_minor": 0
      },
      "text/plain": [
       "  0%|          | 0/10 [00:00<?, ?it/s]"
      ]
     },
     "metadata": {},
     "output_type": "display_data"
    },
    {
     "data": {
      "application/vnd.jupyter.widget-view+json": {
       "model_id": "e61cc83e7b2e463b81331bb010a1f508",
       "version_major": 2,
       "version_minor": 0
      },
      "text/plain": [
       "  0%|          | 0/10 [00:00<?, ?it/s]"
      ]
     },
     "metadata": {},
     "output_type": "display_data"
    },
    {
     "data": {
      "application/vnd.jupyter.widget-view+json": {
       "model_id": "93c5d3b4cb5646baa85324900acfc8f7",
       "version_major": 2,
       "version_minor": 0
      },
      "text/plain": [
       "  0%|          | 0/10 [00:00<?, ?it/s]"
      ]
     },
     "metadata": {},
     "output_type": "display_data"
    },
    {
     "data": {
      "application/vnd.jupyter.widget-view+json": {
       "model_id": "5dd35dcd338e47719db805c0ff31cd2e",
       "version_major": 2,
       "version_minor": 0
      },
      "text/plain": [
       "  0%|          | 0/10 [00:00<?, ?it/s]"
      ]
     },
     "metadata": {},
     "output_type": "display_data"
    },
    {
     "data": {
      "application/vnd.jupyter.widget-view+json": {
       "model_id": "f03632a8dcd04f83b6ba75daf4ab350a",
       "version_major": 2,
       "version_minor": 0
      },
      "text/plain": [
       "  0%|          | 0/10 [00:00<?, ?it/s]"
      ]
     },
     "metadata": {},
     "output_type": "display_data"
    },
    {
     "data": {
      "application/vnd.jupyter.widget-view+json": {
       "model_id": "a255a29c9f354eea9586e4ac51b4c5fc",
       "version_major": 2,
       "version_minor": 0
      },
      "text/plain": [
       "  0%|          | 0/10 [00:00<?, ?it/s]"
      ]
     },
     "metadata": {},
     "output_type": "display_data"
    },
    {
     "data": {
      "application/vnd.jupyter.widget-view+json": {
       "model_id": "90904e7b7b5d401abb9ee6f6e9bc746d",
       "version_major": 2,
       "version_minor": 0
      },
      "text/plain": [
       "  0%|          | 0/10 [00:00<?, ?it/s]"
      ]
     },
     "metadata": {},
     "output_type": "display_data"
    },
    {
     "data": {
      "application/vnd.jupyter.widget-view+json": {
       "model_id": "cbced6fc662c4893b95b48f8842e0304",
       "version_major": 2,
       "version_minor": 0
      },
      "text/plain": [
       "  0%|          | 0/10 [00:00<?, ?it/s]"
      ]
     },
     "metadata": {},
     "output_type": "display_data"
    },
    {
     "data": {
      "application/vnd.jupyter.widget-view+json": {
       "model_id": "66231684e1f645329e72c42bfce3a3c7",
       "version_major": 2,
       "version_minor": 0
      },
      "text/plain": [
       "  0%|          | 0/10 [00:00<?, ?it/s]"
      ]
     },
     "metadata": {},
     "output_type": "display_data"
    },
    {
     "data": {
      "application/vnd.jupyter.widget-view+json": {
       "model_id": "febf10cb5f5a4a358ce7b9db419d3431",
       "version_major": 2,
       "version_minor": 0
      },
      "text/plain": [
       "  0%|          | 0/10 [00:00<?, ?it/s]"
      ]
     },
     "metadata": {},
     "output_type": "display_data"
    },
    {
     "data": {
      "application/vnd.jupyter.widget-view+json": {
       "model_id": "3e7b0545e29b473da3ad707b5b8e0ac8",
       "version_major": 2,
       "version_minor": 0
      },
      "text/plain": [
       "  0%|          | 0/10 [00:00<?, ?it/s]"
      ]
     },
     "metadata": {},
     "output_type": "display_data"
    },
    {
     "data": {
      "application/vnd.jupyter.widget-view+json": {
       "model_id": "2ad03674ebb44072a560a7be5a4526f5",
       "version_major": 2,
       "version_minor": 0
      },
      "text/plain": [
       "  0%|          | 0/10 [00:00<?, ?it/s]"
      ]
     },
     "metadata": {},
     "output_type": "display_data"
    }
   ],
   "source": [
    "skip_training = True\n",
    "progress_bar = tqdm(feature_nums)\n",
    "\n",
    "for feature_num in progress_bar:\n",
    "    if skip_training:\n",
    "        break\n",
    "    progress_bar.set_description(f\"Training GMPS - {feature_num} features\")\n",
    "    class_progress_bar = tqdm(classes, leave=False)\n",
    "    selected_feature_indices = feature_indices_sorted_by_oee[:feature_num]\n",
    "    for train_class in class_progress_bar:\n",
    "        class_progress_bar.set_description(f\"Class {train_class}\")\n",
    "        # training\n",
    "        gmps_train_data = mnist_train_data[mnist_train_labels == train_class]\n",
    "        gmps_train_data = gmps_train_data[:, selected_feature_indices]\n",
    "        mps = MPS(\n",
    "            length=feature_num,\n",
    "            physical_dim=physical_dim,\n",
    "            virtual_dim=virtual_dim,\n",
    "            mps_type=MPSType.Open,\n",
    "            dtype=torch.float32,\n",
    "            device=train_device,\n",
    "            requires_grad=False,\n",
    "        )\n",
    "        losses, mps = train_gmps(\n",
    "            samples=gmps_train_data,\n",
    "            batch_size=gmps_train_data.shape[0],\n",
    "            mps=mps,\n",
    "            sweep_times=sweep_times,\n",
    "            lr=lr,\n",
    "            device=train_device,\n",
    "            enable_tsgo=True,\n",
    "            progress_bar_kwargs={\"leave\": False},\n",
    "        )\n",
    "        # testing\n",
    "        gmps_test_data = mnist_test_data[mnist_test_labels == train_class]\n",
    "        gmps_test_data = gmps_test_data[:, selected_feature_indices]\n",
    "        train_min_nll = losses.min()\n",
    "        test_nll = eval_nll(samples=gmps_test_data, mps=mps, device=train_device)\n",
    "        # saving\n",
    "        mps_path = f\"datasets/mps/mnist_{train_class}_mps_feature_{feature_num}.safetensors\"\n",
    "        json_path = f\"datasets/mps/mnist_{train_class}_mps_feature_{feature_num}.json\"\n",
    "        metadata = {\n",
    "            \"hyperparameters\": {\n",
    "                \"feature_num\": feature_num,\n",
    "                \"physical_dim\": physical_dim,\n",
    "                \"virtual_dim\": virtual_dim,\n",
    "            },\n",
    "            \"selected_feature_indices\": selected_feature_indices.tolist(),\n",
    "            \"train_min_nll\": train_min_nll.item(),\n",
    "            \"test_nll\": test_nll.item(),\n",
    "        }\n",
    "        with open(json_path, \"w\") as f:\n",
    "            json.dump(metadata, f)\n",
    "        mps.save_to_safetensors(mps_path)"
   ]
  },
  {
   "cell_type": "code",
   "execution_count": 17,
   "metadata": {},
   "outputs": [],
   "source": [
    "gmpss_selected_features = {}\n",
    "\n",
    "for feature_num in feature_nums:\n",
    "    gmps_selected = []\n",
    "    for train_class in classes:\n",
    "        mps_path = f\"datasets/mps/mnist_{train_class}_mps_feature_{feature_num}.safetensors\"\n",
    "        json_path = f\"datasets/mps/mnist_{train_class}_mps_feature_{feature_num}.json\"\n",
    "        with open(json_path, \"r\") as f:\n",
    "            metadata = json.load(f)\n",
    "        mps = MPS.load_from_safetensors(mps_path, requires_grad=False)\n",
    "        mps.to_(device=test_device)\n",
    "        mps.metadata = metadata\n",
    "        gmps_selected.append(mps)\n",
    "    gmpss_selected_features[feature_num] = gmps_selected"
   ]
  },
  {
   "cell_type": "code",
   "execution_count": 18,
   "metadata": {},
   "outputs": [
    {
     "data": {
      "application/vnd.jupyter.widget-view+json": {
       "model_id": "675c86ef1fee4775b95db486eac0e77f",
       "version_major": 2,
       "version_minor": 0
      },
      "text/plain": [
       "  0%|          | 0/9 [00:00<?, ?it/s]"
      ]
     },
     "metadata": {},
     "output_type": "display_data"
    }
   ],
   "source": [
    "gmpss_selected_train_acc = {}\n",
    "gmpss_selected_test_acc = {}\n",
    "\n",
    "for feature_num in tqdm(gmpss_selected_features):\n",
    "    gmps_selected = gmpss_selected_features[feature_num]\n",
    "    selected_feature_indices = torch.tensor(\n",
    "        gmps_selected[0].metadata[\"selected_feature_indices\"], dtype=torch.long, device=test_device\n",
    "    )\n",
    "    train_data_selected = mnist_train_data[:, selected_feature_indices, :]\n",
    "    train_preds = gmps_classify(gmps_selected, train_data_selected, show_progress=False)\n",
    "    train_acc = (train_preds == mnist_train_labels).float().mean()\n",
    "\n",
    "    test_data_selected = mnist_test_data[:, selected_feature_indices, :]\n",
    "    test_preds = gmps_classify(gmps_selected, test_data_selected, show_progress=False)\n",
    "    test_acc = (test_preds == mnist_test_labels).float().mean()\n",
    "    gmpss_selected_train_acc[feature_num] = train_acc\n",
    "    gmpss_selected_test_acc[feature_num] = test_acc\n",
    "\n",
    "gmpss_selected_train_acc[784] = gmpsc_train_acc\n",
    "gmpss_selected_test_acc[784] = gmpsc_test_acc"
   ]
  },
  {
   "cell_type": "code",
   "execution_count": 19,
   "metadata": {},
   "outputs": [
    {
     "data": {
      "image/png": "[encoded data removed]",
      "text/plain": [
       "<Figure size 1000x600 with 1 Axes>"
      ]
     },
     "metadata": {},
     "output_type": "display_data"
    }
   ],
   "source": [
    "selected_feature_nums = list(gmpss_selected_train_acc.keys())\n",
    "train_accuracies = list(gmpss_selected_train_acc.values())\n",
    "test_accuracies = list(gmpss_selected_test_acc.values())\n",
    "\n",
    "plt.figure(figsize=(10, 6))\n",
    "plt.plot(selected_feature_nums, train_accuracies, \"b-\", label=\"Train Accuracy\")\n",
    "plt.plot(selected_feature_nums, test_accuracies, \"r-\", label=\"Test Accuracy\")\n",
    "plt.xlabel(\"Number of Features\")\n",
    "plt.ylabel(\"Accuracy\")\n",
    "plt.title(\"Train and Test Accuracies vs Number of Features\")\n",
    "plt.legend()\n",
    "plt.grid(True)\n",
    "plt.show()"
   ]
  },
  {
   "cell_type": "markdown",
   "metadata": {},
   "source": [
    "###### All Features in Training and Selected Features in Inference"
   ]
  },
  {
   "cell_type": "code",
   "execution_count": 20,
   "metadata": {},
   "outputs": [],
   "source": [
    "import tensor_network.setup_ref_code_import as _\n",
    "from Library.MatrixProductState import generative_MPS\n",
    "from einops import einsum\n",
    "from tensor_network.algorithms.gmps import calc_nll\n",
    "\n",
    "EPS = 1e-14"
   ]
  },
  {
   "cell_type": "code",
   "execution_count": 26,
   "metadata": {},
   "outputs": [],
   "source": [
    "# |export algorithms.gmps\n",
    "\n",
    "\n",
    "def eval_nll_selected_features(\n",
    "    *,\n",
    "    samples: torch.Tensor,\n",
    "    mps: MPS,\n",
    "    indices: List[int] | torch.Tensor,\n",
    "    device: torch.device,\n",
    "    return_avg: bool = True,\n",
    ") -> torch.Tensor:\n",
    "    \"\"\"\n",
    "    Evaluate the negative log likelihood of the MPS, given the feature-mapped samples.\n",
    "\n",
    "    Args:\n",
    "        samples: torch.Tensor, the feature-mapped samples.\n",
    "        mps: MPS, the MPS to evaluate the negative log likelihood of.\n",
    "        indices: the positions of features to be evaluated at.\n",
    "        device: torch.device, the device to evaluate the negative log likelihood on.\n",
    "        return_avg: bool, whether to return the average negative log likelihood.\n",
    "    Returns:\n",
    "        torch.Tensor, the negative log likelihood of the MPS.\n",
    "    \"\"\"\n",
    "    assert samples.ndim == 3  # (dataset_size, feature_num, feature_dim)\n",
    "    assert mps.center is not None\n",
    "    dataset_size, feature_num, _ = samples.shape\n",
    "    assert feature_num == mps.length\n",
    "    assert isinstance(indices, (List, torch.Tensor))\n",
    "    if isinstance(indices, torch.Tensor):\n",
    "        assert indices.ndim == 1\n",
    "        assert indices.dtype == torch.long\n",
    "        assert indices.min() >= 0\n",
    "        assert indices.max() < feature_num\n",
    "        indices = indices.tolist()\n",
    "    list_length = len(indices)\n",
    "    indices = set(indices)\n",
    "    assert len(indices) == list_length, \"indices must be unique\"\n",
    "    # set default device to device\n",
    "    prev_device = torch.get_default_device()\n",
    "    torch.set_default_device(device)\n",
    "    mps_local_tensors = mps.local_tensors\n",
    "    batch_size = dataset_size  # since we do the init NLL evaluation in one go\n",
    "    env_vectors_left = torch.ones(batch_size, 1, 1, dtype=samples.dtype)\n",
    "    env_vectors_right = torch.ones(batch_size, 1, 1, dtype=samples.dtype)\n",
    "    norm_factors = torch.ones(batch_size, feature_num)\n",
    "\n",
    "    def samples_at(idx):\n",
    "        return samples[:, idx, :]  # (batch, feature_dim)\n",
    "\n",
    "    for idx in tqdm(range(mps.center)):\n",
    "        local_tensor_i = mps_local_tensors[\n",
    "            idx\n",
    "        ]  # (left_virtual_dim, physical_dim, right_virtual_dim)\n",
    "        if idx in indices:\n",
    "            new_local_tensor = einsum(\n",
    "                local_tensor_i,\n",
    "                samples_at(idx),\n",
    "                \"left physical right, batch physical -> batch left right\",\n",
    "            )\n",
    "            env_vectors_left = einsum(\n",
    "                new_local_tensor.conj(),\n",
    "                env_vectors_left,\n",
    "                new_local_tensor,\n",
    "                \"batch left_conj right_conj, batch left_conj left, batch left right -> batch right_conj right\",\n",
    "            )\n",
    "        else:\n",
    "            env_vectors_left = einsum(\n",
    "                local_tensor_i.conj(),\n",
    "                env_vectors_left,\n",
    "                local_tensor_i,\n",
    "                \"left_conj physical right_conj, batch left_conj left, left physical right -> batch right_conj right\",\n",
    "            )\n",
    "\n",
    "        norm = env_vectors_left.norm(dim=[1, 2])  # (batch)\n",
    "        norm_factors[:, idx] = norm\n",
    "        env_vectors_left = env_vectors_left / (norm.reshape(batch_size, 1, 1) + EPS)\n",
    "\n",
    "    for idx in tqdm(range(feature_num - 1, mps.center, -1)):\n",
    "        local_tensor_i = mps_local_tensors[\n",
    "            idx\n",
    "        ]  # (left_virtual_dim, physical_dim, right_virtual_dim)\n",
    "        if idx in indices:\n",
    "            new_local_tensor = einsum(\n",
    "                local_tensor_i,\n",
    "                samples_at(idx),\n",
    "                \"left physical right, batch physical -> batch left right\",\n",
    "            )\n",
    "            env_vectors_right = einsum(\n",
    "                new_local_tensor.conj(),\n",
    "                env_vectors_right,\n",
    "                new_local_tensor,\n",
    "                \"batch left_conj right_conj, batch right_conj right, batch left right -> batch left_conj left\",\n",
    "            )\n",
    "        else:\n",
    "            env_vectors_right = einsum(\n",
    "                local_tensor_i.conj(),\n",
    "                env_vectors_right,\n",
    "                local_tensor_i,\n",
    "                \"left_conj physical right_conj, batch right_conj right, left physical right -> batch left_conj left\",\n",
    "            )\n",
    "\n",
    "        norm = env_vectors_right.norm(dim=[1, 2])  # (batch)\n",
    "        norm_factors[:, idx] = norm\n",
    "        env_vectors_right = env_vectors_right / (norm.reshape(batch_size, 1, 1) + EPS)\n",
    "\n",
    "    center_tensor = mps_local_tensors[\n",
    "        mps.center\n",
    "    ]  # (left_virtual_dim, physical_dim, right_virtual_dim)\n",
    "    if mps.center in indices:\n",
    "        new_center_tensor = einsum(\n",
    "            center_tensor,\n",
    "            samples_at(mps.center),\n",
    "            \"left physical right, batch physical -> batch left right\",\n",
    "        )\n",
    "        norm = einsum(\n",
    "            env_vectors_left,\n",
    "            new_center_tensor.conj(),\n",
    "            new_center_tensor,\n",
    "            env_vectors_right,\n",
    "            \"batch left_conj left, batch left_conj right_conj, batch left right, batch right_conj right -> batch\",\n",
    "        ).abs()\n",
    "    else:\n",
    "        norm = einsum(\n",
    "            center_tensor.conj(),\n",
    "            center_tensor,\n",
    "            env_vectors_left,\n",
    "            env_vectors_right,\n",
    "            \"left_conj physical right_conj, left physical right, batch left_conj left, batch right_conj right -> batch\",\n",
    "        ).abs()\n",
    "    norm_factors[:, mps.center] = norm\n",
    "    if return_avg:\n",
    "        nll = calc_nll(norm_factors).mean()\n",
    "    else:\n",
    "        nll = calc_nll(norm_factors)  # (batch)\n",
    "    # restore the default device\n",
    "    torch.set_default_device(prev_device)\n",
    "    return nll"
   ]
  },
  {
   "cell_type": "code",
   "execution_count": 22,
   "metadata": {},
   "outputs": [],
   "source": [
    "import random\n",
    "\n",
    "\n",
    "def rand_indices(num: int, max_val: int) -> torch.Tensor:\n",
    "    return torch.tensor(random.sample(range(max_val), num), dtype=torch.long)"
   ]
  },
  {
   "cell_type": "code",
   "execution_count": null,
   "metadata": {},
   "outputs": [],
   "source": [
    "nll_all_ref = eval_nll(samples=mnist_train_data, mps=gmpss[0], device=test_device, return_avg=False)\n",
    "nll_all = eval_nll_selected_features(\n",
    "    samples=mnist_train_data,\n",
    "    mps=gmpss[0],\n",
    "    indices=list(range(gmpss[0].length)),\n",
    "    device=test_device,\n",
    "    return_avg=False,\n",
    ")\n",
    "# TODO: check this and fix performance issue\n",
    "assert torch.allclose(nll_all_ref, nll_all)"
   ]
  },
  {
   "cell_type": "code",
   "execution_count": null,
   "metadata": {},
   "outputs": [],
   "source": [
    "my_gmps = gmpss[0]\n",
    "tensors = [t.clone() for t in my_gmps.local_tensors]\n",
    "ref_gmps = generative_MPS(tensors=tensors)\n",
    "feature_num = my_gmps.length\n",
    "physical_dim = 2\n",
    "indices_num = 10\n",
    "sample_num = 20\n",
    "\n",
    "for _ in range(5):\n",
    "    selected_indices = rand_indices(indices_num, feature_num)\n",
    "    test_samples = mnist_train_data[rand_indices(sample_num, mnist_train_data.shape[0])]\n",
    "    assert test_samples.shape == (sample_num, feature_num, physical_dim)\n",
    "    ref_test_samples = test_samples.permute(0, 2, 1)  # (sample_num, physical_dim, feature_num)\n",
    "    ref_nll = ref_gmps.evaluate_nll_selected_features(\n",
    "        ref_test_samples, selected_indices, average=False\n",
    "    )\n",
    "    my_nll = eval_nll_selected_features(test_samples, my_gmps, selected_indices, return_avg=False)\n",
    "    assert torch.allclose(ref_nll, my_nll)"
   ]
  }
 ],
 "metadata": {
  "kernelspec": {
   "display_name": ".venv",
   "language": "python",
   "name": "python3"
  },
  "language_info": {
   "codemirror_mode": {
    "name": "ipython",
    "version": 3
   },
   "file_extension": ".py",
   "mimetype": "text/x-python",
   "name": "python",
   "nbconvert_exporter": "python",
   "pygments_lexer": "ipython3",
   "version": "3.12.9"
  }
 },
 "nbformat": 4,
 "nbformat_minor": 2
}
