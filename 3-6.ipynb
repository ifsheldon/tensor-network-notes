{
 "cells": [
  {
   "cell_type": "markdown",
   "metadata": {},
   "source": [
    "# 3.6: 量子递归神经网络(QRNN)实现时序预测\n",
    "\n",
    "## 时序预测\n",
    "时序预测问题：考虑长度为 $\\tilde{T}$ 的一段含时序列 ${x_t}$ $(t = 0,1,...,\\tilde{T}-1)$，目标是已知长度为 $L$ 的一段序列 $(x_\\tau, x_{\\tau+1},...,x_{\\tau+L-1})$ (其中 $\\tau$ 的取值范围满足 $0 \\leq \\tau \\leq \\tilde{T}-L$)，预测下一时刻的取值 $x_{\\tau+L}$\n",
    "\n",
    "每个时刻的取值 $x_t$ 可以为一个数(标量)，例如单只股票的股价，也可以是多个值(向量)，例如多只股票的股价或物体运动的三维空间坐标等\n",
    "\n",
    "### 测试集\n",
    "\n",
    "时序预测任务的训练集、测试集定义：\n",
    "\n",
    "* 数据集分割：前 $T$ 个时序构成训练集，剩余的数据构成测试集；\n",
    "* 样本：第 $p$ 个样本定义为时序的切片 $x_{\\tau:\\tau+L-1}$（$L$ 为每个样本的长度，$\\tau$ 的取值范围为 $0 \\leq \\tau \\leq T-L-1$）\n",
    "\n",
    "## QRNN\n",
    "\n",
    "### Classical Recurrent Neural Network\n",
    "![classical-rnn](./images/classical_rnn_architecture.png)\n",
    "\n",
    "> 映射函数形式上可写为：$f(x_t,h_{t-1}|W) \\rightarrow y_t,h_t$\n",
    ">\n",
    ">（其中$h_{t-1}$为隐藏层变量、$y_t$为输出、$W$为变分参数）\n",
    ">\n",
    "> 可取$x_{T+L} = y_{T+L-1}$作为预测结果。\n",
    "\n",
    "### Quantum Recurrent Neural Network\n",
    "![qrnn-architecture](./images/qrnn_architecture.png)\n",
    "\n",
    "> $\\hat{U}$ 可以是 AQDC 网络\n",
    "\n",
    "**辅助量子位** (ancillary qubit): 其作用类似于RNN中的隐藏变量;\n",
    "\n",
    "**特征量子位** (feature qubit): 用于将时序数据的信息传递给QRNN模型，并通过对该量子位的测量获得最终关于$x_{t+L}$预测。\n",
    "\n",
    "#### 训练流程\n",
    "\n",
    "![qrnn-process](./images/qrnn_process.png)\n",
    "\n",
    "##### 信息读取、测量与后选择\n",
    "\n",
    "计算特征量子位处于$|0\\rangle$态的概率 $p_0 = \\langle0|\\hat{\\rho}^{[0]}|0\\rangle$\n",
    "\n",
    "> 其中约化密度矩阵 $\\hat{\\rho}^{[0]} = \\text{Tr}/0|\\psi_i'\\rangle\\langle\\psi_i'|$\n",
    "\n",
    "根据需要，可在每次ADQC演化后读取信息（时序到时序的映射任务），也可在 L 次ADQC演化后读取（预测任务）\n",
    "\n",
    "对特征量子位进行测量，通过后选择将其投影到$|0\\rangle$，所得量子态满足\n",
    "\n",
    "$|\\gamma_l\\rangle = \\frac{1}{Z_l} N_a \\langle0|\\psi_l\\rangle$\n",
    "\n",
    "> 其中，归一化系数$Z_l = |N_a\\langle0|\\psi'_l\\rangle|$\n",
    "\n",
    "> 关于\"后选择\"\n",
    ">\n",
    "> * 在实际的量子计算过程中，由于测量结果是随机出现的，我们可以人为的保留\"0\"这个测量结果对应的量子态，以此实现投影操作。\n",
    ">   * 量子计算中可以制备多个相同的量子态，RNN 每次（中间）测量的时候，特征量子位都可能出现 0 或者 1，那么要保留特征量子位为 0 的量子态，然后继续演化\n",
    ">   * Seq-to-Seq 中，后选择有不同的做法\n",
    ">\n",
    "> * 在数值模拟上，不存在后选择操作，直接切片或计算投影即可"
   ]
  },
  {
   "cell_type": "markdown",
   "metadata": {},
   "source": [
    "## Code"
   ]
  },
  {
   "cell_type": "code",
   "execution_count": 1,
   "metadata": {},
   "outputs": [],
   "source": [
    "# |default_exp networks.qrnn\n",
    "# |export\n",
    "import torch\n",
    "\n",
    "# useful devices\n",
    "gpu = torch.device(\"mps\")\n",
    "cpu = torch.device(\"cpu\")"
   ]
  },
  {
   "cell_type": "markdown",
   "metadata": {},
   "source": [
    "### Network"
   ]
  },
  {
   "cell_type": "code",
   "execution_count": 2,
   "metadata": {},
   "outputs": [],
   "source": [
    "# |export\n",
    "from typing import Literal\n",
    "from tensor_network.networks.adqc import ADQCNet\n",
    "from tensor_network.tensor_utils import zeros_state\n",
    "from einops import einsum, rearrange\n",
    "from torch import nn\n",
    "from tensor_network.feature_mapping import cossin_feature_map\n",
    "import sys\n",
    "\n",
    "\n",
    "class ADQCRNN(nn.Module):\n",
    "    \"\"\"\n",
    "    ADQC-based QuantumRecurrent Neural Network\n",
    "\n",
    "    The ADQCRNN processes sequential data by maintaining a quantum state across time steps.\n",
    "    At each step, it encodes the input features into quantum states, combines them with\n",
    "    the auxiliary qubits, and applies the ADQC network to update the state.\n",
    "    \"\"\"\n",
    "\n",
    "    def __init__(\n",
    "        self,\n",
    "        *,\n",
    "        num_aux_qubits: int,\n",
    "        num_feature_qubits: int,\n",
    "        num_layers: int,\n",
    "        gate_pattern: Literal[\"brick\", \"stair\"],\n",
    "        identity_init: bool = False,\n",
    "        double_precision: bool = False,\n",
    "        feature_map: Literal[\"cossin\"] = \"cossin\",\n",
    "    ):\n",
    "        \"\"\"\n",
    "        ADQC-based QuantumRecurrent Neural Network\n",
    "\n",
    "        Args:\n",
    "            num_aux_qubits: Number of auxiliary qubits in the ADQC network\n",
    "            num_feature_qubits: Number of feature qubits (should match the feature dimension of input data)\n",
    "            num_layers: Number of layers in the ADQC network\n",
    "            gate_pattern: Pattern of gate connections, either \"brick\" or \"stair\"\n",
    "            identity_init: Whether to initialize gates close to identity matrices\n",
    "            double_precision: Whether to use double precision (complex128) or single precision (complex64)\n",
    "            feature_map: Type of feature map to use for encoding classical data into quantum states\n",
    "                         Currently only \"cossin\" is implemented\n",
    "\n",
    "        \"\"\"\n",
    "        super().__init__()\n",
    "        assert num_aux_qubits > 0\n",
    "        assert num_feature_qubits > 0\n",
    "        assert num_layers > 0\n",
    "        assert gate_pattern in [\"brick\", \"stair\"]\n",
    "        self.num_aux_qubits = num_aux_qubits\n",
    "        self.num_feature_qubits = num_feature_qubits\n",
    "        self.net = ADQCNet(\n",
    "            num_qubits=num_aux_qubits + num_feature_qubits,\n",
    "            num_layers=num_layers,\n",
    "            gate_pattern=gate_pattern,\n",
    "            identity_init=identity_init,\n",
    "            double_precision=double_precision,\n",
    "        )\n",
    "        self.complex_dtype = torch.complex128 if double_precision else torch.complex64\n",
    "        if feature_map == \"cossin\":\n",
    "            self.feature_map = cossin_feature_map\n",
    "            self.feature_map_compiled = torch.compile(self.feature_map)\n",
    "        else:\n",
    "            raise Exception(f\"The only implemented feature map is cossin, but got {feature_map}\")\n",
    "\n",
    "    def forward(self, data_batch: torch.Tensor) -> torch.Tensor:\n",
    "        # data_batch shape: (batch_size, sample_length, feature_dim)\n",
    "        assert len(data_batch.shape) == 3, (\n",
    "            f\"data_batch must be a 3D tensor of shape (batch_size, sample_length, feature_dim), but got {len(data_batch.shape)}\"\n",
    "        )\n",
    "        batch_size, sample_length, feature_dim = data_batch.shape\n",
    "        device = data_batch.device\n",
    "        is_mps = device.type == \"mps\"\n",
    "        assert feature_dim == self.num_feature_qubits, (\n",
    "            f\"feature_dim must be equal to the number of feature qubits, but got {feature_dim=} and {self.num_feature_qubits=}\"\n",
    "        )\n",
    "\n",
    "        aux_qubit_states = zeros_state(num_qubits=self.num_aux_qubits, dtype=self.complex_dtype).to(\n",
    "            device\n",
    "        )  # (*aux_qubit_dims)\n",
    "        aux_qubit_states = torch.stack(\n",
    "            [aux_qubit_states] * batch_size, dim=0\n",
    "        )  # (batch_size, *aux_qubit_dims)\n",
    "        aux_qubit_states_shape = aux_qubit_states.shape\n",
    "        batch_dim_name = \"batch\"\n",
    "        aux_qubit_names = [f\"a{i}\" for i in range(self.num_aux_qubits)]\n",
    "        feature_qubit_names = [f\"f{i}\" for i in range(self.num_feature_qubits)]\n",
    "        qubit_cross_product_expression = \"{aux_dims}, {feature_dims} -> {state_dims}\".format(\n",
    "            aux_dims=\" \".join([batch_dim_name] + aux_qubit_names),\n",
    "            feature_dims=\" \".join([batch_dim_name] + feature_qubit_names),\n",
    "            state_dims=\" \".join([batch_dim_name] + aux_qubit_names + feature_qubit_names),\n",
    "        )\n",
    "        projected_feature_state = [0] * self.num_feature_qubits\n",
    "\n",
    "        for t in range(sample_length):\n",
    "            if is_mps:\n",
    "                features = self.feature_map(data_batch[:, t, :])  # (batch_size, feature_dim, 2)\n",
    "            else:\n",
    "                features = self.feature_map_compiled(\n",
    "                    data_batch[:, t, :]\n",
    "                )  # (batch_size, feature_dim, 2)\n",
    "            features = [features[:, i, :] for i in range(feature_dim)]\n",
    "            feature_qubit_states = einsum(\n",
    "                *features,\n",
    "                \"{feature_vecs} -> {feature_state}\".format(\n",
    "                    feature_vecs=\",\".join(\n",
    "                        f\"{batch_dim_name} {name}\" for name in feature_qubit_names\n",
    "                    ),\n",
    "                    feature_state=\" \".join([batch_dim_name] + feature_qubit_names),\n",
    "                ),\n",
    "            )  # (batch_size, *feature_qubit_dims)\n",
    "\n",
    "            states = einsum(\n",
    "                aux_qubit_states, feature_qubit_states, qubit_cross_product_expression\n",
    "            )  # (batch_size, *aux_qubit_dims, *feature_qubit_dims)\n",
    "            states = self.net(states)  # (batch_size, *aux_qubit_dims, *feature_qubit_dims)\n",
    "            states = rearrange(\n",
    "                states,\n",
    "                \"batch {aux_dims} {feature_dims} -> {feature_dims} batch {aux_dims} \".format(\n",
    "                    aux_dims=\" \".join(aux_qubit_names),\n",
    "                    feature_dims=\" \".join(feature_qubit_names),\n",
    "                ),\n",
    "            )  # (*feature_qubit_dims, batch_size, *aux_qubit_dims)\n",
    "            # projection\n",
    "            projected_aux_qubit_states = states[\n",
    "                *projected_feature_state\n",
    "            ]  # (batch_size, *aux_qubit_dims)\n",
    "            projected_aux_qubit_states = projected_aux_qubit_states.reshape(\n",
    "                batch_size, -1\n",
    "            )  # (batch_size, 2**num_aux_qubits)\n",
    "            if is_mps:\n",
    "                # see https://github.com/pytorch/pytorch/issues/146691\n",
    "                norms = (\n",
    "                    (projected_aux_qubit_states * projected_aux_qubit_states.conj())\n",
    "                    .real.sum(dim=1, keepdim=True)\n",
    "                    .sqrt()\n",
    "                )  # (batch_size, 1)\n",
    "            else:\n",
    "                norms = projected_aux_qubit_states.norm(dim=1, keepdim=True)  # (batch_size, 1)\n",
    "            projected_aux_qubit_states = (\n",
    "                projected_aux_qubit_states / norms\n",
    "            )  # (batch_size, 2**num_aux_qubits)\n",
    "            # finished one step and set the aux_qubit_states for the next step\n",
    "            aux_qubit_states = projected_aux_qubit_states.reshape(\n",
    "                aux_qubit_states_shape\n",
    "            )  # (batch_size, *aux_qubit_dims)\n",
    "\n",
    "        # the norm of the projected_aux_qubit_states is the probability of the projected feature state\n",
    "        prob_of_projected_feature_state = norms.squeeze(1)  # (batch_size,)\n",
    "        return prob_of_projected_feature_state"
   ]
  },
  {
   "cell_type": "markdown",
   "metadata": {},
   "source": [
    "### Hyperparameters"
   ]
  },
  {
   "cell_type": "code",
   "execution_count": 3,
   "metadata": {},
   "outputs": [],
   "source": [
    "# data parameters\n",
    "series_length = 500\n",
    "order = 8\n",
    "train_ratio = 0.8\n",
    "train_data_num = int(train_ratio * series_length)\n",
    "sample_length = 4\n",
    "\n",
    "\n",
    "# network parameters\n",
    "num_aux_qubits = 4\n",
    "num_feature_qubits = 1\n",
    "num_layers = 4\n",
    "gate_pattern = \"brick\"\n",
    "identity_init = False\n",
    "double_precision = False\n",
    "\n",
    "# training parameters\n",
    "default_device = cpu\n",
    "batch_size = 50\n",
    "epochs = 1000\n",
    "lr = 1e-3"
   ]
  },
  {
   "cell_type": "markdown",
   "metadata": {},
   "source": [
    "### Data Preparation"
   ]
  },
  {
   "cell_type": "code",
   "execution_count": 4,
   "metadata": {},
   "outputs": [],
   "source": [
    "from matplotlib import pyplot as plt\n",
    "from tensor_network.tensor_utils import normalize_tensor\n",
    "from torch.utils.data import DataLoader, TensorDataset"
   ]
  },
  {
   "cell_type": "code",
   "execution_count": 5,
   "metadata": {},
   "outputs": [],
   "source": [
    "# |export\n",
    "def series_sin_cos(\n",
    "    length: int, coeff_sin: torch.Tensor, coeff_cos: torch.Tensor, k_step: float = 0.02\n",
    ") -> torch.Tensor:\n",
    "    assert coeff_sin.ndim == 1 and coeff_cos.ndim == 1\n",
    "    assert coeff_sin.numel() == coeff_cos.numel()\n",
    "    assert coeff_sin.device == coeff_cos.device\n",
    "    order = coeff_sin.numel()\n",
    "    device = coeff_sin.device\n",
    "    time_steps = torch.arange(length, device=device)  # (length,)\n",
    "    time_steps = time_steps.unsqueeze(0)  # (1, length)\n",
    "    coeff_sin = coeff_sin.unsqueeze(1)  # (order, 1)\n",
    "    coeff_cos = coeff_cos.unsqueeze(1)  # (order, 1)\n",
    "    orders = torch.arange(order, device=device).unsqueeze(1)  # (order, 1)\n",
    "    y_sin = torch.sin(time_steps * (orders * k_step)) * coeff_sin  # (order, length)\n",
    "    y_sin = y_sin.sum(dim=0)  # (length,)\n",
    "    y_cos = torch.cos(time_steps * (orders * k_step)) * coeff_cos  # (order, length)\n",
    "    y_cos = y_cos.sum(dim=0)  # (length,)\n",
    "    series = y_sin + y_cos  # (length,)\n",
    "    return series"
   ]
  },
  {
   "cell_type": "code",
   "execution_count": 6,
   "metadata": {},
   "outputs": [
    {
     "data": {
      "image/png": "[encoded data removed]",
      "text/plain": [
       "<Figure size 640x480 with 1 Axes>"
      ]
     },
     "metadata": {},
     "output_type": "display_data"
    }
   ],
   "source": [
    "coeff_sin = torch.randn(order, device=gpu)\n",
    "coeff_cos = torch.randn(order, device=gpu)\n",
    "series = series_sin_cos(series_length, coeff_sin, coeff_cos)\n",
    "series = normalize_tensor(series).to(default_device)\n",
    "\n",
    "train_series = series[:train_data_num]\n",
    "test_series = series[train_data_num:]\n",
    "\n",
    "# Visualize the training and testing data\n",
    "\n",
    "train_indices = list(range(train_data_num))\n",
    "test_indices = list(range(train_data_num - 1, series_length, 1))\n",
    "\n",
    "plt.plot(train_indices, series[:train_data_num].cpu(), label=\"training data\")\n",
    "plt.plot(test_indices, series[train_data_num - 1 :].cpu(), color=\"r\", label=\"testing data\")\n",
    "plt.legend()\n",
    "plt.xlabel(\"time step\")\n",
    "plt.ylabel(\"value\")\n",
    "plt.title(\"Time series to be learnt\")\n",
    "plt.show()"
   ]
  },
  {
   "cell_type": "code",
   "execution_count": 7,
   "metadata": {},
   "outputs": [],
   "source": [
    "# |export\n",
    "def prepare_series_samples(\n",
    "    series: torch.Tensor, sample_length: int, step_size: int\n",
    ") -> torch.Tensor:\n",
    "    assert sample_length >= step_size >= 1\n",
    "    length = series.shape[0]\n",
    "    assert length >= sample_length\n",
    "    samples = []\n",
    "    for start in range(0, length - sample_length, step_size):\n",
    "        sample = series[start : start + sample_length]\n",
    "        samples.append(sample)\n",
    "\n",
    "    return torch.stack(samples, dim=0)"
   ]
  },
  {
   "cell_type": "code",
   "execution_count": 8,
   "metadata": {},
   "outputs": [],
   "source": [
    "train_samples = prepare_series_samples(train_series, sample_length + 1, 2)\n",
    "train_data = train_samples[:, :sample_length]  # (num_samples, sample_length)\n",
    "train_targets = train_samples[:, sample_length]  # (num_samples,)\n",
    "train_loader = DataLoader(\n",
    "    TensorDataset(train_data, train_targets), batch_size=batch_size, shuffle=True\n",
    ")\n",
    "\n",
    "test_samples = prepare_series_samples(test_series, sample_length + 1, 1)\n",
    "test_data = test_samples[:, :sample_length]  # (num_samples, sample_length)\n",
    "test_targets = test_samples[:, sample_length]  # (num_samples,)\n",
    "test_loader = DataLoader(\n",
    "    TensorDataset(test_data, test_targets), batch_size=batch_size, shuffle=False\n",
    ")"
   ]
  },
  {
   "cell_type": "markdown",
   "metadata": {},
   "source": [
    "### Training"
   ]
  },
  {
   "cell_type": "code",
   "execution_count": 9,
   "metadata": {},
   "outputs": [],
   "source": [
    "from torch.optim import Adam\n",
    "from tqdm.auto import tqdm"
   ]
  },
  {
   "cell_type": "code",
   "execution_count": 10,
   "metadata": {},
   "outputs": [],
   "source": [
    "qrnn_net = ADQCRNN(\n",
    "    num_aux_qubits=num_aux_qubits,\n",
    "    num_feature_qubits=num_feature_qubits,\n",
    "    num_layers=num_layers,\n",
    "    gate_pattern=gate_pattern,\n",
    "    identity_init=identity_init,\n",
    "    double_precision=double_precision,\n",
    ").to(default_device)\n",
    "\n",
    "optimizer = Adam(qrnn_net.parameters(), lr=lr)\n",
    "loss = nn.MSELoss()"
   ]
  },
  {
   "cell_type": "code",
   "execution_count": 11,
   "metadata": {},
   "outputs": [
    {
     "data": {
      "application/vnd.jupyter.widget-view+json": {
       "model_id": "f48f663243cf4b4f80407013626432d4",
       "version_major": 2,
       "version_minor": 0
      },
      "text/plain": [
       "  0%|          | 0/1000 [00:00<?, ?it/s]"
      ]
     },
     "metadata": {},
     "output_type": "display_data"
    }
   ],
   "source": [
    "training_losses = torch.empty(epochs, device=cpu)\n",
    "\n",
    "for epoch in tqdm(range(epochs)):\n",
    "    epoch_loss = 0.0\n",
    "    for samples, targets in train_loader:\n",
    "        # because the feature_dim is 1\n",
    "        samples = samples.to(default_device).unsqueeze(-1)  # (batch_size, sample_length, 1)\n",
    "        targets = targets.to(default_device)\n",
    "        norms = qrnn_net(samples)\n",
    "        loss_batch = loss(norms, targets)\n",
    "        epoch_loss += loss_batch.detach().cpu() * samples.shape[0]\n",
    "        loss_batch.backward()\n",
    "        optimizer.step()\n",
    "        optimizer.zero_grad()\n",
    "    training_losses[epoch] = epoch_loss / train_data_num"
   ]
  },
  {
   "cell_type": "code",
   "execution_count": 12,
   "metadata": {},
   "outputs": [
    {
     "name": "stdout",
     "output_type": "stream",
     "text": [
      "torch.Size([50, 4, 1])\n",
      "torch.Size([50])\n"
     ]
    }
   ],
   "source": [
    "test_loss = 0.0\n",
    "with torch.no_grad():\n",
    "    for samples, targets in test_loader:\n",
    "        samples = samples.to(default_device).unsqueeze(-1)\n",
    "        targets = targets.to(default_device)\n",
    "        print(samples.shape)\n",
    "        print(targets.shape)\n",
    "        norms = qrnn_net(samples)\n",
    "        loss_batch = loss(norms, targets)\n",
    "        test_loss += loss_batch.detach().cpu() * samples.shape[0]\n",
    "        break\n",
    "test_loss /= series_length - train_data_num"
   ]
  },
  {
   "cell_type": "code",
   "execution_count": 13,
   "metadata": {},
   "outputs": [
    {
     "data": {
      "image/png": "[encoded data removed]",
      "text/plain": [
       "<Figure size 640x480 with 1 Axes>"
      ]
     },
     "metadata": {},
     "output_type": "display_data"
    }
   ],
   "source": [
    "plt.plot(training_losses, label=\"training loss\")\n",
    "# plot test loss as a horizontal line\n",
    "plt.axhline(test_loss, color=\"r\", label=\"testing loss\")\n",
    "plt.legend()\n",
    "plt.xlabel(\"epoch\")\n",
    "plt.ylabel(\"loss\")\n",
    "plt.title(\"Training and testing loss\")\n",
    "plt.show()"
   ]
  },
  {
   "cell_type": "code",
   "execution_count": 14,
   "metadata": {},
   "outputs": [],
   "source": [
    "# TODO: plot the predicted results by plotting the predicted curve"
   ]
  }
 ],
 "metadata": {
  "kernelspec": {
   "display_name": ".venv",
   "language": "python",
   "name": "python3"
  },
  "language_info": {
   "codemirror_mode": {
    "name": "ipython",
    "version": 3
   },
   "file_extension": ".py",
   "mimetype": "text/x-python",
   "name": "python",
   "nbconvert_exporter": "python",
   "pygments_lexer": "ipython3",
   "version": "3.12.9"
  }
 },
 "nbformat": 4,
 "nbformat_minor": 2
}
