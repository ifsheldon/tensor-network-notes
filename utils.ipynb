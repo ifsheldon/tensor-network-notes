{
 "cells": [
  {
   "cell_type": "code",
   "execution_count": 2,
   "id": "e6bd4799",
   "metadata": {},
   "outputs": [],
   "source": [
    "#|default_exp utils\n",
    "#|export\n",
    "from typing import List, Tuple, Union\n",
    "import torch"
   ]
  },
  {
   "cell_type": "code",
   "execution_count": 3,
   "id": "3c8eb5d6",
   "metadata": {},
   "outputs": [],
   "source": [
    "#|export\n",
    "def iterable_have_common(a: List[int] | Tuple[int], b: List[int] | Tuple[int]) -> bool:\n",
    "    \"\"\"\n",
    "    Check if two iterables have any common elements.\n",
    "\n",
    "    Args:\n",
    "        a: First iterable.\n",
    "        b: Second iterable.\n",
    "\n",
    "    Returns:\n",
    "        True if there are common elements, False otherwise.\n",
    "    \"\"\"\n",
    "    assert isinstance(a, (list, tuple)), \"First argument must be a list or tuple.\"\n",
    "    assert isinstance(b, (list, tuple)), \"Second argument must be a list or tuple.\"\n",
    "    return len(set(a) & set(b)) > 0\n",
    "\n",
    "def inverse_permutation(permutation: List[int]) -> List[int]:\n",
    "    permutation = torch.tensor(permutation, dtype=torch.long)\n",
    "    inv = torch.empty_like(permutation)\n",
    "    inv[permutation] = torch.arange(permutation.size(0))\n",
    "    return inv.tolist()"
   ]
  },
  {
   "cell_type": "code",
   "execution_count": null,
   "id": "89326094",
   "metadata": {},
   "outputs": [],
   "source": [
    "#|export\n",
    "def check_state_tensor(tensor: torch.Tensor):\n",
    "    assert isinstance(tensor, torch.Tensor), \"quantum_state must be a torch.Tensor\"\n",
    "    assert tensor.dtype in [torch.float32, torch.float64, torch.complex64, torch.complex128], \\\n",
    "        \"quantum_state must be a float or complex tensor\"\n",
    "    assert all(x == 2 for x in tensor.shape), \"quantum_state must be a tensor with all dimensions of size 2\"\n",
    "    assert tensor.ndim > 0, \"quantum_state must be a tensor with at least one dimension\"\n",
    "\n",
    "def check_quantum_gate(tensor: torch.Tensor, num_qubits: int):\n",
    "    assert isinstance(tensor, torch.Tensor), \"quantum_gate must be a torch.Tensor\"\n",
    "    assert tensor.dtype in [torch.float32, torch.float64, torch.complex64, torch.complex128], \\\n",
    "        \"quantum_gate must be a float or complex tensor\"\n",
    "    assert tensor.ndim >= 2, \"quantum_gate must be a tensor with at least two dimensions\"\n",
    "    assert tensor.ndim % 2 == 0, \"quantum_gate must have an even number of dimensions\"\n",
    "\n",
    "    if tensor.ndim == 2:\n",
    "        # in matrix form\n",
    "        assert tensor.shape[0] == tensor.shape[1] == 2 ** num_qubits, f\"gate must be a square matrix with dimensions 2^num_qubits, got {tensor.shape}\"\n",
    "    else:\n",
    "        assert tensor.ndim == 2 * num_qubits, f\"gate must have 2 * num_qubits dimensions, got {tensor.ndim}\"\n",
    "\n",
    "def unify_tensor_dtypes(t1: torch.Tensor, t2: torch.Tensor) -> Tuple[torch.Tensor, torch.Tensor]:\n",
    "    assert t1.dtype in [torch.float32, torch.float64, torch.complex64, torch.complex128], \\\n",
    "        \"quantum_state must be a float or complex tensor\"\n",
    "    assert t2.dtype in [torch.float32, torch.float64, torch.complex64, torch.complex128], \\\n",
    "        \"quantum_state must be a float or complex tensor\"\n",
    "    if t1.dtype == t2.dtype:\n",
    "        return t1, t2\n",
    "    convert_dtypes = [\n",
    "        (torch.float32, torch.complex64, torch.complex64),\n",
    "        (torch.float64, torch.complex64, torch.complex128),\n",
    "        (torch.float32, torch.complex128, torch.complex128),\n",
    "        (torch.float64, torch.complex128, torch.complex128),\n",
    "    ]\n",
    "    for d1, d2, td in convert_dtypes:\n",
    "        if (t1.dtype == d1 and t2.dtype == d2) or (t1.dtype == d2 and t2.dtype == d1):\n",
    "            return t1.to(td), t2.to(td)\n",
    "    raise_dtypes = [\n",
    "        (torch.float32, torch.float64),\n",
    "        (torch.complex64, torch.complex128),\n",
    "    ]\n",
    "    for d1, d2 in raise_dtypes:\n",
    "        if (t1.dtype == d1 and t2.dtype == d2) or (t1.dtype == d2 and t2.dtype == d1):\n",
    "            return t1.to(d2), t2.to(d2)\n",
    "    \n",
    "    raise Exception(\"Unreachable code in unify_tensor_dtypes\")\n",
    "\n",
    "def map_float_to_complex(*, tensor: torch.Tensor | None = None, dtype: torch.dtype | None = None) -> torch.Tensor | torch.dtype:\n",
    "    assert tensor is not None or dtype is not None, \"Either tensor or dtype must be provided\"\n",
    "    original_dtype = tensor.dtype if tensor is not None else dtype\n",
    "    assert original_dtype in [torch.float32, torch.float64], \"dtype must be float32 or float64\"\n",
    "    to_dtype = torch.complex64 if original_dtype == torch.float32 else torch.complex128\n",
    "    if tensor is not None:\n",
    "        return tensor.to(to_dtype)\n",
    "    return to_dtype"
   ]
  },
  {
   "cell_type": "code",
   "execution_count": null,
   "id": "3084ef2e",
   "metadata": {},
   "outputs": [],
   "source": [
    "# test unify_tensor_dtypes\n",
    "for d1 in [torch.float32, torch.float64, torch.complex64, torch.complex128]:\n",
    "    t1 = torch.tensor([1, 2], dtype=d1)\n",
    "    for d2 in [torch.float32, torch.float64, torch.complex64, torch.complex128]:\n",
    "        t2 = torch.tensor([1, 2], dtype=d2)\n",
    "        unify_tensor_dtypes(t1, t2)"
   ]
  }
 ],
 "metadata": {
  "kernelspec": {
   "display_name": ".venv",
   "language": "python",
   "name": "python3"
  },
  "language_info": {
   "codemirror_mode": {
    "name": "ipython",
    "version": 3
   },
   "file_extension": ".py",
   "mimetype": "text/x-python",
   "name": "python",
   "nbconvert_exporter": "python",
   "pygments_lexer": "ipython3",
   "version": "3.12.9"
  }
 },
 "nbformat": 4,
 "nbformat_minor": 5
}
