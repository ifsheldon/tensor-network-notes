{
 "cells": [
  {
   "cell_type": "markdown",
   "metadata": {},
   "source": [
    "# 4.6: 生成式张量网络与量子采样\n",
    "\n",
    "核心任务：利用GMPS（$|\\varphi\\rangle$）与量子采样，实现样本生成（generation）\n",
    "\n",
    "1. 对于第m个特征的生成，需依据量子力学原理（参考2.6节）计算边缘概率\n",
    "   $p(x_m) = \\langle\\phi_m|\\hat{\\rho}^{(m)}|\\phi_m\\rangle$\n",
    "\n",
    "   其中$\\hat{\\rho}^{(m)} = \\text{Tr}_{/m}|\\varphi\\rangle\\langle\\varphi|$，$|\\phi_m\\rangle$为特征$x_m$进行量子特征映射后得到的量子态。\n",
    "2. 得到概率分布$p(x_m)$后，特征$x_m$取值的生成方式有多种，例如可直接根据概率分布进行采样，或计算最概然的取值$\\text{argmax}_{x_m}[p(x_m)]$，或计算$x_m$的概率期望值$\\langle x_m\\rangle_{p(x_m)} = \\int p(x_m)x_m dx_m$等\n",
    "\n",
    "## 投影测量\n",
    "\n",
    "对于已知或已生成的特征，我们对GMPS进行投影测量：\n",
    "\n",
    "$|\\varphi'\\rangle = \\frac{1}{Z}\\langle\\Phi_m|\\varphi\\rangle$\n",
    "\n",
    "张量网络图如下\n",
    "![mps_projection](./images/mps_projection.png)\n",
    "\n",
    "测量后的量子态仍满足玻恩概率诠释，描述其余位置量子态的概率分布\n",
    "\n",
    "### GMPS 生成\n",
    "\n",
    "已知部分特征取值（记其位置的集合为$\\mathcal{A}$）的情况下，利用GMPS对另一部分特征（记其位置的集合为$\\mathcal{B}$）进行生成。我们将除$\\mathcal{A}$与$\\mathcal{B}$外的其余特征位置构成的集合记为$\\mathcal{C}$，即$\\mathcal{A} \\cup \\mathcal{B} \\cup \\mathcal{C}$构成样本全部特征的位置集合\n",
    "\n",
    "测量后量子态的边缘概率为测量前量子态的条件概率：\n",
    "\n",
    "$$p(\\{x_m\\}(m \\in \\mathcal{B})|\\{x_{m'}\\}(m' \\in \\mathcal{A})) = \\left(\\prod_{m\\in\\mathcal{B}}|\\phi_m|\\right)\\hat{\\rho}^{(\\mathcal{B})}\\left(\\prod_{m\\in\\mathcal{B}}|\\phi_m|\\right)$$\n",
    "\n",
    "约化密度矩阵$\\hat{\\rho}^{(B)}$由测量后量子态所得，如下图\n",
    "![mps_reduced_density_matrix](./images/mps_reduced_density_matrix_calculation.png)"
   ]
  },
  {
   "cell_type": "markdown",
   "metadata": {},
   "source": [
    "### Code"
   ]
  },
  {
   "cell_type": "code",
   "execution_count": 1,
   "metadata": {},
   "outputs": [],
   "source": [
    "from tensor_network.mps.modules import MPS\n",
    "import torch\n",
    "from typing import List, Self"
   ]
  },
  {
   "cell_type": "code",
   "execution_count": 2,
   "metadata": {},
   "outputs": [],
   "source": [
    "# |export mps.functional\n",
    "from copy import deepcopy\n",
    "from einops import einsum\n",
    "\n",
    "\n",
    "def project_multi_qubits(\n",
    "    mps_local_tensors: List[torch.Tensor],\n",
    "    qubit_indices: List[int],\n",
    "    project_to_states: torch.Tensor | List[int],\n",
    ") -> List[torch.Tensor]:\n",
    "    \"\"\"\n",
    "    Do projection of multiple qubits of MPS, giving new local tensors of a new MPS.\n",
    "\n",
    "    Args:\n",
    "        mps_local_tensors: List of local tensors of the MPS.\n",
    "        qubit_indices: List of indices of the qubits to project.\n",
    "        project_to_states: List of states to project to.\n",
    "\n",
    "    Returns:\n",
    "        List of new local tensors of the MPS.\n",
    "    \"\"\"\n",
    "    assert isinstance(project_to_states, (torch.Tensor, List)), \"states must be a tensor or a list\"\n",
    "    qubit_indices = deepcopy(qubit_indices)\n",
    "    project_qubit_num = len(qubit_indices)\n",
    "    if isinstance(project_to_states, torch.Tensor):\n",
    "        assert project_to_states.ndimension() == 2, (\n",
    "            \"states must be a 2D tensor\"\n",
    "        )  # (feature_num, channel)\n",
    "        assert project_to_states.shape[0] == project_qubit_num, (\n",
    "            \"feature_num must match qubit_indices\"\n",
    "        )\n",
    "        is_vec = True\n",
    "    else:\n",
    "        assert isinstance(project_to_states, List), \"project_to_states must be a list\"\n",
    "        assert len(project_to_states) == project_qubit_num, (\n",
    "            \"project_to_states must match qubit_indices\"\n",
    "        )\n",
    "        is_vec = False\n",
    "\n",
    "    local_tensors = [i for i in mps_local_tensors]\n",
    "\n",
    "    if project_qubit_num == 0:\n",
    "        return local_tensors\n",
    "\n",
    "    if is_vec:\n",
    "        for i, qubit_idx in enumerate(qubit_indices):\n",
    "            local_tensor = local_tensors[qubit_idx]\n",
    "            project_to_state = project_to_states[i]\n",
    "            assert local_tensor.shape[1] == project_to_state.shape[0], (\n",
    "                \"The feature dimension of the project_to_states must match the physical dimension of the local tensor of MPS\"\n",
    "            )\n",
    "            local_tensors[qubit_idx] = einsum(\n",
    "                local_tensor, project_to_state, \"left physical right, physical -> left right\"\n",
    "            )\n",
    "    else:\n",
    "        for i, qubit_idx in enumerate(qubit_indices):\n",
    "            local_tensor = local_tensors[qubit_idx]\n",
    "            state_idx = project_to_states[i]\n",
    "            assert 0 <= state_idx < local_tensor.shape[1], (\n",
    "                f\"state_idx must be in [0, {local_tensor.shape[1]}), got {state_idx}\"\n",
    "            )\n",
    "            local_tensors[qubit_idx] = local_tensor[:, state_idx, :]\n",
    "\n",
    "    # sort qubit_indices in descending order to safely pop tensors\n",
    "    qubit_indices.sort(reverse=True)\n",
    "    RIGHT_DIM = -1\n",
    "    LEFT_DIM = 0\n",
    "    for qubit_idx in qubit_indices[:-1]:\n",
    "        assert qubit_idx > 0\n",
    "        qubit_left = qubit_idx - 1\n",
    "        local_tensors[qubit_left] = torch.tensordot(\n",
    "            local_tensors[qubit_left], local_tensors[qubit_idx], dims=[[RIGHT_DIM], [LEFT_DIM]]\n",
    "        )\n",
    "        local_tensors.pop(qubit_idx)\n",
    "\n",
    "    if len(local_tensors) > 1:\n",
    "        qubit_idx = qubit_indices[-1]\n",
    "        if qubit_idx == 0:\n",
    "            qubit_right = 1\n",
    "            local_tensors[qubit_right] = torch.tensordot(\n",
    "                local_tensors[qubit_idx], local_tensors[qubit_right], dims=[[RIGHT_DIM], [LEFT_DIM]]\n",
    "            )\n",
    "        else:\n",
    "            qubit_left = qubit_idx - 1\n",
    "            local_tensors[qubit_left] = torch.tensordot(\n",
    "                local_tensors[qubit_left], local_tensors[qubit_idx], dims=[[RIGHT_DIM], [LEFT_DIM]]\n",
    "            )\n",
    "\n",
    "        local_tensors.pop(qubit_idx)\n",
    "    else:\n",
    "        # do nothing if there is only one tensor left\n",
    "        pass\n",
    "\n",
    "    for i in range(len(local_tensors)):\n",
    "        local_tensor = local_tensors[i]\n",
    "        if local_tensor.ndimension() == 2:\n",
    "            local_tensor = local_tensor.unsqueeze(1)  # (left, right) -> (left, 1, right)\n",
    "        else:\n",
    "            assert local_tensor.ndimension() == 3, \"Unexpected tensor dimension: bug?\"\n",
    "\n",
    "        local_tensors[i] = local_tensor\n",
    "\n",
    "    return local_tensors"
   ]
  },
  {
   "cell_type": "code",
   "execution_count": 3,
   "metadata": {},
   "outputs": [],
   "source": [
    "# |export mps.modules\n",
    "from tensor_network.mps.functional import project_multi_qubits as project_multi_qubits_func\n",
    "from fastcore.basics import patch\n",
    "\n",
    "\n",
    "@patch\n",
    "def project_multi_qubits(\n",
    "    self: MPS, qubit_indices: List[int], project_to_states: torch.Tensor | List[int]\n",
    ") -> Self:\n",
    "    \"\"\"\n",
    "    Do projection of multiple qubits of this MPS, returning a new MPS.\n",
    "\n",
    "    Args:\n",
    "        qubit_indices: List of indices of the qubits to project.\n",
    "        project_to_states: List of states to project to.\n",
    "\n",
    "    Returns:\n",
    "        MPS, the new MPS after projection.\n",
    "    \"\"\"\n",
    "    local_tensors = self._mps\n",
    "    new_local_tensors = project_multi_qubits_func(local_tensors, qubit_indices, project_to_states)\n",
    "    return MPS(mps_tensors=new_local_tensors)\n",
    "\n",
    "\n",
    "@patch\n",
    "def project_one_qubit(self: MPS, qubit_idx: int, project_to_state: torch.Tensor | int) -> Self:\n",
    "    \"\"\"\n",
    "    Project one qubit of this MPS, returning a new MPS.\n",
    "\n",
    "    Args:\n",
    "        qubit_idx: int, the index of the qubit to project.\n",
    "        project_to_state: torch.Tensor | int, the state to project to.\n",
    "    \"\"\"\n",
    "    assert isinstance(project_to_state, (torch.Tensor, int)), (\n",
    "        \"project_to_state must be a tensor or an integer\"\n",
    "    )\n",
    "    if isinstance(project_to_state, int):\n",
    "        project_to_states = [project_to_state]\n",
    "    else:\n",
    "        assert project_to_state.ndimension() == 1, \"project_to_state must be a 1D tensor\"\n",
    "        project_to_states = project_to_state.unsqueeze(0)\n",
    "\n",
    "    qubit_indices = [qubit_idx]\n",
    "    return self.project_multi_qubits(qubit_indices, project_to_states)"
   ]
  },
  {
   "cell_type": "code",
   "execution_count": 4,
   "metadata": {},
   "outputs": [],
   "source": [
    "# |export algorithms.gmps\n",
    "\n",
    "import numpy as np\n",
    "from tensor_network.feature_mapping import cossin_feature_map\n",
    "from copy import deepcopy\n",
    "from typing import Literal, Dict, Any\n",
    "\n",
    "\n",
    "def generate_sample_with_gmps(\n",
    "    mps: MPS,\n",
    "    *,\n",
    "    sample: torch.Tensor | None,\n",
    "    sample_num: int,\n",
    "    gen_indices: List[int] | None,\n",
    "    feature_mapping: Literal[\"cossin\"],\n",
    "    feature_mapping_kwargs: Dict[str, Any] = {},\n",
    "    gen_order: Literal[\"ascending\", \"descending\"] = \"ascending\",\n",
    "):\n",
    "    \"\"\"\n",
    "    Generate a sample with GMPS.\n",
    "\n",
    "    Args:\n",
    "        mps: MPS to generate sample from.\n",
    "        sample: Sample to partially sample from. If None, sample and generate from all qubits.\n",
    "        sample_num: Number of samples to average over.\n",
    "        gen_indices: Indices of the qubits to generate.\n",
    "        feature_mapping: Feature mapping to use.\n",
    "        feature_mapping_kwargs: Keyword arguments for the feature mapping.\n",
    "    \"\"\"\n",
    "    assert sample_num > 0, \"sample_num must be positive\"\n",
    "    assert gen_order in [\"ascending\", \"descending\"], \"gen_order must be 'ascending' or 'descending'\"\n",
    "    assert feature_mapping in [\"cossin\"], \"feature_mapping must be 'cossin'\"\n",
    "    length = mps.length\n",
    "    generate_all = False\n",
    "    if sample is None or gen_indices is None:\n",
    "        if gen_order == \"ascending\":\n",
    "            gen_indices = list(range(length))\n",
    "        else:\n",
    "            gen_indices = list(range(length - 1, -1, -1))\n",
    "        sample = None\n",
    "        generate_all = True\n",
    "\n",
    "    if generate_all:\n",
    "        sample = torch.zeros(length, device=mps.device, dtype=mps.dtype)\n",
    "    else:\n",
    "        assert sample.shape in [(length,), (1, length)], (\n",
    "            f\"sample cannot be batched, got one with shape {sample.shape}\"\n",
    "        )\n",
    "        sample = sample.squeeze()  # (length,)\n",
    "        project_indices = list(range(length))\n",
    "        for gi in gen_indices:\n",
    "            project_indices.remove(gi)\n",
    "        sample_for_projection = sample[project_indices]\n",
    "        if feature_mapping == \"cossin\":\n",
    "            features_for_projection = cossin_feature_map(\n",
    "                sample_for_projection, **feature_mapping_kwargs\n",
    "            )\n",
    "        else:\n",
    "            raise ValueError(f\"Feature mapping {feature_mapping} not supported\")\n",
    "        features_for_projection = features_for_projection.squeeze(\n",
    "            0\n",
    "        )  # get rid of the batch dimension\n",
    "        mps = mps.project_multi_qubits(project_indices, features_for_projection)\n",
    "\n",
    "    # Remap gen_indices in case of a new mps after projection\n",
    "    # the two argsorts effectively give the ranking of each in gen_indices, which is a new item in gen_indices_new\n",
    "    # in the case that sample is None, gen_indices_new is the same as gen_indices\n",
    "    #\n",
    "    # the algorithm is the same as below:\n",
    "    # ```\n",
    "    # indices = np.argsort(np.argsort(gen_indices))\n",
    "    # ranks = [None for _ in len(gen_indices)]\n",
    "    # for i in len(gen_indices):\n",
    "    #     original_index = indices[i]\n",
    "    #     rank = i\n",
    "    #     ranks[original_index] = rank\n",
    "    # gen_indices_new = ranks\n",
    "    # ```\n",
    "    #\n",
    "    # This remapping is needed since project_indices will be projected and removed from the new MPS\n",
    "    gen_indices = np.array(gen_indices)\n",
    "    gen_indices_new = np.argsort(\n",
    "        np.argsort(gen_indices)\n",
    "    )  # TODO: refactor the function - this line is not useful when generate_all is True\n",
    "\n",
    "    # defensive coding\n",
    "    if generate_all:\n",
    "        assert np.all(gen_indices_new == gen_indices), (\n",
    "            \"gen_indices_new should be the same as gen_indices\"\n",
    "        )\n",
    "\n",
    "    samples = []\n",
    "    for _ in range(sample_num):\n",
    "        sample_i = sample.clone()\n",
    "        mps_i = deepcopy(mps)\n",
    "        gen_indices_i = gen_indices_new.copy()\n",
    "        pos = 0\n",
    "        while len(gen_indices_i) > 0:\n",
    "            gen_idx = gen_indices_i[0]\n",
    "            mps_i.center_orthogonalization_(gen_idx, mode=\"qr\", normalize=True)\n",
    "            rdm = mps_i.one_body_reduced_density_matrix(idx=gen_idx, do_tracing=True)\n",
    "            assert rdm.shape == (2, 2)\n",
    "            lm = rdm.diag()\n",
    "            prob_1 = lm[1]\n",
    "            p1 = prob_1.cpu().item()\n",
    "            assert 0.0 <= p1 <= 1.0, f\"probability should be between 0 and 1, got {p1}\"\n",
    "            state = torch.bernoulli(prob_1).to(torch.long).cpu().item()\n",
    "            gen_idx_on_sample = gen_indices[pos]\n",
    "            sample_i[gen_idx_on_sample] = state\n",
    "            new_mps_i = mps_i.project_one_qubit(gen_idx, state)\n",
    "            # the center of mps_i is gen_idx and the qubit at gen_idx has been projected\n",
    "            new_mps_i._center = max(0, mps_i.center - 1)\n",
    "            mps_i = new_mps_i\n",
    "            # update gen_indices_i since mps_i has been projected\n",
    "            gen_indices_i[gen_indices_i > gen_idx] -= 1\n",
    "            gen_indices_i = gen_indices_i[1:]\n",
    "            pos += 1\n",
    "\n",
    "        samples.append(sample_i)\n",
    "\n",
    "    samples = torch.stack(samples)\n",
    "    generated_sample = samples.mean(dim=0)\n",
    "    return generated_sample"
   ]
  },
  {
   "cell_type": "markdown",
   "metadata": {},
   "source": [
    "#### Generation"
   ]
  },
  {
   "cell_type": "code",
   "execution_count": 5,
   "metadata": {},
   "outputs": [],
   "source": [
    "from matplotlib import pyplot as plt\n",
    "from tensor_network.utils.data import load_mnist_images"
   ]
  },
  {
   "cell_type": "code",
   "execution_count": 6,
   "metadata": {},
   "outputs": [],
   "source": [
    "# Hyper-parameters from 4-5.ipynb\n",
    "FEATURE_MAPPING = \"cossin\"\n",
    "FEATURE_MAPPING_KWARGS = {\"theta\": 0.5}\n",
    "MNIST_NORMALIZATION = False"
   ]
  },
  {
   "cell_type": "code",
   "execution_count": 7,
   "metadata": {},
   "outputs": [
    {
     "data": {
      "image/png": "[encoded data removed]",
      "text/plain": [
       "<Figure size 640x480 with 1 Axes>"
      ]
     },
     "metadata": {},
     "output_type": "display_data"
    }
   ],
   "source": [
    "img_0 = load_mnist_images(\n",
    "    cache_path=\"datasets/MNIST\",\n",
    "    num=1,\n",
    "    from_subset=\"test\",\n",
    "    shuffle=True,\n",
    "    classes=0,\n",
    "    normalization=MNIST_NORMALIZATION,\n",
    ")\n",
    "img_0 = img_0.squeeze()\n",
    "img_0[14:, :] = 0\n",
    "plt.imshow(img_0, cmap=\"gray\")\n",
    "plt.show()\n",
    "img_0_flatten = img_0.flatten()\n",
    "gen_indices = list(range(392, 784))"
   ]
  },
  {
   "cell_type": "code",
   "execution_count": 8,
   "metadata": {},
   "outputs": [],
   "source": [
    "def generate_and_plot(\n",
    "    *, mps: MPS, sample: torch.Tensor | None, gen_indices: List[int] | None, sample_nums: List[int]\n",
    "):\n",
    "    images = []\n",
    "\n",
    "    for sample_num in sample_nums:\n",
    "        img = generate_sample_with_gmps(\n",
    "            mps,\n",
    "            sample=sample,\n",
    "            sample_num=sample_num,\n",
    "            gen_indices=gen_indices,\n",
    "            feature_mapping=FEATURE_MAPPING,\n",
    "            feature_mapping_kwargs=FEATURE_MAPPING_KWARGS,\n",
    "        )\n",
    "        img = img.reshape(28, 28)\n",
    "        images.append(img)\n",
    "\n",
    "    plt.figure(figsize=(10, 2.5))\n",
    "    for i, img in enumerate(images):\n",
    "        plt.subplot(1, len(sample_nums), i + 1)\n",
    "        plt.imshow(img, cmap=\"gray\")\n",
    "        plt.axis(\"off\")\n",
    "        plt.title(f\"Sample {sample_nums[i]}\")\n",
    "    plt.tight_layout()\n",
    "    plt.show()"
   ]
  },
  {
   "cell_type": "markdown",
   "metadata": {},
   "source": [
    "##### From Reference Weights"
   ]
  },
  {
   "cell_type": "code",
   "execution_count": 9,
   "metadata": {},
   "outputs": [],
   "source": [
    "import tensor_network.setup_ref_code_import\n",
    "import Library.BasicFun as bf\n",
    "\n",
    "# Reference weight can be download from https://drive.google.com/file/d/1KJHY0_4qJOWnMldlikO1kwl04V121eqz/view?usp=sharing\n",
    "# Thanks Prof.Ran!\n",
    "\n",
    "tensors, para = bf.load(\n",
    "    \"datasets/mps/ref/GMPS_chi64_theta1.0_FM_cossin_digit_0\",\n",
    "    [\"tensors\", \"paraMPS\"],\n",
    ")\n",
    "for i, t in enumerate(tensors):\n",
    "    tensors[i] = t.to(torch.float32)\n",
    "\n",
    "mps_ref_weights = MPS(mps_tensors=tensors)"
   ]
  },
  {
   "cell_type": "code",
   "execution_count": 10,
   "metadata": {},
   "outputs": [
    {
     "data": {
      "image/png": "[encoded data removed]",
      "text/plain": [
       "<Figure size 1000x250 with 4 Axes>"
      ]
     },
     "metadata": {},
     "output_type": "display_data"
    }
   ],
   "source": [
    "generate_and_plot(mps=mps_ref_weights, sample=None, gen_indices=None, sample_nums=[1, 4, 10, 20])"
   ]
  },
  {
   "cell_type": "code",
   "execution_count": 11,
   "metadata": {},
   "outputs": [
    {
     "data": {
      "image/png": "[encoded data removed]",
      "text/plain": [
       "<Figure size 1000x250 with 4 Axes>"
      ]
     },
     "metadata": {},
     "output_type": "display_data"
    }
   ],
   "source": [
    "generate_and_plot(\n",
    "    mps=mps_ref_weights, sample=img_0_flatten, gen_indices=gen_indices, sample_nums=[1, 4, 10, 20]\n",
    ")"
   ]
  },
  {
   "cell_type": "markdown",
   "metadata": {},
   "source": [
    "##### From Weights (Class 0) from 4-5.ipynb"
   ]
  },
  {
   "cell_type": "code",
   "execution_count": 12,
   "metadata": {},
   "outputs": [],
   "source": [
    "mps_4_5 = MPS.load_from_safetensors(\"datasets/mps/mnist_0_mps.safetensors\", requires_grad=False)"
   ]
  },
  {
   "cell_type": "code",
   "execution_count": null,
   "metadata": {},
   "outputs": [
    {
     "data": {
      "image/png": "[encoded data removed]",
      "text/plain": [
       "<Figure size 1000x250 with 4 Axes>"
      ]
     },
     "metadata": {},
     "output_type": "display_data"
    }
   ],
   "source": [
    "generate_and_plot(mps=mps_4_5, sample=None, gen_indices=None, sample_nums=[1, 4, 10, 20])"
   ]
  },
  {
   "cell_type": "code",
   "execution_count": 14,
   "metadata": {},
   "outputs": [
    {
     "data": {
      "image/png": "[encoded data removed]",
      "text/plain": [
       "<Figure size 1000x250 with 4 Axes>"
      ]
     },
     "metadata": {},
     "output_type": "display_data"
    }
   ],
   "source": [
    "generate_and_plot(\n",
    "    mps=mps_4_5, sample=img_0_flatten, gen_indices=gen_indices, sample_nums=[1, 4, 10, 20]\n",
    ")"
   ]
  },
  {
   "cell_type": "markdown",
   "metadata": {},
   "source": [
    "##### From Weights (Experimental) from 4-5.ipynb"
   ]
  },
  {
   "cell_type": "code",
   "execution_count": 15,
   "metadata": {},
   "outputs": [],
   "source": [
    "def generate_and_plot_exp(\n",
    "    *, mps: MPS, sample: torch.Tensor | None, gen_indices: List[int] | None, sample_nums: List[int]\n",
    "):\n",
    "    images = []\n",
    "\n",
    "    for sample_num in sample_nums:\n",
    "        img = generate_sample_with_gmps(\n",
    "            mps,\n",
    "            sample=sample,\n",
    "            sample_num=sample_num,\n",
    "            gen_indices=gen_indices,\n",
    "            feature_mapping=FEATURE_MAPPING,\n",
    "            feature_mapping_kwargs=FEATURE_MAPPING_KWARGS,\n",
    "        )\n",
    "        img = img[4:]  # remove the first 4 bits\n",
    "        img = img.reshape(28, 28)\n",
    "        images.append(img)\n",
    "\n",
    "    plt.figure(figsize=(10, 2.5))\n",
    "    for i, img in enumerate(images):\n",
    "        plt.subplot(1, len(sample_nums), i + 1)\n",
    "        plt.imshow(img, cmap=\"gray\")\n",
    "        plt.axis(\"off\")\n",
    "        plt.title(f\"Sample {sample_nums[i]}\")\n",
    "    plt.tight_layout()\n",
    "    plt.show()"
   ]
  },
  {
   "cell_type": "code",
   "execution_count": 16,
   "metadata": {},
   "outputs": [],
   "source": [
    "mps_exp = MPS.load_from_safetensors(\n",
    "    \"datasets/mps/mnist_experimental_mps.safetensors\", requires_grad=False\n",
    ")"
   ]
  },
  {
   "cell_type": "code",
   "execution_count": 20,
   "metadata": {},
   "outputs": [
    {
     "data": {
      "image/png": "[encoded data removed]",
      "text/plain": [
       "<Figure size 1000x250 with 5 Axes>"
      ]
     },
     "metadata": {},
     "output_type": "display_data"
    }
   ],
   "source": [
    "generate_and_plot_exp(mps=mps_exp, sample=None, gen_indices=None, sample_nums=[1] * 5)"
   ]
  },
  {
   "cell_type": "code",
   "execution_count": 21,
   "metadata": {},
   "outputs": [],
   "source": [
    "from tensor_network.algorithms.gmps import labels_to_binary"
   ]
  },
  {
   "cell_type": "code",
   "execution_count": 32,
   "metadata": {},
   "outputs": [
    {
     "data": {
      "image/png": "[encoded data removed]",
      "text/plain": [
       "<Figure size 1000x250 with 6 Axes>"
      ]
     },
     "metadata": {},
     "output_type": "display_data"
    }
   ],
   "source": [
    "label = 9\n",
    "\n",
    "label = labels_to_binary(torch.tensor([label]), num_bits=4)\n",
    "sample = torch.cat([label, torch.zeros(1, 28 * 28)], dim=1)\n",
    "gen_indices = list(range(4, 4 + 28 * 28))\n",
    "\n",
    "generate_and_plot_exp(\n",
    "    mps=mps_exp, sample=sample, gen_indices=gen_indices, sample_nums=[1, 1, 1, 4, 10, 20]\n",
    ")"
   ]
  },
  {
   "cell_type": "markdown",
   "metadata": {},
   "source": [
    "## 一些讨论\n",
    "\n",
    "* 可考虑**多点采样进行生成**。上述例子为逐点地对图像实现生成，每次生成相当于选择$A$为已知与已生成的所有像素位置，$B$为当前需生成的像素位置，$C$为其余像素的位置。显然，我们可以修改程序，实现多个像素的同时生成，即将$B$选择为多个未知像素的位置，计算相应的约化密度矩阵及条件概率。\n",
    "\n",
    "* **灰度像素的生成**。目前的投影测量是在$\\{|0\\rangle,|1\\rangle\\}$基底下进行的，因此单次生成的方式仅能给出黑 (0) 或白 (1) 色像素（基底的选择需与特征映射匹配）。灰度像素可通过多次生成的（经典）期望给出，但这显然不是生成灰度图的唯一方式。例如，我们可以考虑利用量子期望来生成灰度像素，由于$\\{|0\\rangle,|1\\rangle\\}$基底对应于$\\hat{\\sigma}^{(z)}$的本征态，可利用$x_m = \\langle\\hat{\\sigma}^{(z)}\\rangle = \\text{Tr}(\\hat{\\rho}^{(m)}\\hat{\\sigma}^{(z)})$实现生成。又如，我们可考虑直接寻找概率最大的值来给出生成的结果，即生成的像素满足$x_m \\rightarrow |\\phi_m\\rangle = \\text{argmax}_{\\langle\\phi_m|\\hat{\\rho}^{(m)}|\\phi_m\\rangle}$（参考公式(4-54)）。"
   ]
  }
 ],
 "metadata": {
  "kernelspec": {
   "display_name": ".venv",
   "language": "python",
   "name": "python3"
  },
  "language_info": {
   "codemirror_mode": {
    "name": "ipython",
    "version": 3
   },
   "file_extension": ".py",
   "mimetype": "text/x-python",
   "name": "python",
   "nbconvert_exporter": "python",
   "pygments_lexer": "ipython3",
   "version": "3.12.9"
  }
 },
 "nbformat": 4,
 "nbformat_minor": 2
}
