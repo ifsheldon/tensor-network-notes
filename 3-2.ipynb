{
 "cells": [
  {
   "cell_type": "markdown",
   "id": "eae9a3f3",
   "metadata": {},
   "source": [
    "# 3.2: 基于隐门奇异值分解的自动微分量子线路\n",
    "\n",
    "问题：如何参数化任意二体、三体甚至 N 体量子门？\n",
    "\n",
    "Automatically differentiable quantum circuits (ADQC)\n",
    "\n",
    "* 考虑由M个量子门 {$\\hat{G}^{(m)}$} $(m = 0, ..., M-1)$ 构成的变分量子线路\n",
    "\n",
    "* 定义M个隐门（Latent Gate）{$\\hat{V}^{(m)}$}，通过如下两步映射从隐门获得量子门：\n",
    "  1. 奇异值分解：$V^{(m)} = P^{(m)}\\Gamma^{(m)}Q^{(m)\\dagger}$\n",
    "  2. 矩阵乘法：$G^{(m)} = P^{(m)}Q^{(m)\\dagger}$\n",
    "\n",
    "性质：\n",
    "1. 量子门须满足幺正约束，但是隐门及其对应的优化问题无约束；\n",
    "2. 隐门与量子门间一一对应：奇异值分解的唯一性\n",
    "3. 从隐门到量子门间的映射可微：奇异值分解是可微的\n",
    "4. 当隐门自身满足幺正性时，$\\Gamma^{(m)} = I$，$V^{(m)} = G^{(m)}$\n",
    "\n",
    "> 初始化：\n",
    "> \n",
    "> 当 $\\Gamma$ 比较靠近 $I$ 时，这种初始化比较好；可以先得到 $P^{(m)}$ 和 $Q^{(m)}$ 然后在 $I$ 上加扰动\n",
    "\n",
    "优势：不需要考虑量子门的种类以及具体的参数，只需要考虑量子门的个数和线路结构\n",
    "\n",
    "## 例子\n",
    "\n",
    "* 6 Qubits\n",
    "* 10 个隐门\n",
    "* 两层 Quantum Layer\n",
    "  * 阶梯布局的结构\n",
    "* 反向传播可以直接传播到隐门的参数上\n",
    "\n",
    "![adqc-example](./images/adqc_example.png)"
   ]
  },
  {
   "cell_type": "markdown",
   "id": "522583a8",
   "metadata": {},
   "source": [
    "## Code\n",
    "\n",
    "![adqc-code-example](./images/adqc_code_example.png)\n"
   ]
  },
  {
   "cell_type": "code",
   "execution_count": null,
   "id": "c3733a91",
   "metadata": {},
   "outputs": [],
   "source": [
    "# |default_exp networks.adqc\n",
    "# |export\n",
    "import torch"
   ]
  },
  {
   "cell_type": "code",
   "execution_count": 1,
   "id": "fd6d8bb7",
   "metadata": {},
   "outputs": [],
   "source": [
    "from torch.optim import Adam\n",
    "import matplotlib.pyplot as plt\n",
    "from tensor_network.utils.tensors import zeros_state\n",
    "from tensor_network.tensor_gates.functional import apply_gate\n",
    "from tensor_network.utils.mapping import view_gate_tensor_as_matrix, view_gate_matrix_as_tensor"
   ]
  },
  {
   "cell_type": "code",
   "execution_count": 2,
   "id": "70386392",
   "metadata": {},
   "outputs": [],
   "source": [
    "lr = 1e-3\n",
    "iterations = 1500\n",
    "num_qubits = 3\n",
    "num_gates = 4\n",
    "biqubit_gate_shape = (2, 2, 2, 2)"
   ]
  },
  {
   "cell_type": "code",
   "execution_count": 3,
   "id": "bad2e6d4",
   "metadata": {},
   "outputs": [
    {
     "name": "stdout",
     "output_type": "stream",
     "text": [
      "Iteration 0, Loss: 0.7232908606529236\n",
      "Iteration 100, Loss: 0.3271958827972412\n",
      "Iteration 200, Loss: 0.06101447343826294\n",
      "Iteration 300, Loss: 0.005380153656005859\n",
      "Iteration 400, Loss: 0.0004671812057495117\n",
      "Iteration 500, Loss: 3.254413604736328e-05\n",
      "Iteration 600, Loss: 1.8477439880371094e-06\n",
      "Iteration 700, Loss: 0.0\n",
      "Iteration 800, Loss: -3.5762786865234375e-07\n",
      "Iteration 900, Loss: 1.7881393432617188e-07\n",
      "Iteration 1000, Loss: 5.960464477539063e-08\n",
      "Iteration 1100, Loss: 1.1920928955078125e-07\n",
      "Iteration 1200, Loss: 1.1920928955078125e-07\n",
      "Iteration 1300, Loss: -2.384185791015625e-07\n",
      "Iteration 1400, Loss: 0.0\n"
     ]
    },
    {
     "data": {
      "image/png": "[encoded data removed]",
      "text/plain": [
       "<Figure size 640x480 with 1 Axes>"
      ]
     },
     "metadata": {},
     "output_type": "display_data"
    }
   ],
   "source": [
    "target_state = torch.randn(*([2] * num_qubits), dtype=torch.complex64)\n",
    "target_state = target_state / target_state.norm()\n",
    "\n",
    "latent_gates = [\n",
    "    torch.randn(*biqubit_gate_shape, dtype=torch.complex64, requires_grad=True)\n",
    "    for _ in range(num_gates)\n",
    "]\n",
    "\n",
    "optimizer = Adam(latent_gates, lr=lr)\n",
    "losses = torch.empty(iterations, dtype=torch.float32)\n",
    "\n",
    "for i in range(iterations):\n",
    "    gates = []\n",
    "    for latent_gate in latent_gates:\n",
    "        P, _S, Q = torch.linalg.svd(view_gate_tensor_as_matrix(latent_gate, num_qubit=2))\n",
    "        gate_matrix = P @ Q\n",
    "        gate = view_gate_matrix_as_tensor(gate_matrix, num_qubit=2)\n",
    "        gates.append(gate)\n",
    "\n",
    "    state = zeros_state(num_qubits=num_qubits, dtype=torch.complex64)\n",
    "    state = apply_gate(quantum_state=state, gate=gates[0], target_qubit=[0, 1])\n",
    "    state = apply_gate(quantum_state=state, gate=gates[1], target_qubit=[1, 2])\n",
    "    state = apply_gate(quantum_state=state, gate=gates[2], target_qubit=[0, 1])\n",
    "    state = apply_gate(quantum_state=state, gate=gates[3], target_qubit=[1, 2])\n",
    "\n",
    "    # loss = 1 - fidelity\n",
    "    loss = 1 - (state.conj() * target_state).sum().norm()\n",
    "    losses[i] = loss.detach()\n",
    "    loss.backward()\n",
    "    optimizer.step()\n",
    "    optimizer.zero_grad()\n",
    "    if i % 100 == 0:\n",
    "        print(f\"Iteration {i}, Loss: {losses[i].item()}\")\n",
    "\n",
    "plt.plot(losses)\n",
    "plt.xlabel(\"Iterations\")\n",
    "plt.ylabel(\"Loss\")\n",
    "plt.title(\"Loss over iterations\")\n",
    "plt.show()"
   ]
  }
 ],
 "metadata": {
  "kernelspec": {
   "display_name": ".venv",
   "language": "python",
   "name": "python3"
  },
  "language_info": {
   "codemirror_mode": {
    "name": "ipython",
    "version": 3
   },
   "file_extension": ".py",
   "mimetype": "text/x-python",
   "name": "python",
   "nbconvert_exporter": "python",
   "pygments_lexer": "ipython3",
   "version": "3.12.9"
  }
 },
 "nbformat": 4,
 "nbformat_minor": 5
}
