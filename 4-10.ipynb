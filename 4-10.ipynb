{
 "cells": [
  {
   "cell_type": "markdown",
   "metadata": {},
   "source": [
    "# 量子测量与动态特征选择\n",
    "\n",
    "[4.9](./4-9.ipynb) 中用GMPS的单点纠缠熵定义特征所含的信息量大小，从而刻画其重要程度，实现特征选择。显然，该方法仅考虑了用于训练GMPS样本特征的共性。但是在很多情况下，不同的样本所对应的不同特征是有区别的。例如，当我们在黑板上写字时，重要的特征应该是所写的字本身，那么重要的特征应取决于具体的书写，GMPS的单点纠缠熵显然是不能实现这点的。\n",
    "\n",
    "本节内容：基于“量子系统冯诺伊曼熵的取值与测量算符的选择相关”这一基本原理，通过量子特征映射定义量子测量，计算该测量导致的生成式量子态单点纠缠熵的变化量，来刻画该测量获得的关于其他特征的信息增量，从而实现一种“动态”的特征选择。\n",
    "\n",
    "关键概念：\n",
    "* 背景 (Background)\n",
    "* 信息区 (Informative Area)\n",
    "* 关键性少数 (Critical Minority)\n",
    "\n",
    "> 例子：考虑在黑板上进行书写：如果要求仅在黑板的中间某个子区域进行书写，那么对于所有样本，该子区域之外的像素值不会发生变化（黑色），这个区间被称为背景。有用的信息（文字）出现在中间进行书写的子区域，我们将其称之为信息区。文字笔画对应的位置，则被称为关键性少数\n",
    "\n",
    "## 例子：移动的黑色像素\n",
    "\n",
    "![moving_black_box_a](./images/moving_black_box_a.png)\n",
    "\n",
    "> 由两张图像构成的数据集，每个图像仅包含三个像素，取值分别是“白、白、黑 (0,0,1)”与“白、黑、白 (0,1,0)”\n",
    "\n",
    "![moving_black_box_b](./images/moving_black_box_b.png)\n",
    "> 由三张图像构成的数据集，每个图像仅包含三个像素，取值分别是(0,0,0,1)、(0,0,1,0)与 (0,1,0,0)\n",
    "\n",
    "* 第 0 号位置的像素取值不变，满足“背景”的定义\n",
    "* 黑色像素在后两/三个位置移动，因此这两个位置应为信息区\n",
    "* 黑色像素所在的位置应为关键性少数\n",
    "\n",
    "对于(a)，懒惰态满足：$|\\psi\\rangle = \\frac{1}{\\sqrt{2}}|0\\rangle(|01\\rangle + |10\\rangle)$\n",
    "\n",
    "易得，单点纠缠熵满足：$S_0 = 0$（背景），$S_1 = S_2 = \\ln2$（信息区）\n",
    "\n",
    "对比MNIST数据集的单点纠缠熵：背景处于图像边缘，靠中心的位置为信息区\n",
    "\n",
    "### 单点纠缠熵的变化量\n",
    "\n",
    "依据具体像素取值对懒惰态进行投影测量，并计算单点纠缠熵的变化量\n",
    "\n",
    "考虑对第 $l'$ 个量子位进行测量，测量前后单点纠缠熵的变化总量为\n",
    "\n",
    "$$\\langle\\delta S\\rangle(x_{l'}) = \\sum_{i=0}^{L-1}(\\tilde{S}_i - S_i)$$\n",
    "\n",
    "其中，$x_{l'}$ 为测量第 $l'$ 个量子位的坍缩结果，$\\tilde{S}_i$ 为测量后第 $i$ 个量子位的单点纠缠熵，$L$ 为量子比特数。\n",
    "\n",
    "> 在物理实验中，因为量子坍塌不一定会产生 $x_{l'}$ 态，所以我们要做后选择，也就是制备多个量子态，选出塌缩成 $x_{l'}$ 的量子态继续实验\n",
    "\n",
    "> 注：由于是投影测量，被测量的第$l'$个量子位的单点纠缠熵必变为0。\n",
    "\n",
    "以图片 a 为例\n",
    "\n",
    "![moving_black_box_a](./images/moving_black_box_a.png)\n",
    "\n",
    "考虑对**位置0**的量子位进行投影测量：测量后无论得到什么样的坍缩结果，剩余两个比特位都构成一个2比特最大纠缠态 $\\frac{1}{\\sqrt{2}}(|01\\rangle + |10\\rangle)$，测量后的单点纠缠熵仍为 $S'_0 = 0$ 与 $S'_1 = S'_2 = \\ln2$，因此我们有 $\\langle\\delta S\\rangle(x_0) = 0$。\n",
    "\n",
    "考虑对**位置1**的量子位进行投影测量，坍缩结果为**0**(a 中第一张图)：剩余两个比特位都构成直积态 $|01\\rangle$，测量后的单点纠缠熵为 $S'_0 = S'_1 = S'_2 = 0$，因此我们有 $\\langle\\delta S\\rangle(x_0) = -2 \\ln 2$。\n",
    "\n",
    "考虑对**位置2**的量子位进行投影测量，坍缩结果为**1**(a 中第一张图)：剩余两个比特位都构成直积态 $|00\\rangle$，测量后的单点纠缠熵为 $S'_0 = S'_1 = S'_2 = 0$，因此我们有 $\\langle\\delta S\\rangle(x_0) = -2 \\ln 2$。\n",
    "\n",
    "讨论：虽然我们一开始认为黑色像素应该为关键性少数，但是对于第0号样本而言，白色像素 $x_1$ 与黑色像素 $x_2$ 得到的 $\\langle\\delta S\\rangle(x_1)$ 相等，因此无法通过该量区分出关键性少数。这里的问题在于，在信息区内部，黑、白像素的数量相等，因此无法将黑色像素视作关键性少数。\n",
    "\n",
    "以图片 b 为例\n",
    "\n",
    "![moving_black_box_b](./images/moving_black_box_b.png)\n",
    "\n",
    "懒惰态满足：$|\\psi\\rangle = \\frac{1}{\\sqrt{3}}|0\\rangle(|001\\rangle + |010\\rangle + |100\\rangle)$\n",
    "\n",
    "单点纠缠熵：$S_0 = 0$ (背景)，$S_1 = S_2 = S_3 = \\ln 3 - \\frac{2}{3}\\ln 2 \\approx 0.6365$ (信息区)\n",
    "\n",
    "考虑对位置0的量子位进行投影测量，坍缩结果为0：剩余三个比特位都构成直积态$\\frac{1}{\\sqrt{3}}(|001\\rangle + |010\\rangle + |100\\rangle)$，测量后的单点纠缠熵显然不变，有$\\langle\\delta S\\rangle(x_0) = 0$。\n",
    "\n",
    "考虑对位置1或2的量子位进行投影测量，坍缩结果为0 (b 中第一张图)：其余3个量子位所处的态为$\\frac{1}{\\sqrt{2}}|0\\rangle(|01\\rangle + |10\\rangle)$，单点纠缠熵分别为$S'_0 = 0$, $S'_2 = S'_3 = \\ln 2$，因此有$\\langle\\delta S\\rangle(x_1 = 0) = \\langle\\delta S\\rangle(x_2 = 0) = 2\\ln 2 - 3(\\ln 3 - \\frac{2}{3}\\ln 2) = 4\\ln 2 - 3\\ln 3 \\approx -0.5232$。\n",
    "\n",
    "考虑对位置3的量子位进行投影测量，坍缩结果为1 (b 中第一张图)：其余3个量子位所处的态为$|000\\rangle$，单点纠缠熵分别为$S'_0 = S'_1 = S'_2 = 0$，因此有$\\langle\\delta S\\rangle(x_3 = 1) = 2\\ln 2 - 3\\ln 3 \\approx -1.910$，变化量远大于位置1或2测量导致的变换量。\n",
    "\n",
    "小结：\n",
    "* 考虑后选择出第一张图的坍缩结果，有\n",
    "  \n",
    "  $\\langle \\delta S \\rangle(x_0) = 0$ (背景)\n",
    "\n",
    "  $\\langle \\delta S \\rangle(x_1 = 0) = \\langle \\delta S \\rangle(x_2 = 0) \\approx -0.5232$ (信息区)\n",
    "\n",
    "  $\\langle \\delta S \\rangle(x_3 = 1) \\approx -1.910$ (信息区中的关键性少数)\n",
    "\n",
    "* 计算易得，对于该例子，在信息区中的任一位置的测量满足\n",
    "  \n",
    "  $\\langle \\delta S \\rangle(x_l = 0) = 4 \\ln 2 - 3 \\ln 3 \\approx -0.5232$\n",
    "\n",
    "  $\\langle \\delta S \\rangle(x_l = 1) = 2 \\ln 2 - 3 \\ln 3 \\approx -1.910$\n",
    "\n",
    "  黑色像素为关键性少数。\n",
    "* $\\langle\\delta S\\rangle(x_{l'})$ 在这三张图片中都能够识别出各自的背景、信息区以及关键性少数"
   ]
  },
  {
   "cell_type": "markdown",
   "metadata": {},
   "source": [
    "### Code"
   ]
  },
  {
   "cell_type": "code",
   "execution_count": 1,
   "metadata": {},
   "outputs": [],
   "source": [
    "# |default_exp algorithms.dyn_feature_selection_OEE\n",
    "# |export\n",
    "import torch\n",
    "from tensor_network.feature_mapping import cossin_feature_map, feature_map_to_qubit_state\n",
    "import numpy as np"
   ]
  },
  {
   "cell_type": "code",
   "execution_count": 2,
   "metadata": {},
   "outputs": [],
   "source": [
    "from typing import List"
   ]
  },
  {
   "cell_type": "code",
   "execution_count": 3,
   "metadata": {},
   "outputs": [],
   "source": [
    "# |export quantum_state.functional\n",
    "from tensor_network.utils.checking import check_state_tensor\n",
    "from tensor_network.quantum_state.functional import calc_reduced_density_matrix\n",
    "\n",
    "\n",
    "def calc_onsite_entanglement_entropy(\n",
    "    state: torch.Tensor, qubit_idx: int | List[int] | None = None, eps: float = 1e-14\n",
    ") -> torch.Tensor:\n",
    "    \"\"\"\n",
    "    Calculate the onsite entanglement entropy of a quantum state.\n",
    "    Args:\n",
    "        state: The quantum state to calculate the onsite entanglement entropy of.\n",
    "        qubit_idx: The indices of the qubits to calculate the onsite entanglement entropy of. If None, all qubits are considered.\n",
    "        eps: The small number to avoid log(0).\n",
    "    Returns:\n",
    "        The onsite entanglement entropy of the quantum state.\n",
    "    \"\"\"\n",
    "    check_state_tensor(state)\n",
    "    n_qubits = state.ndim\n",
    "    if qubit_idx is None:\n",
    "        qubit_idx = list(range(n_qubits))\n",
    "    elif isinstance(qubit_idx, int):\n",
    "        qubit_idx = [qubit_idx]\n",
    "    else:\n",
    "        assert isinstance(qubit_idx, List), (\n",
    "            f\"qubit_idx must be an integer or a list of integers, got {type(qubit_idx)}\"\n",
    "        )\n",
    "        assert len(qubit_idx) > 0, \"qubit_idx must be a non-empty list\"\n",
    "    qubit_idx = torch.tensor(qubit_idx)\n",
    "    assert torch.all(qubit_idx < n_qubits), \"qubit_idx must be less than the number of qubits\"\n",
    "    assert torch.all(qubit_idx >= 0), \"qubit_idx must be non-negative\"\n",
    "    oees = []\n",
    "    for idx in qubit_idx:\n",
    "        rdm = calc_reduced_density_matrix(state, idx.item())\n",
    "        eigvals = torch.linalg.eigvalsh(rdm)\n",
    "        oees.append(-eigvals.inner(torch.log(eigvals + eps)))\n",
    "\n",
    "    oees = torch.stack(oees)\n",
    "    return oees\n",
    "\n",
    "\n",
    "def project_state(\n",
    "    state: torch.Tensor, project_qubit_state: torch.Tensor, project_qubit_idx: int\n",
    ") -> torch.Tensor:\n",
    "    \"\"\"\n",
    "    Project a quantum state onto a specific qubit state.\n",
    "    Args:\n",
    "        state: The quantum state to project.\n",
    "        project_qubit_state: The state to project onto.\n",
    "        project_qubit_idx: The index of the qubit to project onto.\n",
    "    Returns:\n",
    "        The projected quantum state.\n",
    "    \"\"\"\n",
    "    check_state_tensor(state)\n",
    "    assert project_qubit_state.ndim == 1 and project_qubit_state.shape[0] == 2, (\n",
    "        \"project_qubit_state must be a 1D tensor with 2 elements\"\n",
    "    )\n",
    "    new_state = torch.tensordot(state, project_qubit_state, dims=([project_qubit_idx], [0]))\n",
    "    new_state = new_state / new_state.norm()\n",
    "    return new_state"
   ]
  },
  {
   "cell_type": "code",
   "execution_count": 4,
   "metadata": {},
   "outputs": [],
   "source": [
    "# |export\n",
    "from tensor_network.quantum_state.functional import calc_onsite_entanglement_entropy, project_state\n",
    "\n",
    "\n",
    "def dyn_OEE_analyze(samples: torch.Tensor, nth_img: int):\n",
    "    \"\"\"\n",
    "    dynamic onsite entanglement entropy analysis\n",
    "    \"\"\"\n",
    "    assert samples.ndim == 2, \"samples must be a 2D tensor\"  # (num_samples, num_features)\n",
    "    assert samples.shape[1] >= 3\n",
    "    num_samples, num_features = samples.shape\n",
    "    features = cossin_feature_map(samples, theta=0.5)  # (num_samples, num_features, 2)\n",
    "    tensor_states = feature_map_to_qubit_state(features)  # (num_samples, [2] * num_features)\n",
    "    tensor_state = tensor_states.sum(dim=0) / np.sqrt(num_samples)\n",
    "\n",
    "    oees = calc_onsite_entanglement_entropy(tensor_state)\n",
    "    print(f\"初始OEE = {oees}\")\n",
    "    total_oee = oees.sum()\n",
    "\n",
    "    for feature_idx in range(num_features):\n",
    "        print(\n",
    "            f\"根据第{feature_idx}个样本的特征取值 (x={samples[nth_img, feature_idx]})，投影测量第{feature_idx}个量子位\"\n",
    "        )\n",
    "        projected_state = project_state(\n",
    "            tensor_state, features[nth_img, feature_idx, :], feature_idx\n",
    "        )\n",
    "        new_oees = calc_onsite_entanglement_entropy(projected_state)\n",
    "        oee_change = new_oees.sum() - total_oee\n",
    "        print(f\"\\t 测量后，其余量子位OEE = {new_oees}\")\n",
    "        print(f\"\\t 测量前后OEE变化量 = {oee_change.item()}\")\n",
    "    print()"
   ]
  },
  {
   "cell_type": "code",
   "execution_count": 5,
   "metadata": {},
   "outputs": [],
   "source": [
    "simple_samples_a = torch.tensor([[0, 0, 1], [0, 1, 0]])\n",
    "simple_samples_b = torch.tensor([[0, 0, 0, 1], [0, 0, 1, 0], [0, 1, 0, 0]])"
   ]
  },
  {
   "cell_type": "code",
   "execution_count": 6,
   "metadata": {},
   "outputs": [
    {
     "name": "stdout",
     "output_type": "stream",
     "text": [
      "初始OEE = tensor([5.9605e-08, 6.9315e-01, 6.9315e-01])\n",
      "根据第0个样本的特征取值 (x=0)，投影测量第0个量子位\n",
      "\t 测量后，其余量子位OEE = tensor([0.6931, 0.6931])\n",
      "\t 测量前后OEE变化量 = 0.0\n",
      "根据第1个样本的特征取值 (x=0)，投影测量第1个量子位\n",
      "\t 测量后，其余量子位OEE = tensor([-0., -0.])\n",
      "\t 测量前后OEE变化量 = -1.3862943649291992\n",
      "根据第2个样本的特征取值 (x=1)，投影测量第2个量子位\n",
      "\t 测量后，其余量子位OEE = tensor([-0., -0.])\n",
      "\t 测量前后OEE变化量 = -1.3862943649291992\n",
      "\n",
      "初始OEE = tensor([5.9605e-08, 6.3651e-01, 6.3651e-01, 6.3651e-01])\n",
      "根据第0个样本的特征取值 (x=0)，投影测量第0个量子位\n",
      "\t 测量后，其余量子位OEE = tensor([0.6365, 0.6365, 0.6365])\n",
      "\t 测量前后OEE变化量 = -3.5762786865234375e-07\n",
      "根据第1个样本的特征取值 (x=0)，投影测量第1个量子位\n",
      "\t 测量后，其余量子位OEE = tensor([5.9605e-08, 6.9315e-01, 6.9315e-01])\n",
      "\t 测量前后OEE变化量 = -0.5232481956481934\n",
      "根据第2个样本的特征取值 (x=0)，投影测量第2个量子位\n",
      "\t 测量后，其余量子位OEE = tensor([5.9605e-08, 6.9315e-01, 6.9315e-01])\n",
      "\t 测量前后OEE变化量 = -0.5232481956481934\n",
      "根据第3个样本的特征取值 (x=1)，投影测量第3个量子位\n",
      "\t 测量后，其余量子位OEE = tensor([-0., -0., -0.])\n",
      "\t 测量前后OEE变化量 = -1.9095425605773926\n",
      "\n"
     ]
    }
   ],
   "source": [
    "dyn_OEE_analyze(simple_samples_a, 0)\n",
    "dyn_OEE_analyze(simple_samples_b, 0)"
   ]
  },
  {
   "cell_type": "markdown",
   "metadata": {},
   "source": [
    "## 例子：MNIST + MPS"
   ]
  },
  {
   "cell_type": "code",
   "execution_count": 7,
   "metadata": {},
   "outputs": [],
   "source": [
    "# |export\n",
    "\n",
    "from tensor_network.mps.modules import MPS\n",
    "from tqdm.auto import tqdm\n",
    "from typing import Dict, Any\n",
    "\n",
    "\n",
    "def _remove_at(tensor: torch.Tensor, idx: int) -> torch.Tensor:\n",
    "    return torch.cat([tensor[:idx], tensor[idx + 1 :]])\n",
    "\n",
    "\n",
    "def OEE_variation_one_qubit_measurement(\n",
    "    mps: MPS,\n",
    "    feature: torch.Tensor,\n",
    "    oee_threshold: float | None = None,\n",
    "    progress_bar_kwargs: Dict[str, Any] = {},\n",
    ") -> torch.Tensor:\n",
    "    assert feature.ndim == 2, \"features must be a 2D tensor\"\n",
    "    feature_num = feature.shape[0]\n",
    "    oees = mps.entanglement_entropy_onsite_()\n",
    "    if oee_threshold is None:\n",
    "        selected_pos = torch.arange(feature_num)\n",
    "        select_all = True\n",
    "    else:\n",
    "        assert oee_threshold > 0.0, \"oee_eps must be a positive number\"\n",
    "        lt_oee_eps = oees < oee_threshold\n",
    "        oees[lt_oee_eps] = 0.0\n",
    "        selected_pos = torch.nonzero(~lt_oee_eps, as_tuple=True)[0]\n",
    "        select_all = False\n",
    "\n",
    "    oee_sum = oees.sum()\n",
    "    zero = torch.zeros_like(oee_sum)\n",
    "    oee_changes = []\n",
    "\n",
    "    for idx in tqdm(range(feature_num), **progress_bar_kwargs):\n",
    "        if idx in selected_pos:\n",
    "            mps.center_orthogonalization_(idx, mode=\"qr\", normalize=False)\n",
    "            # project mps at idx\n",
    "            projected_mps = mps.project_one_qubit(idx, feature[idx])\n",
    "            projected_mps._center = max(0, idx - 1)\n",
    "            if select_all:\n",
    "                new_oees = projected_mps.entanglement_entropy_onsite_()\n",
    "            else:\n",
    "                new_selected_pos = _remove_at(selected_pos, idx)\n",
    "                new_selected_pos[new_selected_pos > idx] -= 1\n",
    "                new_oees = projected_mps.entanglement_entropy_onsite_(\n",
    "                    indices=new_selected_pos.tolist()\n",
    "                )\n",
    "            oee_changes.append(oee_sum - new_oees.sum())\n",
    "        else:\n",
    "            oee_changes.append(zero)\n",
    "\n",
    "    oee_changes = torch.stack(oee_changes)\n",
    "    return oee_changes"
   ]
  },
  {
   "cell_type": "code",
   "execution_count": 8,
   "metadata": {},
   "outputs": [],
   "source": [
    "from tensor_network.utils.data import load_mnist_images\n",
    "from time import time\n",
    "import matplotlib.pyplot as plt\n",
    "\n",
    "cache_path = \"datasets/MNIST\"\n",
    "MNIST_NORMALIZE = False\n",
    "COSSIN_THETA = 0.5\n",
    "\n",
    "train_class = 0\n",
    "test_device = torch.device(\"cpu\")"
   ]
  },
  {
   "cell_type": "code",
   "execution_count": 9,
   "metadata": {},
   "outputs": [],
   "source": [
    "sample_image = load_mnist_images(\n",
    "    cache_path=cache_path,\n",
    "    num=1,\n",
    "    from_subset=\"train\",\n",
    "    shuffle=True,\n",
    "    normalization=MNIST_NORMALIZE,\n",
    "    classes=train_class,\n",
    "    return_labels=False,\n",
    ").reshape(28, 28)\n",
    "sample = sample_image.reshape(1, -1)\n",
    "sample = cossin_feature_map(sample, theta=COSSIN_THETA)  # (1, 28*28, 2)\n",
    "sample = sample.squeeze()  # (28*28, 2)"
   ]
  },
  {
   "cell_type": "code",
   "execution_count": 10,
   "metadata": {},
   "outputs": [],
   "source": [
    "mps_train_class = MPS.load_from_safetensors(\n",
    "    f\"datasets/mps/mnist_{train_class}_mps.safetensors\", requires_grad=False\n",
    ").to_(device=test_device)"
   ]
  },
  {
   "cell_type": "code",
   "execution_count": 11,
   "metadata": {},
   "outputs": [
    {
     "data": {
      "application/vnd.jupyter.widget-view+json": {
       "model_id": "014969ccfe7e4142880dc91556494fe5",
       "version_major": 2,
       "version_minor": 0
      },
      "text/plain": [
       "  0%|          | 0/784 [00:00<?, ?it/s]"
      ]
     },
     "metadata": {},
     "output_type": "display_data"
    },
    {
     "data": {
      "application/vnd.jupyter.widget-view+json": {
       "model_id": "81278743e55f4917bee94dbf0ddf4d33",
       "version_major": 2,
       "version_minor": 0
      },
      "text/plain": [
       "  0%|          | 0/784 [00:00<?, ?it/s]"
      ]
     },
     "metadata": {},
     "output_type": "display_data"
    },
    {
     "name": "stdout",
     "output_type": "stream",
     "text": [
      "\n",
      "Time to calculate OEE changes: 184.39s\n",
      "Time to calculate OEE changes with filtering: 79.04s\n",
      "Time saving: 57.13%\n",
      "\n"
     ]
    }
   ],
   "source": [
    "start = time()\n",
    "oee_changes = OEE_variation_one_qubit_measurement(mps_train_class, sample)\n",
    "end = time()\n",
    "used_time = end - start\n",
    "\n",
    "start = time()\n",
    "oee_changes_with_threshold = OEE_variation_one_qubit_measurement(\n",
    "    mps_train_class, sample, oee_threshold=1e-2\n",
    ")\n",
    "end = time()\n",
    "used_time_with_threshold = end - start\n",
    "\n",
    "print(f\"\"\"\n",
    "Time to calculate OEE changes: {used_time:.2f}s\n",
    "Time to calculate OEE changes with filtering: {used_time_with_threshold:.2f}s\n",
    "Time saving: {100 * (used_time - used_time_with_threshold) / used_time:.2f}%\n",
    "\"\"\")"
   ]
  },
  {
   "cell_type": "code",
   "execution_count": 12,
   "metadata": {},
   "outputs": [
    {
     "data": {
      "image/png": "[encoded data removed]",
      "text/plain": [
       "<Figure size 1800x500 with 4 Axes>"
      ]
     },
     "metadata": {},
     "output_type": "display_data"
    }
   ],
   "source": [
    "oee_change_image = oee_changes.reshape(28, 28)\n",
    "oee_change_image_with_threshold = oee_changes_with_threshold.reshape(28, 28)\n",
    "\n",
    "fig, (ax0, ax1, ax2) = plt.subplots(1, 3, figsize=(18, 5))\n",
    "\n",
    "im0 = ax0.imshow(sample_image, cmap=\"gray\", aspect=\"equal\")\n",
    "ax0.set_title(\"Sample Image\")\n",
    "\n",
    "# Plot the first image (without threshold)\n",
    "im1 = ax1.imshow(oee_change_image, cmap=\"coolwarm\", aspect=\"equal\")\n",
    "ax1.set_title(\"OEE Changes (No Threshold)\")\n",
    "\n",
    "# Plot the second image (with threshold)\n",
    "im2 = ax2.imshow(oee_change_image_with_threshold, cmap=\"coolwarm\", aspect=\"equal\")\n",
    "ax2.set_title(\"OEE Changes (With Threshold)\")\n",
    "\n",
    "# Add a single colorbar for both images\n",
    "# Find the global min and max for consistent color scaling\n",
    "vmin = min(oee_change_image.min(), oee_change_image_with_threshold.min())\n",
    "vmax = max(oee_change_image.max(), oee_change_image_with_threshold.max())\n",
    "\n",
    "# Update both images with the same color limits\n",
    "im1.set_clim(vmin, vmax)\n",
    "im2.set_clim(vmin, vmax)\n",
    "\n",
    "# Add a single colorbar on the right side\n",
    "plt.colorbar(im1, ax=[ax1, ax2], shrink=0.8)\n",
    "\n",
    "plt.show()"
   ]
  }
 ],
 "metadata": {
  "kernelspec": {
   "display_name": ".venv",
   "language": "python",
   "name": "python3"
  },
  "language_info": {
   "codemirror_mode": {
    "name": "ipython",
    "version": 3
   },
   "file_extension": ".py",
   "mimetype": "text/x-python",
   "name": "python",
   "nbconvert_exporter": "python",
   "pygments_lexer": "ipython3",
   "version": "3.12.9"
  }
 },
 "nbformat": 4,
 "nbformat_minor": 2
}
