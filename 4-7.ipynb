{
 "cells": [
  {
   "cell_type": "markdown",
   "metadata": {},
   "source": [
    "# 4.7: 基于生成式张量网络的概率分类方法\n",
    "\n",
    "> Reference: _Generative tensor network classification model for supervised machine learning_\n",
    "\n",
    "考虑利用每一类训练样本，分别训练一个GMPS，记为$|\\psi^{[c]}\\rangle$（其中 $c$ 代表 $c$ 类）\n",
    "\n",
    "对于某个待分类的样本（记为$y$），各个GMPS生成该样本的概率满足玻恩概率诠释，这个概率相对于是给定了分类的条件概率，即\n",
    "  \n",
    "$$p(y|c) = |\\langle\\Phi|\\psi^{[c]}\\rangle|^2$$\n",
    "\n",
    "其中 $|\\Phi\\rangle$ 为 $y$ 经过特征映射所得的量子态。\n",
    "\n",
    "对分类的预测满足：$\\tilde{c} = \\arg\\max_c p(y|c)$\n",
    "\n",
    "这样做是合理的，例如，当 $y$ 代表一张猫的图片时，用猫的图片对应的GMPS得到该图的概率显然应大于用狗图片对应 GMPS得到该图的概率，即我们预期\n",
    "  \n",
    "$$p(y \\in c|c) \\gg p(y \\not\\in c|c)$$\n",
    "\n",
    "## 证明\n",
    "\n",
    "### 背景知识\n",
    "\n",
    "可由贝叶斯 (Bayes) 公式给出更加严谨的数学基础：\n",
    "\n",
    "考虑一组事件集合{$A_n$}，满足集合中任意二事件同时发生的概率为0（互斥），且所有事件发生的概率和为1，有$\\sum_n p(A_n) = 1$。我们称这样的事件集合为**完备事件组**。\n",
    "\n",
    "这组事件集合中的每一个事件都可能导致另一个事件 $B$ 的发生与否，对应的概率由条件概率 $p(B|A_n)$ 给出。此时，事件$B$发生的概率满足全概率公式\n",
    "\n",
    "$$p(B) = \\sum_n p(B|A_n)p(A_n)$$\n",
    "\n",
    "一类简单的完备事件组是某一事件$A$及其对立事件$\\bar{A}$，例如，$A$代表打雷这件事，则$\\bar{A}$代表没有打雷。那么，下雨的概率满足\n",
    "\n",
    "$$p(下雨) = p(下雨|打雷)p(打雷) + p(下雨|不打雷)p(不打雷)$$\n",
    "\n",
    "事件$B$与某个$A_n$同时发生的概率（被称为联合概率）满足\n",
    "$$p(A_n, B) = p(B|A_n)p(A_n)$$\n",
    "例如，打雷且下雨的概率等于打雷的概率$p(打雷)$乘以打雷的情况下下雨的概率$p(下雨|打雷)$。\n",
    "\n",
    "下面我们将所考虑的问题转换一下：如果我们已知打雷的概率、打雷时下雨的概率，以及不打雷时下雨地概率，能否给出下雨时打雷的概率呢？\n",
    "\n",
    "根据联合概率公式，打雷且下雨的联合概率满足两个等式\n",
    "$$p(打雷,下雨) = p(打雷|下雨)p(下雨) = p(下雨|打雷)p(打雷)$$\n",
    "\n",
    "于是有\n",
    "$$p(打雷|下雨) = \\frac{p(下雨|打雷)p(打雷)}{p(下雨)}$$\n",
    "\n",
    "其中概率$p(下雨)$并未直接给出，但可以通过全概率公式计算，即\n",
    "$$p(下雨) = p(下雨|打雷)p(打雷) + p(下雨|不打雷)[1-p(打雷)]$$\n",
    "\n",
    "另一种理论上等价的方式是利用概率的归一性，即 $p(打雷|下雨) + p(不打雷|下雨) = 1$。由于\n",
    "\n",
    "$$p(不打雷|下雨) = \\frac{p(下雨|不打雷)p(不打雷)}{p(下雨)}$$\n",
    "\n",
    "我们只需计算 $p'(打雷|下雨) = p(下雨|打雷)p(打雷)$，以及 $p'(不打雷|下雨) = p(下雨|不打雷)[1-p(打雷)]$，并计算归一化因子\n",
    "$$Z = p'(打雷|下雨) + p'(不打雷|下雨)$$\n",
    "\n",
    "则有$p(不打雷|下雨) = p'(不打雷|下雨)/Z$。容易看出，$Z = p(下雨)$，其就是全概率公式。\n",
    "\n",
    "综上有\n",
    "\n",
    "$$p(打雷|下雨) = \\frac{p(下雨|打雷)p(打雷)}{p(下雨|打雷)p(打雷) + p(下雨|不打雷)[1-p(打雷)]}$$\n",
    "\n",
    "上式的一般形式为\n",
    "\n",
    "$$p(A_n|B) = \\frac{p(B|A_n)p(A_n)}{\\sum_m p(B|A_m)p(A_m)}$$\n",
    "\n",
    "该式被称为贝叶斯公式或贝叶斯定理，其中边缘（marginal）概率 $p(A_n)$ 被称为**先验（prior）概率**，条件概率 $p(A_n|B)$ 也被称为**后验（posterior）概率**，条件概率 $p(B|A_n)$ 也被称为**似然（likelihood）函数**\n",
    "\n",
    "### GMPSC\n",
    "\n",
    "回到基于GMPS的分类方法：GMPS给出贝叶斯公式中的似然函数 $p(y|c) = |\\langle\\Phi|\\psi^{[c]}\\rangle|^2$\n",
    "\n",
    "先验概率 $p(c)$ 可认为是随机从训练集抽取一个样本时，所选样本属于第 $c$ 类的概率。一般情况下，训练集各类所含的样本数相等，因此我们可以取 $p(c) = 1/C$，其中 $C$ 为总类别数，因此先验概率的取值与样本 $y$ 及类别 $c$ 无关。\n",
    "\n",
    "将上述先验概率与似然函数代入贝叶斯公式，得到样本$y$属于各类的条件（后验）概率，满足\n",
    "\n",
    "$$p(c|y) = \\frac{p(y|c)}{CZ}$$\n",
    "\n",
    "其中 $Z$ 为归一化系数，由于类别预测满足 $\\hat{c} = \\text{argmax}_c p(c|y)$，通过该式不难看出，$Z$ 的值并不影响 $\\hat{c}$，因此可直接取\n",
    "\n",
    "$$\\hat{c} = \\text{argmax}_c p(y|c) = \\text{argmax}_c |\\langle\\Phi|\\psi^{[c]}\\rangle|^2$$\n",
    "\n",
    "依据上式实现的GMPS分类模型，被称为GMPS分类器（GMPSC）。\n",
    "\n",
    "也可取 $\\hat{c} = \\text{argmax}_c \\ln|\\langle\\Phi|\\psi^{[c]}\\rangle|^2$，避免计算指数小的 $|\\langle\\Phi|\\psi^{[c]}\\rangle|^2$（正交灾难）。"
   ]
  },
  {
   "cell_type": "markdown",
   "metadata": {},
   "source": [
    "## Code"
   ]
  },
  {
   "cell_type": "code",
   "execution_count": 1,
   "metadata": {},
   "outputs": [],
   "source": [
    "import torch\n",
    "from tensor_network.utils.data import load_mnist_images\n",
    "from tensor_network.algorithms.gmps import train_gmps, eval_nll\n",
    "from tensor_network.mps.modules import MPS, MPSType\n",
    "from tensor_network.feature_mapping import cossin_feature_map\n",
    "import matplotlib.pyplot as plt\n",
    "from typing import List\n",
    "from tqdm.auto import tqdm\n",
    "\n",
    "mnist_cache_path = \"datasets/MNIST\"\n",
    "CLASSES = list(range(10))\n",
    "\n",
    "THETA = 0.5  # theta is important to map the feature in range [0, 1]"
   ]
  },
  {
   "cell_type": "markdown",
   "metadata": {},
   "source": [
    "### Training MNIST GMPSs"
   ]
  },
  {
   "cell_type": "code",
   "execution_count": 2,
   "metadata": {},
   "outputs": [],
   "source": [
    "# hyperparameters\n",
    "device = torch.device(\"cpu\")\n",
    "lr = 1e-1\n",
    "sweep_times = 10\n",
    "\n",
    "feature_dim = 2  # since we use cossin feature map\n",
    "feature_num = 28 * 28\n",
    "virtual_dim = 64\n",
    "\n",
    "theta = THETA\n",
    "# No normalization for MNIST because doing so will map some data to negative values\n",
    "MNIST_NORMALIZATION = False"
   ]
  },
  {
   "cell_type": "code",
   "execution_count": 3,
   "metadata": {},
   "outputs": [
    {
     "name": "stdout",
     "output_type": "stream",
     "text": [
      "Training complete\n",
      "Trained classes: []\n"
     ]
    }
   ],
   "source": [
    "skip_classes = [None]  # None to skip all training\n",
    "trained_classes = []\n",
    "\n",
    "for train_class in CLASSES:\n",
    "    if None in skip_classes:\n",
    "        break\n",
    "    if train_class in skip_classes:\n",
    "        continue\n",
    "    print(f\"Training GMPS for class {train_class}\")\n",
    "    images = load_mnist_images(\n",
    "        cache_path=mnist_cache_path,\n",
    "        num=None,\n",
    "        from_subset=\"train\",\n",
    "        shuffle=True,\n",
    "        classes=train_class,\n",
    "        normalization=MNIST_NORMALIZATION,\n",
    "    )\n",
    "    train_data = images.reshape(images.shape[0], -1).to(device)\n",
    "    train_data = cossin_feature_map(train_data, theta=theta)\n",
    "    mps = MPS(\n",
    "        length=feature_num,\n",
    "        physical_dim=feature_dim,\n",
    "        virtual_dim=virtual_dim,\n",
    "        mps_type=MPSType.Open,\n",
    "        dtype=torch.float32,\n",
    "        device=device,\n",
    "        requires_grad=False,\n",
    "    )\n",
    "    losses, mps = train_gmps(\n",
    "        samples=train_data,\n",
    "        batch_size=train_data.shape[0],  # mega batch, can change to micro batch\n",
    "        mps=mps,\n",
    "        sweep_times=sweep_times,\n",
    "        lr=lr,\n",
    "        device=device,\n",
    "        enable_tsgo=True,\n",
    "    )\n",
    "    test_images = load_mnist_images(\n",
    "        cache_path=mnist_cache_path,\n",
    "        num=None,\n",
    "        from_subset=\"test\",\n",
    "        shuffle=False,\n",
    "        classes=train_class,\n",
    "        normalization=MNIST_NORMALIZATION,\n",
    "    )\n",
    "    test_data = test_images.reshape(test_images.shape[0], -1).to(device)\n",
    "    test_data = cossin_feature_map(test_data, theta=theta)\n",
    "    test_nll = eval_nll(samples=test_data, mps=mps, device=device)\n",
    "    plt.figure(figsize=(10, 6))\n",
    "    plt.plot(losses, label=\"Training NLL\")\n",
    "    plt.axhline(y=test_nll, color=\"r\", linestyle=\"--\", label=\"Test NLL\")\n",
    "    plt.xlabel(\"Sweep\")\n",
    "    plt.ylabel(\"Loss\")\n",
    "    plt.title(f\"Training and Test Losses for class {train_class}\")\n",
    "    plt.legend()\n",
    "    plt.grid(True)\n",
    "    plt.savefig(f\"datasets/mps/mnist_{train_class}_losses.png\")\n",
    "    plt.show()\n",
    "    path = f\"datasets/mps/mnist_{train_class}_mps.safetensors\"\n",
    "    mps.save_to_safetensors(path)\n",
    "    print(f\"Saved GMPS for class {train_class} to {path}\\n\")\n",
    "    trained_classes.append(train_class)\n",
    "\n",
    "print(\"Training complete\")\n",
    "print(f\"Trained classes: {trained_classes}\")"
   ]
  },
  {
   "cell_type": "markdown",
   "metadata": {},
   "source": [
    "### GMPS Classification"
   ]
  },
  {
   "cell_type": "code",
   "execution_count": 4,
   "metadata": {},
   "outputs": [],
   "source": [
    "test_device = torch.device(\"cpu\")"
   ]
  },
  {
   "cell_type": "code",
   "execution_count": 5,
   "metadata": {},
   "outputs": [],
   "source": [
    "gmpss = []\n",
    "\n",
    "for train_class in CLASSES:\n",
    "    path = f\"datasets/mps/mnist_{train_class}_mps.safetensors\"\n",
    "    mps = MPS.load_from_safetensors(path, requires_grad=False)\n",
    "    mps.to_(device=test_device)\n",
    "    gmpss.append(mps)\n",
    "\n",
    "test_images = []\n",
    "\n",
    "for test_class in CLASSES:\n",
    "    test_data = load_mnist_images(\n",
    "        cache_path=mnist_cache_path,\n",
    "        num=None,\n",
    "        from_subset=\"test\",\n",
    "        shuffle=False,\n",
    "        classes=test_class,\n",
    "        normalization=MNIST_NORMALIZATION,\n",
    "    )\n",
    "    test_data = test_data.reshape(test_data.shape[0], -1).to(test_device)\n",
    "    test_images.append(test_data)"
   ]
  },
  {
   "cell_type": "code",
   "execution_count": 6,
   "metadata": {},
   "outputs": [],
   "source": [
    "# |export algorithms.gmps\n",
    "\n",
    "\n",
    "def gmps_classify(gmpss: List[MPS], data: torch.Tensor) -> torch.Tensor:\n",
    "    \"\"\"\n",
    "    Use a group of MPS to classify the data.\n",
    "\n",
    "    Args:\n",
    "        gmpss: List[MPS], the group of MPS to classify the data.\n",
    "        data: torch.Tensor, the feature-mapped data to classify.\n",
    "    Returns:\n",
    "        torch.Tensor, the predictions of the data.\n",
    "    \"\"\"\n",
    "    num_gmps = len(gmpss)\n",
    "    assert num_gmps > 0, \"No GMPSs provided\"\n",
    "    assert data.ndim == 3, \"Data must be a 3D tensor of shape (batch, feature_num, feature_dim)\"\n",
    "    feature_num = data.shape[1]\n",
    "    assert feature_num == gmpss[0].length, \"Feature number mismatch\"\n",
    "\n",
    "    nll_of_gmps = []\n",
    "    for gmps in gmpss:\n",
    "        nll = eval_nll(samples=data, mps=gmps, device=gmps.device, return_avg=False)  # (batch)\n",
    "        nll_of_gmps.append(nll)\n",
    "\n",
    "    nll_of_gmps = torch.stack(nll_of_gmps, dim=1)  # (batch, num_gmps)\n",
    "    predictions = torch.argmin(nll_of_gmps, dim=1)  # (batch)\n",
    "    return predictions"
   ]
  },
  {
   "cell_type": "code",
   "execution_count": 7,
   "metadata": {},
   "outputs": [
    {
     "data": {
      "application/vnd.jupyter.widget-view+json": {
       "model_id": "2faef0825c3d404390872ede27f68376",
       "version_major": 2,
       "version_minor": 0
      },
      "text/plain": [
       "  0%|          | 0/10 [00:00<?, ?it/s]"
      ]
     },
     "metadata": {},
     "output_type": "display_data"
    }
   ],
   "source": [
    "accuracies = []\n",
    "\n",
    "for test_class in tqdm(CLASSES):\n",
    "    test_data = test_images[test_class]\n",
    "    test_samples = cossin_feature_map(test_data, theta=THETA)\n",
    "\n",
    "    predictions = gmps_classify(gmpss, test_samples)\n",
    "    acc = (predictions == test_class).float().mean()\n",
    "    accuracies.append(acc)"
   ]
  },
  {
   "cell_type": "code",
   "execution_count": 8,
   "metadata": {},
   "outputs": [
    {
     "data": {
      "image/png": "[encoded data removed]",
      "text/plain": [
       "<Figure size 1000x600 with 1 Axes>"
      ]
     },
     "metadata": {},
     "output_type": "display_data"
    }
   ],
   "source": [
    "plt.figure(figsize=(10, 6))\n",
    "bars = plt.bar(range(len(CLASSES)), accuracies)\n",
    "plt.xticks(range(len(CLASSES)), CLASSES)\n",
    "plt.xlabel(\"Digit Class\")\n",
    "plt.ylabel(\"Accuracy\")\n",
    "plt.title(\"Classification Accuracy by Digit Class\")\n",
    "plt.grid(True, axis=\"y\", linestyle=\"--\", alpha=0.7)\n",
    "plt.ylim(0.8, 1.0)\n",
    "\n",
    "# Add value labels on top of each bar\n",
    "for bar in bars:\n",
    "    height = bar.get_height()\n",
    "    plt.text(bar.get_x() + bar.get_width() / 2.0, height, f\"{height:.3f}\", ha=\"center\", va=\"bottom\")\n",
    "\n",
    "plt.show()"
   ]
  }
 ],
 "metadata": {
  "kernelspec": {
   "display_name": ".venv",
   "language": "python",
   "name": "python3"
  },
  "language_info": {
   "codemirror_mode": {
    "name": "ipython",
    "version": 3
   },
   "file_extension": ".py",
   "mimetype": "text/x-python",
   "name": "python",
   "nbconvert_exporter": "python",
   "pygments_lexer": "ipython3",
   "version": "3.12.9"
  }
 },
 "nbformat": 4,
 "nbformat_minor": 2
}
