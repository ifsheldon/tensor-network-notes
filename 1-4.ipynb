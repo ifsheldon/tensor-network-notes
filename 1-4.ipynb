{
 "cells": [
  {
   "cell_type": "code",
   "execution_count": 1,
   "id": "initial_id",
   "metadata": {
    "ExecuteTime": {
     "end_time": "2025-03-17T10:37:22.063873Z",
     "start_time": "2025-03-17T10:37:21.336586Z"
    },
    "collapsed": true
   },
   "outputs": [],
   "source": [
    "#|default_exp tensor_utils\n",
    "#|export\n",
    "import torch"
   ]
  },
  {
   "cell_type": "markdown",
   "id": "49f61d3ed134793a",
   "metadata": {},
   "source": [
    "# 张量网络的图形表示\n",
    "\n",
    "\n",
    "*   使用一个块来表示**张量**，用连接该块的**线条**代表该**张量**的**指标**。\n",
    "\n",
    "*   每条线段被限制为只能连接一个或两个张量，当线段连接两个张量时，对应的指标为共有指标，需被收缩（求和）掉。\n",
    "\n",
    "*   张量、指标较多时，图形比公式更直观好用。\n"
   ]
  },
  {
   "cell_type": "markdown",
   "id": "475a01cd397fb7e8",
   "metadata": {},
   "source": [
    "## 例子\n",
    "\n",
    "(a) $X_{abc} = \\sum_{ijk} A_{iaj} B_{jbk} C_{kci}$\n",
    "\n",
    "(b) $\\varphi_{s_0 s_1 \\dots s_{N-1}} = \\sum_{\\{a_\\ast\\}} \\prod_{n=0}^{N-1} A_{a_n s_n a_{n+1}}^{(n)} I_{a_0 a_N}$\n",
    "\n",
    "叫$N$矩阵乘积态，图例是 $N=5$\n",
    "\n",
    "(c) $T_{abc} = \\sum_{n_0 n_1 n_2 n_3} \\Upsilon_{n_0} U_{a n_1} V_{b n_2} W_{c n_3} I_{n_0 n_1 n_2 n_3}$\n",
    "\n",
    "![tensor_network_examples](images/tensor_network_examples.png)\n",
    "\n",
    "### 注意点： Index 顺序\n",
    "\n",
    "图像里一般不会标注 index 的顺序，这个默认是作者自己知道的。\n",
    "\n",
    "如果一定需要标准 index 顺序，可以在靠近张量的地方标注 index 的顺序，但是不要标在线段上，因为公有的 index 的顺序在共享的张量上不一定一样。\n",
    "\n",
    "### 注意点：单位矩阵的作用\n",
    "\n",
    "(b) $\\varphi_{s_0 s_1 \\dots s_{N-1}} = \\sum_{\\{a_\\ast\\}} \\prod_{n=0}^{N-1} A_{a_n s_n a_{n+1}}^{(n)} I_{a_0 a_N}$\n",
    "\n",
    "里面的 $I_{a_0 a_N}$ 的意思是 $a_0$ 和 $a_N$ 是共享（同一个）index\n",
    "\n",
    "同理 (c) $T_{abc} = \\sum_{n_0 n_1 n_2 n_3} \\Upsilon_{n_0} U_{a n_1} V_{b n_2} W_{c n_3} I_{n_0 n_1 n_2 n_3}$ 里的 $I_{n_0 n_1 n_2 n_3}$ 表示 $n_0, n_1, n_2, n_3$ 共享（同一个）index\n",
    "\n",
    "原因：\n",
    "* 为了公式简洁，比如 (b) 中就不用单独把 $a_0, a_N$ 单独命名一个共有 index 了\n",
    "* 图像上，例如 (c) 中 $n_0, n_1, n_2, n_3$ 共享（同一个）index，但是不能画出来，所以添加一个单位矩阵 $I_{n_0 n_1 n_2 n_3}$"
   ]
  },
  {
   "cell_type": "markdown",
   "id": "87adfe1a027ed251",
   "metadata": {},
   "source": [
    "## 超单位张量\n",
    "\n",
    "![identity_tensor](images/identity_tensor.png)\n",
    "\n",
    "进一步解释了单位矩阵的作用，因为只有$s_0 = s_1 = \\cdots = s_{K-1}$ 的时候，相乘才有贡献"
   ]
  },
  {
   "cell_type": "code",
   "execution_count": 2,
   "id": "651a90f6ddc983c8",
   "metadata": {
    "ExecuteTime": {
     "end_time": "2025-03-17T10:37:22.072345Z",
     "start_time": "2025-03-17T10:37:22.066952Z"
    }
   },
   "outputs": [],
   "source": [
    "U = torch.randn(2, 2)\n",
    "V = torch.randn(2, 2)\n",
    "W = torch.randn(2, 2)\n",
    "gamma = torch.randn(2)\n",
    "\n",
    "T1 = torch.einsum(\"n,an,bn,cn->abc\", gamma, U, V, W)\n",
    "\n",
    "I = torch.zeros(2, 2, 2, 2, dtype=torch.float32)\n",
    "I[0, 0, 0, 0] = 1.\n",
    "I[1, 1, 1, 1] = 1.\n",
    "\n",
    "T2 = torch.einsum('i,aj,bk,cl,ijkl->abc', gamma, U, V, W, I)\n",
    "\n",
    "assert T1.allclose(T2)"
   ]
  },
  {
   "cell_type": "code",
   "execution_count": null,
   "id": "f8b905cff34fb2d0",
   "metadata": {},
   "outputs": [],
   "source": [
    "#|export\n",
    "def identity_tensor(order: int, dim: int, dtype: torch.dtype = torch.float32) -> torch.Tensor:\n",
    "    \"\"\"\n",
    "    Create an identity tensor of given order and dimension.\n",
    "    Args:\n",
    "        order (int): The order of the tensor.\n",
    "        dim (int): The dimension of the tensor.\n",
    "        dtype (torch.dtype): The data type of the tensor. Default is torch.float32.\n",
    "    Returns:\n",
    "        torch.Tensor: The identity tensor of shape (dim, dim, ..., dim) with the specified order.\n",
    "    \"\"\"\n",
    "    dims = [dim] * order\n",
    "    I = torch.zeros(*dims, dtype=dtype)\n",
    "    for i in range(dim):\n",
    "        indices = [i] * order\n",
    "        I[tuple(indices)] = 1.\n",
    "\n",
    "    return I"
   ]
  }
 ],
 "metadata": {
  "kernelspec": {
   "display_name": "Python 3",
   "language": "python",
   "name": "python3"
  },
  "language_info": {
   "codemirror_mode": {
    "name": "ipython",
    "version": 2
   },
   "file_extension": ".py",
   "mimetype": "text/x-python",
   "name": "python",
   "nbconvert_exporter": "python",
   "pygments_lexer": "ipython2",
   "version": "2.7.6"
  }
 },
 "nbformat": 4,
 "nbformat_minor": 5
}
