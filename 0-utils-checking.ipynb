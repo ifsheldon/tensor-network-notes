{
 "cells": [
  {
   "cell_type": "code",
   "execution_count": 1,
   "id": "e6bd4799",
   "metadata": {},
   "outputs": [],
   "source": [
    "# |default_exp utils.checking\n",
    "# |export\n",
    "from typing import List, Tuple\n",
    "import torch"
   ]
  },
  {
   "cell_type": "markdown",
   "id": "cc9fd408",
   "metadata": {},
   "source": [
    "## Checking"
   ]
  },
  {
   "cell_type": "code",
   "execution_count": 2,
   "id": "78c7c414",
   "metadata": {},
   "outputs": [],
   "source": [
    "# |export\n",
    "def iterable_have_common(a: List[int] | Tuple[int], b: List[int] | Tuple[int]) -> bool:\n",
    "    \"\"\"\n",
    "    Check if two iterables have any common elements.\n",
    "\n",
    "    Args:\n",
    "        a: First iterable.\n",
    "        b: Second iterable.\n",
    "\n",
    "    Returns:\n",
    "        True if there are common elements, False otherwise.\n",
    "    \"\"\"\n",
    "    assert isinstance(a, (list, tuple)), \"First argument must be a list or tuple.\"\n",
    "    assert isinstance(b, (list, tuple)), \"Second argument must be a list or tuple.\"\n",
    "    return len(set(a) & set(b)) > 0\n",
    "\n",
    "\n",
    "def check_state_tensor(tensor: torch.Tensor):\n",
    "    \"\"\"\n",
    "    Check if the tensor is a valid quantum state tensor.\n",
    "    Args:\n",
    "        tensor: The tensor to check.\n",
    "    Raises:\n",
    "        AssertionError: If the tensor is not a valid quantum state tensor.\n",
    "    \"\"\"\n",
    "    assert isinstance(tensor, torch.Tensor), \"quantum_state must be a torch.Tensor\"\n",
    "    assert tensor.dtype in [torch.float32, torch.float64, torch.complex64, torch.complex128], (\n",
    "        \"quantum_state must be a float or complex tensor\"\n",
    "    )\n",
    "    assert all(x == 2 for x in tensor.shape), (\n",
    "        \"quantum_state must be a tensor with all dimensions of size 2\"\n",
    "    )\n",
    "    assert tensor.ndim > 0, \"quantum_state must be a tensor with at least one dimension\"\n",
    "\n",
    "\n",
    "def check_quantum_gate(\n",
    "    tensor: torch.Tensor, num_qubits: int | None = None, assert_tensor_form: bool = False\n",
    ") -> int:\n",
    "    \"\"\"\n",
    "    Check if the tensor is a valid quantum gate tensor.\n",
    "    Args:\n",
    "        tensor: The tensor to check.\n",
    "        num_qubits: The number of qubits.\n",
    "    Returns:\n",
    "        The number of qubits that the gate acts on.\n",
    "    Raises:\n",
    "        AssertionError: If the tensor is not a valid quantum gate tensor.\n",
    "    \"\"\"\n",
    "    assert isinstance(tensor, torch.Tensor), \"quantum_gate must be a torch.Tensor\"\n",
    "    assert tensor.dtype in [torch.float32, torch.float64, torch.complex64, torch.complex128], (\n",
    "        \"quantum_gate must be a float or complex tensor\"\n",
    "    )\n",
    "    assert tensor.ndim >= 2, \"quantum_gate must be a tensor with at least two dimensions\"\n",
    "    assert tensor.ndim % 2 == 0, \"quantum_gate must have an even number of dimensions\"\n",
    "\n",
    "    if tensor.ndim == 2:\n",
    "        # in matrix form\n",
    "        num_qubits = int(tensor.shape[0].bit_length() - 1) if num_qubits is None else num_qubits\n",
    "        assert tensor.shape[0] == tensor.shape[1] == 2**num_qubits, (\n",
    "            f\"gate must be a square matrix with dimensions 2^num_qubits, got {tensor.shape}\"\n",
    "        )\n",
    "        assert not (assert_tensor_form and num_qubits > 1), \"Quantum gate should be in tensor form\"\n",
    "    else:\n",
    "        assert all(d == 2 for d in tensor.shape), \"gate tensor must have all dimensions of size 2\"\n",
    "        num_qubits = tensor.ndim // 2 if num_qubits is None else num_qubits\n",
    "        assert tensor.ndim == 2 * num_qubits, (\n",
    "            f\"gate tensor must have 2 * num_qubits dimensions, got {tensor.ndim}\"\n",
    "        )\n",
    "    return num_qubits"
   ]
  },
  {
   "cell_type": "code",
   "execution_count": 3,
   "id": "b10979a3",
   "metadata": {},
   "outputs": [],
   "source": [
    "# |export\n",
    "\n",
    "\n",
    "def is_notebook() -> bool:\n",
    "    \"\"\"\n",
    "    Check if the code is running in a Jupyter/IPython notebook.\n",
    "    Returns:\n",
    "        bool, True if running in a Jupyter/IPython notebook, False otherwise.\n",
    "    \"\"\"\n",
    "    try:\n",
    "        from IPython import get_ipython\n",
    "\n",
    "        shell = get_ipython().__class__.__name__\n",
    "        if shell == \"ZMQInteractiveShell\":  # Jupyter/IPython notebook\n",
    "            return True\n",
    "        elif shell == \"TerminalInteractiveShell\":  # IPython terminal\n",
    "            return False\n",
    "        else:\n",
    "            return False\n",
    "    except NameError:\n",
    "        return False  # Not in IPython\n",
    "    except Exception:\n",
    "        return False"
   ]
  },
  {
   "cell_type": "code",
   "execution_count": null,
   "id": "4d6de8a8",
   "metadata": {},
   "outputs": [],
   "source": [
    "assert is_notebook()"
   ]
  }
 ],
 "metadata": {
  "kernelspec": {
   "display_name": ".venv",
   "language": "python",
   "name": "python3"
  },
  "language_info": {
   "codemirror_mode": {
    "name": "ipython",
    "version": 3
   },
   "file_extension": ".py",
   "mimetype": "text/x-python",
   "name": "python",
   "nbconvert_exporter": "python",
   "pygments_lexer": "ipython3",
   "version": "3.12.9"
  }
 },
 "nbformat": 4,
 "nbformat_minor": 5
}
