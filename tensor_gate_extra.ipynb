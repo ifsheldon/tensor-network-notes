{
 "cells": [
  {
   "cell_type": "code",
   "execution_count": 1,
   "metadata": {},
   "outputs": [],
   "source": [
    "import torch"
   ]
  },
  {
   "cell_type": "code",
   "execution_count": 2,
   "metadata": {},
   "outputs": [],
   "source": [
    "# |export tensor_gates.functional\n",
    "from itertools import product\n",
    "\n",
    "\n",
    "def identity_gate_tensor(\n",
    "    num_qubits: int,\n",
    "    matrix_form: bool,\n",
    "    *,\n",
    "    dtype: torch.dtype | None = None,\n",
    "    device: torch.device | None = None,\n",
    "    _fast_mode: bool = True,\n",
    ") -> torch.Tensor:\n",
    "    \"\"\"\n",
    "    Create a tensor representation of the identity gate.\n",
    "\n",
    "    Args:\n",
    "        num_qubits: int, the number of qubits.\n",
    "        matrix_form: bool, whether to return the matrix form of the identity gate.\n",
    "        dtype: torch.dtype | None, the dtype of the identity gate tensor.\n",
    "        device: torch.device | None, the device of the identity gate tensor.\n",
    "    Returns:\n",
    "        torch.Tensor, the identity gate tensor.\n",
    "    \"\"\"\n",
    "    if matrix_form:\n",
    "        return torch.eye(2**num_qubits, dtype=dtype, device=device)\n",
    "    elif _fast_mode:\n",
    "        matrix = torch.eye(2**num_qubits, dtype=dtype, device=device)\n",
    "        return matrix.view([2] * (num_qubits * 2))\n",
    "    else:\n",
    "        tensor = torch.zeros([2] * (num_qubits * 2), dtype=dtype, device=device)\n",
    "        for i in product([0, 1], repeat=num_qubits):\n",
    "            indices = i + i\n",
    "            tensor[indices] = 1\n",
    "        return tensor"
   ]
  },
  {
   "cell_type": "code",
   "execution_count": 3,
   "metadata": {},
   "outputs": [],
   "source": [
    "# Test\n",
    "num_qubits = 4\n",
    "dtype = torch.float32\n",
    "device = torch.device(\"cpu\")\n",
    "i0 = identity_gate_tensor(num_qubits, False, dtype=dtype, device=device, _fast_mode=True)\n",
    "i1 = identity_gate_tensor(num_qubits, False, dtype=dtype, device=device, _fast_mode=False)\n",
    "assert torch.allclose(i0, i1)"
   ]
  },
  {
   "cell_type": "code",
   "execution_count": 4,
   "metadata": {},
   "outputs": [],
   "source": [
    "# |export tensor_gates.functional\n",
    "from tensor_network.utils.checking import check_quantum_gate\n",
    "\n",
    "\n",
    "def get_control_gate_tensor(\n",
    "    num_control_qubits: int,\n",
    "    applied_gate: torch.Tensor,\n",
    "    matrix_form: bool,\n",
    "    *,\n",
    "    dtype: torch.dtype,\n",
    "    device: torch.device,\n",
    "    _fast_mode: bool = True,\n",
    ") -> torch.Tensor:\n",
    "    \"\"\"\n",
    "    Create a tensor representation of a controlled gate.\n",
    "\n",
    "    Args:\n",
    "        num_control_qubits: int, the number of control qubits.\n",
    "        applied_gate: torch.Tensor, the gate to be applied.\n",
    "        matrix_form: bool, whether to return the matrix form of the controlled gate.\n",
    "        dtype: torch.dtype, the dtype of the controlled gate tensor.\n",
    "        device: torch.device, the device of the controlled gate tensor.\n",
    "    Returns:\n",
    "        torch.Tensor, the controlled gate tensor.\n",
    "    \"\"\"\n",
    "    num_applied_qubits = check_quantum_gate(applied_gate)\n",
    "    num_total_qubits = num_control_qubits + num_applied_qubits\n",
    "    if matrix_form or _fast_mode:\n",
    "        if applied_gate.ndim > 2:\n",
    "            applied_gate = applied_gate.view(2**num_applied_qubits, 2**num_applied_qubits)\n",
    "        matrix = identity_gate_tensor(\n",
    "            num_total_qubits, True, dtype=dtype, device=device, _fast_mode=_fast_mode\n",
    "        )\n",
    "        slice_start = (2**num_control_qubits - 1) << num_applied_qubits\n",
    "        matrix[slice_start:, slice_start:] = applied_gate\n",
    "        if matrix_form:\n",
    "            return matrix\n",
    "        else:\n",
    "            return matrix.view([2] * (num_total_qubits * 2))\n",
    "    else:\n",
    "        tensor = identity_gate_tensor(\n",
    "            num_total_qubits, False, dtype=dtype, device=device, _fast_mode=False\n",
    "        )\n",
    "        applied_gate = applied_gate.view([2] * (num_applied_qubits * 2))\n",
    "        index = [1] * num_control_qubits + [slice(None, None, None)] * num_applied_qubits\n",
    "        index = index + index\n",
    "        tensor[index] = applied_gate\n",
    "        return tensor"
   ]
  },
  {
   "cell_type": "code",
   "execution_count": 5,
   "metadata": {},
   "outputs": [],
   "source": [
    "# |export tensor_gates.functional\n",
    "def rand_unitary(\n",
    "    dim: int, *, dtype: torch.dtype | None = None, device: torch.device | None = None\n",
    ") -> torch.Tensor:\n",
    "    \"\"\"\n",
    "    Generate a random unitary matrix of given dimension.\n",
    "\n",
    "    Args:\n",
    "        dim (int): Dimension of the matrix.\n",
    "    Returns:\n",
    "        torch.Tensor: A random unitary matrix of the specified dimension.\n",
    "    \"\"\"\n",
    "    mat = torch.randn(dim, dim, dtype=dtype, device=device)\n",
    "    Q, _R = torch.linalg.qr(mat)\n",
    "    return Q\n",
    "\n",
    "\n",
    "def rand_gate_tensor(\n",
    "    num_qubits: int,\n",
    "    matrix_form: bool,\n",
    "    *,\n",
    "    dtype: torch.dtype | None = None,\n",
    "    device: torch.device | None = None,\n",
    ") -> torch.Tensor:\n",
    "    \"\"\"\n",
    "    Generate a random gate tensor of given dimension.\n",
    "\n",
    "    Args:\n",
    "        num_qubits (int): Number of qubits.\n",
    "        matrix_form (bool): Whether to return the matrix form of the gate.\n",
    "    Returns:\n",
    "        torch.Tensor: A random gate tensor of the specified qubit number.\n",
    "    \"\"\"\n",
    "    mat_dim = 2**num_qubits\n",
    "    mat = rand_unitary(mat_dim, dtype=dtype, device=device)\n",
    "    if matrix_form:\n",
    "        return mat\n",
    "    else:\n",
    "        return mat.view([2] * (num_qubits * 2))"
   ]
  },
  {
   "cell_type": "code",
   "execution_count": 6,
   "metadata": {},
   "outputs": [],
   "source": [
    "from tensor_network.utils.mapping import view_gate_matrix_as_tensor\n",
    "\n",
    "dtype = torch.float32\n",
    "device = torch.device(\"cpu\")\n",
    "\n",
    "for _ in range(10):\n",
    "    applied_gate = rand_gate_tensor(2, False, dtype=dtype, device=device)\n",
    "    control_gate_fast = get_control_gate_tensor(\n",
    "        2, applied_gate, False, dtype=dtype, device=device, _fast_mode=True\n",
    "    )\n",
    "    control_gate_slow = get_control_gate_tensor(\n",
    "        2, applied_gate, False, dtype=dtype, device=device, _fast_mode=False\n",
    "    )\n",
    "    control_gate_mat = get_control_gate_tensor(2, applied_gate, True, dtype=dtype, device=device)\n",
    "    assert torch.allclose(control_gate_fast, control_gate_slow)\n",
    "    assert torch.allclose(control_gate_fast, view_gate_matrix_as_tensor(control_gate_mat))"
   ]
  },
  {
   "cell_type": "code",
   "execution_count": null,
   "metadata": {},
   "outputs": [
    {
     "data": {
      "image/png": "[encoded data removed]",
      "text/plain": [
       "<Figure size 640x480 with 1 Axes>"
      ]
     },
     "metadata": {},
     "output_type": "display_data"
    },
    {
     "data": {
      "image/png": "[encoded data removed]",
      "text/plain": [
       "<Figure size 640x480 with 1 Axes>"
      ]
     },
     "metadata": {},
     "output_type": "display_data"
    },
    {
     "data": {
      "image/png": "[encoded data removed]",
      "text/plain": [
       "<Figure size 640x480 with 1 Axes>"
      ]
     },
     "metadata": {},
     "output_type": "display_data"
    },
    {
     "data": {
      "image/png": "[encoded data removed]",
      "text/plain": [
       "<Figure size 640x480 with 1 Axes>"
      ]
     },
     "metadata": {},
     "output_type": "display_data"
    }
   ],
   "source": [
    "import matplotlib.pyplot as plt\n",
    "\n",
    "# plot patterns\n",
    "for i in range(1, 3):\n",
    "    for j in range(1, 3):\n",
    "        applied_gate = rand_gate_tensor(i, False, dtype=dtype, device=device)\n",
    "        control_gate_mat = get_control_gate_tensor(\n",
    "            j, applied_gate, True, dtype=dtype, device=device\n",
    "        )\n",
    "        plt.imshow(control_gate_mat)\n",
    "        plt.show()"
   ]
  }
 ],
 "metadata": {
  "kernelspec": {
   "display_name": ".venv",
   "language": "python",
   "name": "python3"
  },
  "language_info": {
   "codemirror_mode": {
    "name": "ipython",
    "version": 3
   },
   "file_extension": ".py",
   "mimetype": "text/x-python",
   "name": "python",
   "nbconvert_exporter": "python",
   "pygments_lexer": "ipython3",
   "version": "3.12.9"
  }
 },
 "nbformat": 4,
 "nbformat_minor": 2
}
