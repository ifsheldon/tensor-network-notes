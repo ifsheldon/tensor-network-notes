{
 "cells": [
  {
   "cell_type": "markdown",
   "id": "c98f0188",
   "metadata": {},
   "source": [
    "# 3.1: 自动微分量子门和线路\n",
    "\n",
    "由自动微分量子门构成的量子线路，被称变分量子线路 （variationalquantumcircuit，简称VQC，或称自动微分量子线路（ADQC）、参数化量子线路（PQC））\n",
    "\n",
    "更一般的概念：变分量子算法（VQA）\n",
    "\n",
    "## 量子态制备：\n",
    "\n",
    "以量子态制备（quantum state preparation）任务为例：将给定初态利用量子线路演化至目标量子态\n",
    "\n",
    "量子态制备需极大化目标态与末态间的保真度（fidelity）：\n",
    "\n",
    "$f = |\\langle\\varphi'|\\varphi^{\\text{target}}\\rangle|$\n",
    "\n",
    "* 由量子态归一性可得，保真度满足：$0 \\leq f \\leq 1$\n",
    "* $f = 1$时，两个量子态间仅相差一个相位因子，可认为二者表示同一个态\n",
    "* $f = 0$时，两个量子态正交\n",
    "\n",
    "这里的变分量子门将主要采用任意单体么正门的旋转表示（参考2.2节）:\n",
    "\n",
    "$\\hat{U} = e^{i\\eta}\\hat{R}^{(z)}(\\beta)\\hat{R}^{(y)}(\\gamma)\\hat{R}^{(z)}(\\delta) = \\begin{pmatrix} e^{i(\\eta-\\beta/2-\\delta/2)}\\cos\\frac{\\gamma}{2} & -e^{i(\\eta-\\beta/2+\\delta/2)}\\sin\\frac{\\gamma}{2} \\\\ e^{i(\\eta+\\beta/2-\\delta/2)}\\sin\\frac{\\gamma}{2} & e^{i(\\eta+\\beta/2+\\delta/2)}\\cos\\frac{\\gamma}{2} \\end{pmatrix}$\n",
    "\n",
    "> 这里的变分参数有 $\\eta, \\beta, \\gamma, \\delta$四个，分别对应于旋转门的相位、$R^{(z)}$门的角度、$R^{(y)}$门的角度和$R^{(z)}$门的角度\n",
    "\n",
    "> 取决于优化方法和损失函数，$e^{i\\eta}$ 可以省略"
   ]
  }
 ],
 "metadata": {
  "language_info": {
   "name": "python"
  }
 },
 "nbformat": 4,
 "nbformat_minor": 5
}
