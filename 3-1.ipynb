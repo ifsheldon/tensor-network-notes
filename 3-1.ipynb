{
 "cells": [
  {
   "cell_type": "markdown",
   "id": "c98f0188",
   "metadata": {},
   "source": [
    "# 3.1: 自动微分量子门和线路\n",
    "\n",
    "由自动微分量子门构成的量子线路，被称变分量子线路 （variational quantum circuit，简称VQC，或称自动微分量子线路（ADQC）、参数化量子线路（PQC））\n",
    "\n",
    "更一般的概念：变分量子算法（VQA）\n",
    "\n",
    "## 量子态制备\n",
    "\n",
    "以量子态制备（quantum state preparation）任务为例：将给定初态利用量子线路演化至目标量子态\n",
    "\n",
    "量子态制备需极大化目标态与末态间的保真度（fidelity）：\n",
    "\n",
    "$f = |\\langle\\varphi'|\\varphi^{\\text{target}}\\rangle|$\n",
    "\n",
    "* 由量子态归一性可得，保真度满足：$0 \\leq f \\leq 1$\n",
    "* $f = 1$时，两个量子态间仅相差一个相位因子，可认为二者表示同一个态\n",
    "* $f = 0$时，两个量子态正交\n",
    "\n",
    "这里的变分量子门将主要采用任意单体么正门的旋转表示（参考2.2节）:\n",
    "\n",
    "$\\hat{U} = e^{i\\eta}\\hat{R}^{(z)}(\\beta)\\hat{R}^{(y)}(\\gamma)\\hat{R}^{(z)}(\\delta) = \\begin{pmatrix} e^{i(\\eta-\\beta/2-\\delta/2)}\\cos\\frac{\\gamma}{2} & -e^{i(\\eta-\\beta/2+\\delta/2)}\\sin\\frac{\\gamma}{2} \\\\ e^{i(\\eta+\\beta/2-\\delta/2)}\\sin\\frac{\\gamma}{2} & e^{i(\\eta+\\beta/2+\\delta/2)}\\cos\\frac{\\gamma}{2} \\end{pmatrix}$\n",
    "\n",
    "> 这里的变分参数有 $\\eta, \\beta, \\gamma, \\delta$四个，分别对应于旋转门的相位、$R^{(z)}$门的角度、$R^{(y)}$门的角度和$R^{(z)}$门的角度\n",
    "\n",
    "> 取决于优化方法和损失函数，$e^{i\\eta}$ 可以省略"
   ]
  },
  {
   "cell_type": "markdown",
   "id": "e7237a04",
   "metadata": {},
   "source": [
    "## Code"
   ]
  },
  {
   "cell_type": "code",
   "execution_count": 1,
   "id": "f112fe02",
   "metadata": {},
   "outputs": [],
   "source": [
    "import torch"
   ]
  },
  {
   "cell_type": "code",
   "execution_count": 2,
   "id": "3c9857e4",
   "metadata": {},
   "outputs": [],
   "source": [
    "#|export tensor_gates.functional\n",
    "from typing import Literal\n",
    "from tensor_network.utils import map_float_to_complex\n",
    "\n",
    "def pauli_operator(*, pauli: Literal['X', 'Y', 'Z', \"ID\"], \n",
    "                   double_precision: bool = False,\n",
    "                   force_complex: bool = False) -> torch.Tensor:\n",
    "    assert pauli in ['X', 'Y', 'Z', \"ID\"], f\"Invalid Pauli operator: {pauli}\"\n",
    "    if double_precision:\n",
    "        dtype_complex = torch.complex128\n",
    "        if force_complex:\n",
    "            dtype_default = dtype_complex\n",
    "        else:\n",
    "            dtype_default = torch.float64\n",
    "    else:\n",
    "        dtype_complex = torch.complex64\n",
    "        if force_complex:\n",
    "            dtype_default = dtype_complex\n",
    "        else:\n",
    "            dtype_default = torch.float32\n",
    "\n",
    "    if pauli == 'X':\n",
    "        return torch.tensor([[0, 1], [1, 0]], dtype=dtype_default)\n",
    "    elif pauli == 'Y':\n",
    "        return torch.tensor([[0, -1j], [1j, 0]], dtype=dtype_complex)\n",
    "    elif pauli == 'Z':\n",
    "        return torch.tensor([[1, 0], [0, -1]], dtype=dtype_default)\n",
    "    elif pauli == 'ID':\n",
    "        return torch.eye(2, dtype=dtype_default)\n",
    "    else:\n",
    "        raise Exception(\"Unreachable code\")\n",
    "\n",
    "\n",
    "def rotate(params: torch.Tensor) -> torch.Tensor:\n",
    "    assert isinstance(params, torch.Tensor), \"params must be a torch.Tensor\"\n",
    "    assert params.shape == (4,), \"params must be a 4-element vector\"\n",
    "    dtype = params.dtype\n",
    "    assert dtype in [torch.float32, torch.float64], \"params must be float32 or float64\"\n",
    "    gate_dtype = map_float_to_complex(dtype=dtype)\n",
    "    beta, delta, ita, gamma = params[0], params[1], params[2], params[3]\n",
    "    # calculate the matrix for the beta terms\n",
    "    beta_coefficient_matrix = torch.tensor([[-0.5, -0.5],\n",
    "                                            [0.5, 0.5]], \n",
    "                                            device=params.device, \n",
    "                                            dtype=gate_dtype)\n",
    "    beta_matrix = beta_coefficient_matrix * beta\n",
    "    # calculate the matrix for the delta terms\n",
    "    delta_coefficient_matrix = beta_coefficient_matrix.T\n",
    "    delta_matrix = delta_coefficient_matrix * delta\n",
    "    # calculate the matrix for the gamma terms\n",
    "    gamma_2 = gamma / 2\n",
    "    gamma_coefficient_matrix_cosine = torch.eye(2, device=params.device, dtype=gate_dtype)\n",
    "    gamma_coefficient_matrix_sine = torch.tensor([[0, 1],\n",
    "                                                  [1, 0]], \n",
    "                                                  device=params.device, \n",
    "                                                  dtype=gate_dtype)\n",
    "    gamma_matrix = gamma_coefficient_matrix_cosine * torch.cos(gamma_2) + gamma_coefficient_matrix_sine * torch.sin(gamma_2)\n",
    "    # set the coefficient matrix in front of e\n",
    "    coefficient_matrix = torch.tensor([[1, -1], \n",
    "                                       [1, 1]], \n",
    "                                       device=params.device, \n",
    "                                       dtype=gate_dtype)\n",
    "    gate = coefficient_matrix * torch.exp(1j * (ita + beta_matrix + delta_matrix)) * gamma_matrix\n",
    "    return gate\n"
   ]
  },
  {
   "cell_type": "code",
   "execution_count": 3,
   "id": "33c5bfcd",
   "metadata": {},
   "outputs": [
    {
     "name": "stdout",
     "output_type": "stream",
     "text": [
      "From setup_ref_code_import:\n",
      "  Added reference_code_path='/Users/zhiqiu/offline_code/personal/tensor_network/reference_code' to sys.path.\n",
      "  You can import the reference code now.\n"
     ]
    }
   ],
   "source": [
    "# testing against reference code\n",
    "\n",
    "from tensor_network import setup_ref_code_import\n",
    "from Library.MathFun import rotate as rotate_ref\n",
    "\n",
    "for _ in range(10):\n",
    "    params = torch.rand(4, dtype=torch.float64)\n",
    "    gate_ref = rotate_ref(params)\n",
    "    gate = rotate(params)\n",
    "    assert torch.allclose(gate_ref, gate), f\"Gates do not match, {gate_ref} != {gate}\""
   ]
  },
  {
   "cell_type": "markdown",
   "id": "fe72a15c",
   "metadata": {},
   "source": [
    "### VQC Example\n",
    "\n",
    "![VQC Example](./images/vqc_example.png)"
   ]
  },
  {
   "cell_type": "code",
   "execution_count": 4,
   "id": "e239e930",
   "metadata": {},
   "outputs": [],
   "source": [
    "from matplotlib import pyplot as plt\n",
    "from torch.optim import Adam\n",
    "from tqdm.auto import tqdm\n",
    "from tensor_network.tensor_gates.functional import apply_gate"
   ]
  },
  {
   "cell_type": "code",
   "execution_count": 5,
   "id": "2fb1e121",
   "metadata": {},
   "outputs": [],
   "source": [
    "#|export tensor_utils\n",
    "def zeros_state(*, num_qubits: int, dtype: torch.dtype) -> torch.Tensor:\n",
    "    assert num_qubits > 0, \"num_qubits must be positive\"\n",
    "    assert dtype in [torch.complex64, torch.complex128], \"dtype must be complex64 or complex128\"\n",
    "    state = torch.zeros((2 ** num_qubits, ), dtype=dtype)\n",
    "    state[0] = 1.0\n",
    "    shape = [2] * num_qubits\n",
    "    state = state.reshape(shape)\n",
    "    return state\n"
   ]
  },
  {
   "cell_type": "code",
   "execution_count": null,
   "id": "4963c998",
   "metadata": {},
   "outputs": [
    {
     "data": {
      "application/vnd.jupyter.widget-view+json": {
       "model_id": "623f57b127294b0a883ae02406ebee70",
       "version_major": 2,
       "version_minor": 0
      },
      "text/plain": [
       "  0%|          | 0/5000 [00:00<?, ?it/s]"
      ]
     },
     "metadata": {},
     "output_type": "display_data"
    },
    {
     "name": "stdout",
     "output_type": "stream",
     "text": [
      "Iteration 0, Loss: 0.6183434724807739\n",
      "Iteration 100, Loss: 0.4917341470718384\n",
      "Iteration 200, Loss: 0.3907931447029114\n",
      "Iteration 300, Loss: 0.30669277906417847\n",
      "Iteration 400, Loss: 0.23857557773590088\n",
      "Iteration 500, Loss: 0.19204431772232056\n",
      "Iteration 600, Loss: 0.16261976957321167\n",
      "Iteration 700, Loss: 0.1423335075378418\n",
      "Iteration 800, Loss: 0.1254785656929016\n",
      "Iteration 900, Loss: 0.10919106006622314\n",
      "Iteration 1000, Loss: 0.09275978803634644\n",
      "Iteration 1100, Loss: 0.07698893547058105\n",
      "Iteration 1200, Loss: 0.06318718194961548\n",
      "Iteration 1300, Loss: 0.05218696594238281\n",
      "Iteration 1400, Loss: 0.0440402626991272\n",
      "Iteration 1500, Loss: 0.03827005624771118\n",
      "Iteration 1600, Loss: 0.03422743082046509\n",
      "Iteration 1700, Loss: 0.0313185453414917\n",
      "Iteration 1800, Loss: 0.02909797430038452\n",
      "Iteration 1900, Loss: 0.02727872133255005\n",
      "Iteration 2000, Loss: 0.02570927143096924\n",
      "Iteration 2100, Loss: 0.02433013916015625\n",
      "Iteration 2200, Loss: 0.023134350776672363\n",
      "Iteration 2300, Loss: 0.022129714488983154\n",
      "Iteration 2400, Loss: 0.02131664752960205\n",
      "Iteration 2500, Loss: 0.02068084478378296\n",
      "Iteration 2600, Loss: 0.020196974277496338\n",
      "Iteration 2700, Loss: 0.019835352897644043\n",
      "Iteration 2800, Loss: 0.019565224647521973\n",
      "Iteration 2900, Loss: 0.019357681274414062\n",
      "Iteration 3000, Loss: 0.01918792724609375\n",
      "Iteration 3100, Loss: 0.019034504890441895\n",
      "Iteration 3200, Loss: 0.018876731395721436\n",
      "Iteration 3300, Loss: 0.01869642734527588\n",
      "Iteration 3400, Loss: 0.018473803997039795\n",
      "Iteration 3500, Loss: 0.018187880516052246\n",
      "Iteration 3600, Loss: 0.017817378044128418\n",
      "Iteration 3700, Loss: 0.017342090606689453\n",
      "Iteration 3800, Loss: 0.016749322414398193\n",
      "Iteration 3900, Loss: 0.016041934490203857\n",
      "Iteration 4000, Loss: 0.015245318412780762\n",
      "Iteration 4100, Loss: 0.014406085014343262\n",
      "Iteration 4200, Loss: 0.01358342170715332\n",
      "Iteration 4300, Loss: 0.012829005718231201\n",
      "Iteration 4400, Loss: 0.012178122997283936\n",
      "Iteration 4500, Loss: 0.011642813682556152\n",
      "Iteration 4600, Loss: 0.011219143867492676\n",
      "Iteration 4700, Loss: 0.010892868041992188\n",
      "Iteration 4800, Loss: 0.010646581649780273\n",
      "Iteration 4900, Loss: 0.010463416576385498\n"
     ]
    },
    {
     "data": {
      "image/png": "[encoded data removed]",
      "text/plain": [
       "<Figure size 640x480 with 1 Axes>"
      ]
     },
     "metadata": {},
     "output_type": "display_data"
    }
   ],
   "source": [
    "lr = 1e-3\n",
    "iterations = 5000\n",
    "# set target states\n",
    "num_qubits = 3\n",
    "target_state = torch.randn(*([2] * num_qubits), dtype=torch.complex64)\n",
    "target_state = target_state / torch.norm(target_state)\n",
    "# for each qubit, we have 2 gates, which are 4 parameters each\n",
    "num_gates_per_qubit = 2\n",
    "param_num_per_gate = 4\n",
    "params = torch.randn(num_qubits, num_gates_per_qubit, param_num_per_gate, dtype=torch.float32, requires_grad=True)\n",
    "optimizer = Adam([params], lr=lr)\n",
    "\n",
    "not_gate = pauli_operator(pauli='X', double_precision=False, force_complex=True)\n",
    "losses = torch.empty(iterations, dtype=torch.float32)\n",
    "\n",
    "for i in tqdm(range(iterations)):\n",
    "    gates = [[] for _ in range(num_qubits)]\n",
    "    for q_idx in range(num_qubits):\n",
    "        for g_idx in range(num_gates_per_qubit):\n",
    "            gates[q_idx].append(rotate(params[q_idx, g_idx]))\n",
    "\n",
    "    state = zeros_state(num_qubits=num_qubits, dtype=torch.complex64)\n",
    "    for q_idx in range(num_qubits):\n",
    "        rotate_gates = gates[q_idx]\n",
    "        state = apply_gate(quantum_state=state, \n",
    "                           gate=rotate_gates[0],\n",
    "                           target_qubit=q_idx)\n",
    "        state = apply_gate(quantum_state=state,\n",
    "                           gate=not_gate, \n",
    "                           control_qubit=q_idx,\n",
    "                           target_qubit=(q_idx + 1) % num_qubits)\n",
    "        state = apply_gate(quantum_state=state, \n",
    "                           gate=rotate_gates[1], \n",
    "                           target_qubit=q_idx)\n",
    "    # loss = 1 - fidelity\n",
    "    loss = 1 - (state.conj() * target_state).sum().norm()\n",
    "    losses[i] = loss.detach()\n",
    "    loss.backward()\n",
    "    optimizer.step()\n",
    "    optimizer.zero_grad()\n",
    "    if i % 100 == 0:\n",
    "        print(f\"Iteration {i}, Loss: {losses[i].item()}\")\n",
    "\n",
    "plt.plot(losses)\n",
    "plt.xlabel(\"Iteration\")\n",
    "plt.ylabel(\"Loss\")\n",
    "plt.title(\"Loss over iterations\")\n",
    "plt.show()"
   ]
  }
 ],
 "metadata": {
  "kernelspec": {
   "display_name": ".venv",
   "language": "python",
   "name": "python3"
  },
  "language_info": {
   "codemirror_mode": {
    "name": "ipython",
    "version": 3
   },
   "file_extension": ".py",
   "mimetype": "text/x-python",
   "name": "python",
   "nbconvert_exporter": "python",
   "pygments_lexer": "ipython3",
   "version": "3.12.9"
  }
 },
 "nbformat": 4,
 "nbformat_minor": 5
}
