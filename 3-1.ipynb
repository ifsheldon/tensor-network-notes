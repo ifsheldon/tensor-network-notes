{
 "cells": [
  {
   "cell_type": "markdown",
   "id": "c98f0188",
   "metadata": {},
   "source": [
    "# 3.1: 自动微分量子门和线路\n",
    "\n",
    "由自动微分量子门构成的量子线路，被称变分量子线路 （variational quantum circuit，简称VQC，或称自动微分量子线路（ADQC）、参数化量子线路（PQC））\n",
    "\n",
    "更一般的概念：变分量子算法（VQA）\n",
    "\n",
    "## 量子态制备\n",
    "\n",
    "以量子态制备（quantum state preparation）任务为例：将给定初态利用量子线路演化至目标量子态\n",
    "\n",
    "量子态制备需极大化目标态与末态间的保真度（fidelity）：\n",
    "\n",
    "$f = |\\langle\\varphi'|\\varphi^{\\text{target}}\\rangle|$\n",
    "\n",
    "* 由量子态归一性可得，保真度满足：$0 \\leq f \\leq 1$\n",
    "* $f = 1$时，两个量子态间仅相差一个相位因子，可认为二者表示同一个态\n",
    "* $f = 0$时，两个量子态正交\n",
    "\n",
    "这里的变分量子门将主要采用任意单体么正门的旋转表示（参考2.2节）:\n",
    "\n",
    "$\\hat{U} = e^{i\\eta}\\hat{R}^{(z)}(\\beta)\\hat{R}^{(y)}(\\gamma)\\hat{R}^{(z)}(\\delta) = \\begin{pmatrix} e^{i(\\eta-\\beta/2-\\delta/2)}\\cos\\frac{\\gamma}{2} & -e^{i(\\eta-\\beta/2+\\delta/2)}\\sin\\frac{\\gamma}{2} \\\\ e^{i(\\eta+\\beta/2-\\delta/2)}\\sin\\frac{\\gamma}{2} & e^{i(\\eta+\\beta/2+\\delta/2)}\\cos\\frac{\\gamma}{2} \\end{pmatrix}$\n",
    "\n",
    "> 这里的变分参数有 $\\eta, \\beta, \\gamma, \\delta$四个，分别对应于旋转门的相位、$R^{(z)}$门的角度、$R^{(y)}$门的角度和$R^{(z)}$门的角度\n",
    "\n",
    "> 取决于优化方法和损失函数，$e^{i\\eta}$ 可以省略"
   ]
  },
  {
   "cell_type": "markdown",
   "id": "e7237a04",
   "metadata": {},
   "source": [
    "## Code"
   ]
  },
  {
   "cell_type": "code",
   "execution_count": null,
   "id": "f112fe02",
   "metadata": {},
   "outputs": [],
   "source": [
    "import torch"
   ]
  },
  {
   "cell_type": "code",
   "execution_count": null,
   "id": "3c9857e4",
   "metadata": {},
   "outputs": [],
   "source": [
    "#|export tensor_gates.functional\n",
    "from typing import LiteralString\n",
    "from tensor_network.utils import map_float_to_complex\n",
    "\n",
    "def pauli_operator(*, pauli: LiteralString['X', 'Y', 'Z', \"ID\"], \n",
    "                   double_precision: bool = False,\n",
    "                   force_complex: bool = False) -> torch.Tensor:\n",
    "    assert pauli in ['X', 'Y', 'Z', \"ID\"], f\"Invalid Pauli operator: {pauli}\"\n",
    "    if double_precision:\n",
    "        dtype_complex = torch.complex128\n",
    "        if force_complex:\n",
    "            dtype_default = dtype_complex\n",
    "        else:\n",
    "            dtype_default = torch.float64\n",
    "    else:\n",
    "        dtype_complex = torch.complex64\n",
    "        if force_complex:\n",
    "            dtype_default = dtype_complex\n",
    "        else:\n",
    "            dtype_default = torch.float32\n",
    "\n",
    "    if pauli == 'X':\n",
    "        return torch.tensor([[0, 1], [1, 0]], dtype=dtype_default)\n",
    "    elif pauli == 'Y':\n",
    "        return torch.tensor([[0, -1j], [1j, 0]], dtype=dtype_complex)\n",
    "    elif pauli == 'Z':\n",
    "        return torch.tensor([[1, 0], [0, -1]], dtype=dtype_default)\n",
    "    elif pauli == 'ID':\n",
    "        return torch.eye(2, dtype=dtype_default)\n",
    "    else:\n",
    "        raise Exception(\"Unreachable code\")\n",
    "\n",
    "\n",
    "def rotate(params: torch.Tensor) -> torch.Tensor:\n",
    "    assert isinstance(params, torch.Tensor), \"params must be a torch.Tensor\"\n",
    "    assert params.shape == (4,), \"params must be a 4-element vector\"\n",
    "    dtype = params.dtype\n",
    "    assert dtype in [torch.float32, torch.float64], \"params must be float32 or float64\"\n",
    "    gate_dtype = map_float_to_complex(dtype=dtype)\n",
    "    alpha, beta, delta, theta = params[0], params[1], params[2], params[3]\n",
    "    gate = torch.ones((2, 2), device=params.device, dtype=gate_dtype)\n",
    "    gate[0, 0] = torch.exp(1j * (delta - alpha / 2 - beta / 2)) * torch.cos(theta / 2)\n",
    "    gate[0, 1] = -torch.exp(1j * (delta - alpha / 2 + beta / 2)) * torch.sin(theta / 2)\n",
    "    gate[1, 0] = torch.exp(1j * (delta + alpha / 2 - beta / 2)) * torch.sin(theta / 2)\n",
    "    gate[1, 1] = torch.exp(1j * (delta + alpha / 2 + beta / 2)) * torch.cos(theta / 2)\n",
    "    return gate\n"
   ]
  },
  {
   "cell_type": "markdown",
   "id": "fe72a15c",
   "metadata": {},
   "source": [
    "### VQC Example\n",
    "\n",
    "![VQC Example](./images/vqc_example.png)"
   ]
  }
 ],
 "metadata": {
  "kernelspec": {
   "display_name": ".venv",
   "language": "python",
   "name": "python3"
  },
  "language_info": {
   "codemirror_mode": {
    "name": "ipython",
    "version": 3
   },
   "file_extension": ".py",
   "mimetype": "text/x-python",
   "name": "python",
   "nbconvert_exporter": "python",
   "pygments_lexer": "ipython3",
   "version": "3.12.9"
  }
 },
 "nbformat": 4,
 "nbformat_minor": 5
}
