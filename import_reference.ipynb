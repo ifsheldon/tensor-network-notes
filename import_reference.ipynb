{
 "cells": [
  {
   "cell_type": "code",
   "execution_count": null,
   "id": "e6bd4799",
   "metadata": {},
   "outputs": [],
   "source": [
    "# |default_exp setup_ref_code_import\n",
    "# |export\n",
    "import sys\n",
    "import os\n",
    "\n",
    "# get cwd\n",
    "cwd = os.getcwd()\n",
    "reference_code_path = os.path.join(cwd, \"reference_code\")\n",
    "if reference_code_path not in sys.path:\n",
    "    sys.path.append(reference_code_path)\n",
    "    print(\n",
    "        f\"From setup_ref_code_import:\\n  Added {reference_code_path=} to sys.path.\\n  You can import the reference code now.\"\n",
    "    )"
   ]
  }
 ],
 "metadata": {
  "kernelspec": {
   "display_name": ".venv",
   "language": "python",
   "name": "python3"
  },
  "language_info": {
   "codemirror_mode": {
    "name": "ipython",
    "version": 3
   },
   "file_extension": ".py",
   "mimetype": "text/x-python",
   "name": "python",
   "nbconvert_exporter": "python",
   "pygments_lexer": "ipython3",
   "version": "3.12.9"
  }
 },
 "nbformat": 4,
 "nbformat_minor": 5
}
