{
 "cells": [
  {
   "cell_type": "markdown",
   "id": "1d64326b",
   "metadata": {},
   "source": [
    "# 2.6: 约化密度矩阵（Reduced Density Matrix）\n",
    "\n",
    "量子态的\"局域\"性质：\n",
    "\n",
    "例如，对于4比特量子态，其编号为0的量子位关于单体算符 $\\hat{\\sigma}^{(\\alpha)}$ 的量子期望\n",
    "\n",
    "![reduced_density_matrix_equation](./images/reduced_density_matrix_equation.png)\n",
    "\n",
    "$\\langle\\psi|\\hat{\\sigma}^{(\\alpha)}|\\psi\\rangle = \\sum_{s_0s_1s_2s_3}\\sum_s \\sigma_{s_0s}^{(\\alpha)}\\psi_{s_0s_1s_2s_3}^*\\psi_{ss_1s_2s_3} = \\sum_{ss_0} \\sigma_{s_0s}^{(\\alpha)}\\rho_{ss_0}$\n",
    "\n",
    "> 先对 $s_1s_2s_3$ 求和，可以得到 $\\rho_{ss_0}$\n",
    "\n",
    "通过整理上式易得关于编号为0量子位的约化密度算符（的系数矩阵）满足\n",
    "\n",
    "$\\rho^{[0]} = \\psi_{[0]}\\psi_{[0]}^{\\dagger}$\n",
    "\n",
    "于是有：$\\langle\\psi|\\hat{\\sigma}^{(\\alpha)}|\\psi\\rangle = \\text{Tr}(\\hat{\\rho}^{[0]}\\hat{\\sigma}^{(\\alpha)})$\n",
    "\n",
    "> 推导:\n",
    "> \n",
    "> $\\sum_{ss_0} \\sigma_{s_0s}^{(\\alpha)}\\rho_{ss_0} = \\sum_{s_0} \\sum_{s} \\sigma_{s_0s}^{(\\alpha)}\\rho_{ss_0}$\n",
    "> \n",
    "> 1. 对 $s$ 求和即为向量乘法，选的是 $\\sigma$ 的第 $s_0$ 行与 $\\rho$ 的第 $s_0$ 列的内积，得到 $(s_0, s_0)$ 位置的元素\n",
    "> 2. 加总起来，就是迹\n",
    "\n",
    "\n",
    "约化密度算符的一般形式（对于第 i, j, k ... 个量子位的约化密度算符）：\n",
    "\n",
    "算符：$\\hat{\\rho}^{[ijk...]} = \\text{Tr}_{/ijk...}(|\\psi\\rangle\\langle\\psi|)$\n",
    "\n",
    "> 除开 i, j, k ... 之外，求迹\n",
    "\n",
    "系数张量：$\\rho^{[ijk...]} = \\psi_{[ijk...]}\\psi_{[ijk...]}^{\\dagger}$\n",
    "\n",
    "> 把 i, j, k ... 指标作为左指标，其余作为右指标，展开成矩阵\n",
    "\n",
    "算符的期望值等于相应约化密度算符与其乘积后的迹。"
   ]
  },
  {
   "cell_type": "markdown",
   "id": "494bd2bd",
   "metadata": {},
   "source": [
    "TODO: 看代码 `TensorPureState` 里的 `reduced_density_matrix` 和 `observation` 方法"
   ]
  },
  {
   "cell_type": "markdown",
   "id": "6059da00",
   "metadata": {},
   "source": [
    "约化密度算符的概率满足：\n",
    "\n",
    "$p_n = \\langle \\phi^{(n)}|\\hat{\\rho}^{[ijk...]}|\\phi^{(n)}\\rangle = \\text{Tr}(\\hat{\\rho}^{[ijk...]}|\\phi^{(n)}\\rangle\\langle \\phi^{(n)}|) = \\langle\\hat{P}\\rangle$\n",
    "\n",
    "> 这里 n 代表这 i,j,k ... 子体系里面的第 n 个状态/基底\n",
    "\n",
    "> TODO: 第二个等号为什么成立？\n",
    "\n",
    "为投影算符$\\hat{P} = |\\phi^{(n)}\\rangle\\langle \\phi^{(n)}|$的量子期望\n",
    "\n",
    "> 例：4比特量子态$|\\psi\\rangle$并在编号为1与2的量子位上采样，获得$|00\\rangle$的概率为\n",
    "> \n",
    "> $p_{00} = \\langle 00|\\hat{\\rho}^{[12]}|00\\rangle$\n",
    "\n",
    "约化密度算符的迹归一化对应于概率归一化\n",
    "\n",
    "$\\sum_n p_n = \\sum_n\\langle\\phi^{(n)}|\\hat{\\rho}^{[ijk...]}|\\phi^{(n)}\\rangle =\\sum_n\\text{Tr}(\\hat{\\rho}^{[ijk...]}|\\phi^{(n)}\\rangle\\langle \\phi^{(n)}|)= \\text{Tr}(\\hat{\\rho}^{[ijk...]}) = 1$\n",
    "\n",
    "> 根据热态的定义，约化密度算符也是一个热态\n",
    "\n",
    "纯态的任意约化密度有：$\\text{Tr}(\\hat{\\rho}^{[ijk...]}) = \\langle\\psi|\\psi\\rangle = 1$"
   ]
  },
  {
   "cell_type": "markdown",
   "id": "e8847eed",
   "metadata": {},
   "source": [
    "# 2.6: 量子纠缠\n",
    "\n",
    "### 纠缠谱\n",
    "\n",
    "纠缠谱计算的是二分的子体系相互纠缠的程度\n",
    "\n",
    "纠缠谱计算方法：\n",
    "1. 矩阵化：把系数张量矩阵化，一个子体系对应的 index 变成左指标，另一个子体系对应的 index 变成右指标\n",
    "2. 奇异值分解：获得这个矩阵的奇异值谱\n",
    "\n",
    "> 另一种计算方法：奇异值谱的平方由对应约化密度算符系数矩阵的本征谱给出\n",
    "\n",
    "纠缠熵计算方法：\n",
    "1. 计算纠缠谱\n",
    "2. 以纠缠谱的平方作为概率分布\n",
    "3. 计算熵\n",
    "\n",
    "TODO: 看书 2.6 节\n"
   ]
  }
 ],
 "metadata": {
  "language_info": {
   "name": "python"
  }
 },
 "nbformat": 4,
 "nbformat_minor": 5
}
