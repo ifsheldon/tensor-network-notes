{
 "cells": [
  {
   "cell_type": "markdown",
   "id": "1d64326b",
   "metadata": {},
   "source": [
    "# 2.6: 约化密度矩阵（Reduced Density Matrix）\n",
    "\n",
    "量子态的\"局域\"性质：\n",
    "\n",
    "例如，对于4比特量子态，其编号为0的量子位关于单体算符 $\\hat{\\sigma}^{(\\alpha)}$ 的量子期望\n",
    "\n",
    "![reduced_density_matrix_equation](./images/reduced_density_matrix_equation.png)\n",
    "\n",
    "$\\langle\\psi|\\hat{\\sigma}^{(\\alpha)}|\\psi\\rangle = \\sum_{s_0s_1s_2s_3}\\sum_s \\sigma_{s_0s}^{(\\alpha)}\\psi_{s_0s_1s_2s_3}^*\\psi_{ss_1s_2s_3} = \\sum_{ss_0} \\sigma_{s_0s}^{(\\alpha)}\\rho_{ss_0}$\n",
    "\n",
    "> 先对 $s_1s_2s_3$ 求和，可以得到 $\\rho_{ss_0}$\n",
    "\n",
    "通过整理上式易得关于编号为0量子位的约化密度算符（的系数矩阵）满足\n",
    "\n",
    "$\\rho^{[0]} = \\psi_{[0]}\\psi_{[0]}^{\\dagger}$\n",
    "\n",
    "于是有：$\\langle\\psi|\\hat{\\sigma}^{(\\alpha)}|\\psi\\rangle = \\text{Tr}(\\hat{\\rho}^{[0]}\\hat{\\sigma}^{(\\alpha)})$\n",
    "\n",
    "> 推导:\n",
    "> \n",
    "> $\\sum_{ss_0} \\sigma_{s_0s}^{(\\alpha)}\\rho_{ss_0} = \\sum_{s_0} \\sum_{s} \\sigma_{s_0s}^{(\\alpha)}\\rho_{ss_0}$\n",
    "> \n",
    "> 1. 对 $s$ 求和即为向量乘法，选的是 $\\sigma$ 的第 $s_0$ 行与 $\\rho$ 的第 $s_0$ 列的内积，得到 $(s_0, s_0)$ 位置的元素\n",
    "> 2. 加总起来，就是迹\n",
    "\n",
    "\n",
    "约化密度算符的一般形式（对于第 i, j, k ... 个量子位的约化密度算符）：\n",
    "\n",
    "算符：$\\hat{\\rho}^{[ijk...]} = \\text{Tr}_{/ijk...}(|\\psi\\rangle\\langle\\psi|)$\n",
    "\n",
    "> 除开 i, j, k ... 之外，求迹\n",
    "\n",
    "系数张量：$\\rho^{[ijk...]} = \\psi_{[ijk...]}\\psi_{[ijk...]}^{\\dagger}$\n",
    "\n",
    "> 把 i, j, k ... 指标作为左指标，其余作为右指标，展开成矩阵\n",
    "\n",
    "算符的期望值等于相应约化密度算符与其乘积后的迹。"
   ]
  },
  {
   "cell_type": "markdown",
   "id": "6059da00",
   "metadata": {},
   "source": [
    "约化密度算符的概率满足：\n",
    "\n",
    "$p_n = \\langle \\phi^{(n)}|\\hat{\\rho}^{[ijk...]}|\\phi^{(n)}\\rangle = \\text{Tr}(\\hat{\\rho}^{[ijk...]}|\\phi^{(n)}\\rangle\\langle \\phi^{(n)}|) = \\langle\\hat{P}\\rangle$\n",
    "\n",
    "> 这里 n 代表这 i,j,k ... 子体系里面的第 n 个状态/基底\n",
    "\n",
    "> TODO: 第二个等号为什么成立？\n",
    "\n",
    "为投影算符$\\hat{P} = |\\phi^{(n)}\\rangle\\langle \\phi^{(n)}|$的量子期望\n",
    "\n",
    "> 例：4比特量子态$|\\psi\\rangle$并在编号为1与2的量子位上采样，获得$|00\\rangle$的概率为\n",
    "> \n",
    "> $p_{00} = \\langle 00|\\hat{\\rho}^{[12]}|00\\rangle$\n",
    "\n",
    "约化密度算符的迹归一化对应于概率归一化\n",
    "\n",
    "$\\sum_n p_n = \\sum_n\\langle\\phi^{(n)}|\\hat{\\rho}^{[ijk...]}|\\phi^{(n)}\\rangle =\\sum_n\\text{Tr}(\\hat{\\rho}^{[ijk...]}|\\phi^{(n)}\\rangle\\langle \\phi^{(n)}|)= \\text{Tr}(\\hat{\\rho}^{[ijk...]}) = 1$\n",
    "\n",
    "> 根据热态的定义，约化密度算符也是一个热态\n",
    "\n",
    "纯态的任意约化密度有：$\\text{Tr}(\\hat{\\rho}^{[ijk...]}) = \\langle\\psi|\\psi\\rangle = 1$"
   ]
  },
  {
   "cell_type": "markdown",
   "id": "eec1d9f8",
   "metadata": {},
   "source": [
    "## Code"
   ]
  },
  {
   "cell_type": "code",
   "execution_count": 1,
   "id": "7d6b9a3e",
   "metadata": {},
   "outputs": [],
   "source": [
    "# |default_exp quantum_state.functional\n",
    "# |export\n",
    "from typing import List\n",
    "import math\n",
    "import torch\n",
    "from tensor_network.utils import check_quantum_gate"
   ]
  },
  {
   "cell_type": "code",
   "execution_count": 2,
   "id": "c215d47c",
   "metadata": {},
   "outputs": [],
   "source": [
    "# |export\n",
    "def calc_reduced_density_matrix(state: torch.Tensor, qubit_idx: int | List[int]):\n",
    "    assert isinstance(qubit_idx, (int, list)), \"qubit_idx must be an integer or a list of integers\"\n",
    "    if isinstance(qubit_idx, int):\n",
    "        qubit_idx = [qubit_idx]\n",
    "\n",
    "    num_qubits = state.ndim\n",
    "    for qi in qubit_idx:\n",
    "        assert 0 <= qi < num_qubits, \"qubit_idx must be in [0, num_qubits - 1]\"\n",
    "\n",
    "    qubit_indices = list(range(num_qubits))\n",
    "    dims_to_reduce = [i for i in qubit_indices if i not in qubit_idx]\n",
    "    dims_to_keep = qubit_idx\n",
    "    state = state.permute(*(dims_to_keep + dims_to_reduce))  # (*dims_to_keep, *dims_to_reduce)\n",
    "    shape_to_keep = math.prod([state.shape[i] for i in dims_to_keep])\n",
    "    shape_to_reduce = math.prod([state.shape[i] for i in dims_to_reduce])\n",
    "    state = state.reshape(shape_to_keep, shape_to_reduce)\n",
    "    reduced_density_matrix = state @ state.conj().T\n",
    "    return reduced_density_matrix\n",
    "\n",
    "\n",
    "def calc_observation(\n",
    "    state: torch.Tensor, operator: torch.Tensor, qubit_idx: int | List[int], _fast_mode: bool = True\n",
    "):\n",
    "    if isinstance(qubit_idx, int):\n",
    "        length = 1\n",
    "    else:\n",
    "        length = len(qubit_idx)\n",
    "    reduced_density_matrix = calc_reduced_density_matrix(state, qubit_idx)\n",
    "    num_qubits_operator = check_quantum_gate(operator)\n",
    "    assert num_qubits_operator == length, (\n",
    "        \"The number of qubits of the operator does not match the number of qubits of the state\"\n",
    "    )\n",
    "    operator_mat = operator.reshape(2**num_qubits_operator, 2**num_qubits_operator)\n",
    "    if _fast_mode:\n",
    "        return (reduced_density_matrix * operator_mat.T).sum()\n",
    "    else:\n",
    "        return torch.trace(reduced_density_matrix @ operator_mat)"
   ]
  },
  {
   "cell_type": "markdown",
   "id": "e1c98cf0",
   "metadata": {},
   "source": [
    "### Test"
   ]
  },
  {
   "cell_type": "code",
   "execution_count": 3,
   "id": "2edff646",
   "metadata": {},
   "outputs": [
    {
     "name": "stdout",
     "output_type": "stream",
     "text": [
      "From setup_ref_code_import:\n",
      "  Added reference_code_path='/Users/zhiqiu/offline_code/personal/tensor_network/reference_code' to sys.path.\n",
      "  You can import the reference code now.\n"
     ]
    }
   ],
   "source": [
    "from tensor_network import setup_ref_code_import\n",
    "from Library.QuantumState import TensorPureState\n",
    "from itertools import combinations"
   ]
  },
  {
   "cell_type": "code",
   "execution_count": 4,
   "id": "86a75b46",
   "metadata": {},
   "outputs": [],
   "source": [
    "num_qubits = 5\n",
    "\n",
    "state = TensorPureState(nq=num_qubits, dtype=torch.complex128)\n",
    "tensor = state.tensor\n",
    "\n",
    "reduced_density_matrix_int = state.reduced_density_matrix(0)\n",
    "reduced_density_matrix_list = state.reduced_density_matrix([0])\n",
    "\n",
    "qubit_indices = list(range(num_qubits))\n",
    "\n",
    "for length in range(1, num_qubits):\n",
    "    for comb in combinations(qubit_indices, length):\n",
    "        comb = list(comb)\n",
    "        reduced_density_matrix = calc_reduced_density_matrix(tensor, comb)\n",
    "        reduced_density_matrix_ref = state.reduced_density_matrix(comb)\n",
    "        assert torch.allclose(reduced_density_matrix, reduced_density_matrix_ref), (\n",
    "            f\"{(reduced_density_matrix - reduced_density_matrix_ref).norm()}\"\n",
    "        )"
   ]
  },
  {
   "cell_type": "code",
   "execution_count": 5,
   "id": "b52a9759",
   "metadata": {},
   "outputs": [],
   "source": [
    "num_qubits = 5\n",
    "\n",
    "state = TensorPureState(nq=num_qubits, dtype=torch.complex128)\n",
    "tensor = state.tensor\n",
    "\n",
    "qubit_indices = list(range(num_qubits))\n",
    "\n",
    "for length in range(1, num_qubits):\n",
    "    for comb in combinations(qubit_indices, length):\n",
    "        comb = list(comb)\n",
    "        operator = torch.randn(*([2] * (length * 2)), dtype=torch.complex128)\n",
    "        observation = calc_observation(tensor, operator, comb)\n",
    "        observation_ref = state.observation(operator, comb)\n",
    "        assert torch.allclose(observation, observation_ref), (\n",
    "            f\"{(observation - observation_ref).norm()}\"\n",
    "        )"
   ]
  },
  {
   "cell_type": "markdown",
   "id": "e8847eed",
   "metadata": {},
   "source": [
    "# 2.6: 量子纠缠\n",
    "\n",
    "### 纠缠谱\n",
    "\n",
    "纠缠谱计算的是二分的子体系相互纠缠的程度\n",
    "\n",
    "纠缠谱计算方法：\n",
    "1. 矩阵化：把系数张量矩阵化，一个子体系对应的 index 变成左指标，另一个子体系对应的 index 变成右指标\n",
    "2. 奇异值分解：获得这个矩阵的奇异值谱\n",
    "\n",
    "> 另一种计算方法：奇异值谱的平方由对应约化密度算符系数矩阵的本征谱给出\n",
    "\n",
    "纠缠熵计算方法：\n",
    "1. 计算纠缠谱\n",
    "2. 以纠缠谱的平方作为概率分布\n",
    "3. 计算熵\n",
    "\n",
    "TODO: 看书 2.6 节\n"
   ]
  }
 ],
 "metadata": {
  "kernelspec": {
   "display_name": ".venv",
   "language": "python",
   "name": "python3"
  },
  "language_info": {
   "codemirror_mode": {
    "name": "ipython",
    "version": 3
   },
   "file_extension": ".py",
   "mimetype": "text/x-python",
   "name": "python",
   "nbconvert_exporter": "python",
   "pygments_lexer": "ipython3",
   "version": "3.12.9"
  }
 },
 "nbformat": 4,
 "nbformat_minor": 5
}
