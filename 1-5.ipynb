{
 "cells": [
  {
   "cell_type": "code",
   "id": "initial_id",
   "metadata": {
    "collapsed": true,
    "ExecuteTime": {
     "end_time": "2025-03-18T08:25:13.583251Z",
     "start_time": "2025-03-18T08:25:12.712054Z"
    }
   },
   "source": "import torch",
   "outputs": [],
   "execution_count": 1
  },
  {
   "metadata": {},
   "cell_type": "markdown",
   "source": "# 自动微分",
   "id": "cad1afa7849bc27b"
  },
  {
   "metadata": {
    "ExecuteTime": {
     "end_time": "2025-03-18T08:25:13.643168Z",
     "start_time": "2025-03-18T08:25:13.587626Z"
    }
   },
   "cell_type": "code",
   "source": [
    "x1 = torch.tensor(1.0, requires_grad=True)\n",
    "g1 = torch.autograd.grad(x1 ** 2, x1)[0]\n",
    "print('Grad of x^2 at x=1 is {}'.format(g1))\n",
    "\n",
    "(x1 ** 2).backward()\n",
    "print('Grad of x^2 at x=1 is {}'.format(x1.grad))"
   ],
   "id": "8a89e01042978e14",
   "outputs": [
    {
     "name": "stdout",
     "output_type": "stream",
     "text": [
      "Grad of x^2 at x=1 is 2.0\n",
      "Grad of x^2 at x=1 is 2.0\n"
     ]
    }
   ],
   "execution_count": 2
  },
  {
   "metadata": {
    "ExecuteTime": {
     "end_time": "2025-03-18T08:25:15.110021Z",
     "start_time": "2025-03-18T08:25:13.935721Z"
    }
   },
   "cell_type": "code",
   "source": [
    "x3 = torch.arange(3, dtype=torch.float32, requires_grad=True)\n",
    "(x3 ** 2).backward(gradient=torch.ones_like(x3))\n",
    "print(x3.grad)"
   ],
   "id": "9b21c304eaac7293",
   "outputs": [
    {
     "name": "stdout",
     "output_type": "stream",
     "text": [
      "tensor([0., 2., 4.])\n"
     ]
    }
   ],
   "execution_count": 3
  }
 ],
 "metadata": {
  "kernelspec": {
   "display_name": "Python 3",
   "language": "python",
   "name": "python3"
  },
  "language_info": {
   "codemirror_mode": {
    "name": "ipython",
    "version": 2
   },
   "file_extension": ".py",
   "mimetype": "text/x-python",
   "name": "python",
   "nbconvert_exporter": "python",
   "pygments_lexer": "ipython2",
   "version": "2.7.6"
  }
 },
 "nbformat": 4,
 "nbformat_minor": 5
}
