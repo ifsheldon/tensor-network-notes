{
 "cells": [
  {
   "cell_type": "code",
   "execution_count": 1,
   "id": "initial_id",
   "metadata": {
    "ExecuteTime": {
     "end_time": "2025-03-18T08:25:13.583251Z",
     "start_time": "2025-03-18T08:25:12.712054Z"
    },
    "collapsed": true
   },
   "outputs": [],
   "source": [
    "import torch"
   ]
  },
  {
   "cell_type": "markdown",
   "id": "cad1afa7849bc27b",
   "metadata": {},
   "source": "# 自动微分"
  },
  {
   "cell_type": "code",
   "execution_count": 2,
   "id": "8a89e01042978e14",
   "metadata": {
    "ExecuteTime": {
     "end_time": "2025-03-18T08:25:13.643168Z",
     "start_time": "2025-03-18T08:25:13.587626Z"
    }
   },
   "outputs": [
    {
     "name": "stdout",
     "output_type": "stream",
     "text": [
      "Grad of x^2 at x=1 is 2.0\n",
      "Grad of x^2 at x=1 is 2.0\n"
     ]
    }
   ],
   "source": [
    "x1 = torch.tensor(1.0, requires_grad=True)\n",
    "g1 = torch.autograd.grad(x1**2, x1)[0]\n",
    "print(\"Grad of x^2 at x=1 is {}\".format(g1))\n",
    "\n",
    "(x1**2).backward()\n",
    "print(\"Grad of x^2 at x=1 is {}\".format(x1.grad))"
   ]
  },
  {
   "cell_type": "code",
   "execution_count": 3,
   "id": "9b21c304eaac7293",
   "metadata": {
    "ExecuteTime": {
     "end_time": "2025-03-18T08:25:15.110021Z",
     "start_time": "2025-03-18T08:25:13.935721Z"
    }
   },
   "outputs": [
    {
     "name": "stdout",
     "output_type": "stream",
     "text": [
      "tensor([0., 2., 4.])\n"
     ]
    }
   ],
   "source": [
    "x3 = torch.arange(3, dtype=torch.float32, requires_grad=True)\n",
    "(x3**2).backward(gradient=torch.ones_like(x3))\n",
    "print(x3.grad)"
   ]
  }
 ],
 "metadata": {
  "kernelspec": {
   "display_name": "Python 3",
   "language": "python",
   "name": "python3"
  },
  "language_info": {
   "codemirror_mode": {
    "name": "ipython",
    "version": 2
   },
   "file_extension": ".py",
   "mimetype": "text/x-python",
   "name": "python",
   "nbconvert_exporter": "python",
   "pygments_lexer": "ipython2",
   "version": "2.7.6"
  }
 },
 "nbformat": 4,
 "nbformat_minor": 5
}
