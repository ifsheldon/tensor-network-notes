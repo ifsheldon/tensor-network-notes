{
 "cells": [
  {
   "cell_type": "markdown",
   "metadata": {},
   "source": [
    "# Tensor Product Experiment"
   ]
  },
  {
   "cell_type": "code",
   "execution_count": 1,
   "metadata": {},
   "outputs": [],
   "source": [
    "import torch\n",
    "from einops import einsum"
   ]
  },
  {
   "cell_type": "markdown",
   "metadata": {},
   "source": [
    "## General Gate Product\n",
    "\n",
    "This handles the product of two general quantum gates, which computationally is tensor contractions."
   ]
  },
  {
   "cell_type": "markdown",
   "metadata": {},
   "source": [
    "### Example\n",
    "\n",
    "![general_gate_product](./images/tensor_network_experiment_circuit.png)"
   ]
  },
  {
   "cell_type": "code",
   "execution_count": 2,
   "metadata": {},
   "outputs": [],
   "source": [
    "# a is in space H1 x H2 x H3\n",
    "a = torch.randn(2, 2, 2, # a_l1, a_l2, a_l3\n",
    "                2, 2, 2, # a_r1, a_r2, a_r3\n",
    "                )\n",
    "\n",
    "I = torch.eye(2)\n",
    "# A is in space H1 x H2 x H3 x H4 by outer product of a and I\n",
    "A = einsum(a, I, \"al1 al2 al3 ar1 ar2 ar3, i4l i4r -> al1 al2 al3 i4l ar1 ar2 ar3 i4r\")\n",
    "\n",
    "# b is in space H3 x H4\n",
    "b = torch.randn(2, 2, # b_l3, b_l4\n",
    "                2, 2, # b_r3, b_r4\n",
    "                )\n",
    "# B is in space H1 x H2 x H3 x H4 by outer product of two identity gates\n",
    "B = einsum(I, I, b, \"i1l i1r, i2l i2r, bl3 bl4 br3 br4 -> i1l i2l bl3 bl4 i1r i2r br3 br4\")\n",
    "\n",
    "# BA is in space H1 x H2 x H3 x H4 by tensor product of B and A\n",
    "BA = einsum(B, A, \"i1l i2l bl3 bl4 c1 c2 c3 c4, c1 c2 c3 c4 ar1 ar2 ar3 i4r -> i1l i2l bl3 bl4 ar1 ar2 ar3 i4r\")\n",
    "# ba is in space H1 x H2 x H3 x H4 by tensor product of b and a\n",
    "ba = einsum(b, a, \"bl3 bl4 c br4, al1 al2 c ar1 ar2 ar3 -> al1 al2 bl3 bl4 ar1 ar2 ar3 br4\")\n",
    "assert torch.allclose(BA, ba)"
   ]
  },
  {
   "cell_type": "markdown",
   "metadata": {},
   "source": [
    "## Product of Control Gates\n",
    "\n",
    "TODO"
   ]
  },
  {
   "cell_type": "markdown",
   "metadata": {},
   "source": [
    "## Product of Control Gate and General Gate\n",
    "\n",
    "TODO"
   ]
  }
 ],
 "metadata": {
  "kernelspec": {
   "display_name": ".venv",
   "language": "python",
   "name": "python3"
  },
  "language_info": {
   "codemirror_mode": {
    "name": "ipython",
    "version": 3
   },
   "file_extension": ".py",
   "mimetype": "text/x-python",
   "name": "python",
   "nbconvert_exporter": "python",
   "pygments_lexer": "ipython3",
   "version": "3.12.9"
  }
 },
 "nbformat": 4,
 "nbformat_minor": 2
}
