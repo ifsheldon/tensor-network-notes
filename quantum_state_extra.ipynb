{
 "cells": [
  {
   "cell_type": "code",
   "execution_count": 1,
   "metadata": {},
   "outputs": [],
   "source": [
    "import torch"
   ]
  },
  {
   "cell_type": "code",
   "execution_count": 2,
   "metadata": {},
   "outputs": [],
   "source": [
    "# |export quantum_state.functional\n",
    "def random_state_tensor(n_qubits: int, dtype: torch.dtype, device: torch.device):\n",
    "    assert n_qubits > 0\n",
    "    assert dtype in [torch.float32, torch.float64, torch.complex64, torch.complex128]\n",
    "    tensor = torch.randn(2**n_qubits, dtype=dtype, device=device)\n",
    "    tensor = tensor / torch.linalg.norm(tensor)\n",
    "    return tensor"
   ]
  }
 ],
 "metadata": {
  "kernelspec": {
   "display_name": ".venv",
   "language": "python",
   "name": "python3"
  },
  "language_info": {
   "codemirror_mode": {
    "name": "ipython",
    "version": 3
   },
   "file_extension": ".py",
   "mimetype": "text/x-python",
   "name": "python",
   "nbconvert_exporter": "python",
   "pygments_lexer": "ipython3",
   "version": "3.12.9"
  }
 },
 "nbformat": 4,
 "nbformat_minor": 2
}
