{
 "cells": [
  {
   "cell_type": "markdown",
   "id": "d16dce44",
   "metadata": {},
   "source": [
    "# 2.8: 量子哈密顿量基态计算\n",
    "\n",
    "量子哈密顿量$\\hat{H}$：描述量子系统\"力学\"(mechanism)的核心算符。\n",
    "\n",
    "> 力学指使用数序描述物理系统的演化规律\n",
    "\n",
    "(定态)薛定谔方程：\n",
    "\n",
    "$\\hat{H}|\\varphi\\rangle = E|\\varphi\\rangle$\n",
    "\n",
    "其中 $E = \\langle\\varphi|\\hat{H}|\\varphi\\rangle$ 为能量，上述方程可化为本征问题。\n",
    "\n",
    "> $E$ 的推导:\n",
    "> \n",
    "> $\\hat{H}|\\varphi\\rangle = E|\\varphi\\rangle$ 两边同乘 $\\langle\\varphi|$，得到 $E = \\langle\\varphi|\\hat{H}|\\varphi\\rangle$，根据量子态的归一化性质 $\\langle\\varphi|\\varphi\\rangle = 1$，可得 $E = \\langle\\varphi|\\hat{H}|\\varphi\\rangle$。\n",
    "\n",
    "> $E$ 也是 $\\hat{H}$ 的量子期望\n",
    "\n",
    "最关心最小（代数）本征值问题——**基态**(ground state)问题：\n",
    "\n",
    "$|\\varphi_{GS}\\rangle = \\text{argmin}_{|\\varphi\\rangle}\\langle\\varphi|\\hat{H}|\\varphi\\rangle$\n",
    "\n",
    "> 关心最小代数本征值的原因：\n",
    ">\n",
    "> 本征值对应能量，能量越小，这个态出现的概率越大。温度越低，态的概率的差距越大。当温度趋近于绝对零度时，基态的概率趋近于1，其他态的概率趋近于0。也就是基态是最稳定的态。\n",
    "\n",
    "TODO: 看书里 3.1 - 3.4 节对于基态的概率意义的解释\n",
    "\n",
    "## 例子：4 qubit 的一维海森堡模型\n",
    "\n",
    "4个自旋（量子比特）构成的一维海森堡模型\n",
    "\n",
    "$\\hat{H} = \\frac{1}{4}\\sum_{n=0}^2 \\hat{H}_{n,n+1}$\n",
    "\n",
    "$= \\frac{1}{4}\\sum_{n=0}^2 (\\hat{\\sigma}_n^x\\hat{\\sigma}_{n+1}^x + \\hat{\\sigma}_n^y\\hat{\\sigma}_{n+1}^y + J\\hat{\\sigma}_n^z\\hat{\\sigma}_{n+1}^z)$\n",
    "\n",
    "哈密顿量$\\hat{H}$中的每一项 $\\hat{H}_{n,n+1} = \\hat{\\sigma}_n^x\\hat{\\sigma}_{n+1}^x + \\hat{\\sigma}_n^y\\hat{\\sigma}_{n+1}^y + J\\hat{\\sigma}_n^z\\hat{\\sigma}_{n+1}^z$ 为二体算符，其系数为一个 $(4\\times4)$ 的矩阵，作用于多体态的规则见2.5节。\n",
    "\n",
    "> $J$ 叫各项异性参数\n",
    ">\n",
    "> 在这个例子里，如果 $J=0$ 那么只有 xy 相互作用\n",
    "> \n",
    "> 如果 $J\\gg 1$ 那么只有 z 相互作用，xy 相互作用可以忽略\n",
    "\n",
    "哈密顿量本身的系数为$(2^4\\times2^4)$的矩阵。\n",
    "\n",
    "### 方法一：算出哈密顿量($2^4 \\times 2^4$)的系数的矩阵\n",
    "\n",
    "$\\hat{H}_{01} \\rightarrow \\text{kron}(\\hat{H}_{01},\\hat{I},\\hat{I})$\n",
    "\n",
    "$\\hat{H}_{12} \\rightarrow \\text{kron}(\\hat{I},\\hat{H}_{12},\\hat{I})$\n",
    "\n",
    "$\\hat{H}_{23} \\rightarrow \\text{kron}(\\hat{I},\\hat{I},\\hat{H}_{23})$\n",
    "\n",
    "图示如下\n",
    "![hamiltonian_example](./images/hamiltonian_example.png)\n",
    "\n",
    "相加后使用`eigsh`等函数求解最小本征态\n",
    "> 计算复杂度：$O(2^N \\times 2^N)$\n",
    "\n",
    "### 方法二：线性算子法\n",
    "\n",
    "**关键步骤为定义线性映射**\n",
    "\n",
    "$f(|\\varphi\\rangle) = \\frac{1}{4}\\sum_{n=0}^2 \\hat{H}_{n,n+1}|\\varphi\\rangle$\n",
    "\n",
    "> $\\hat{H}$ 是 $4\\times4$ 矩阵，因为是二体算符\n",
    ">\n",
    "> $|\\varphi\\rangle$ 是 $4\\times4$ 矩阵，因为左指标是 2 qubit 态展开，右指标是剩下的 qubit 态展开\n",
    "\n",
    "降低了指数级复杂度：对于上述例子，共需进行3次(4×4)与(4×4)间的矩阵乘法，计算复杂度为\n",
    "$O(3\\times4\\times4\\times4)$\n",
    "\n",
    "对于长度为N的自旋链，计算复杂度为\n",
    "$O((N-1)\\times4\\times4\\times2^{N-2})\\sim O(N2^N)$"
   ]
  },
  {
   "cell_type": "markdown",
   "id": "dd2176d8",
   "metadata": {},
   "source": [
    "### Code"
   ]
  },
  {
   "cell_type": "code",
   "execution_count": 1,
   "id": "f3f23280",
   "metadata": {},
   "outputs": [],
   "source": [
    "# |default_exp tensor_gates.hamiltonians\n",
    "# |export\n",
    "import torch\n",
    "from tensor_network.tensor_gates.functional import pauli_operator"
   ]
  },
  {
   "cell_type": "markdown",
   "id": "b90277ac",
   "metadata": {},
   "source": [
    "一维海森堡模型\n",
    "\n",
    "$$\n",
    "\\begin{align}\n",
    "\\hat{H} &= \\frac{1}{4}\\sum_{n=0}^{2} \\hat{H}_{n,n+1} \\\\\n",
    "&= \\frac{1}{4}\\sum_{n=0}^{2} (J_x\\hat{\\sigma}_n^x\\hat{\\sigma}_{n+1}^x + J_y\\hat{\\sigma}_n^y\\hat{\\sigma}_{n+1}^y + J_z\\hat{\\sigma}_n^z\\hat{\\sigma}_{n+1}^z)\n",
    "\\end{align}\n",
    "$$"
   ]
  },
  {
   "cell_type": "code",
   "execution_count": 2,
   "id": "9b8869a7",
   "metadata": {},
   "outputs": [],
   "source": [
    "# |export\n",
    "def heisenberg(\n",
    "    *,\n",
    "    jx: float | torch.Tensor,\n",
    "    jy: float | torch.Tensor,\n",
    "    jz: float | torch.Tensor,\n",
    "    double_precision: bool = False,\n",
    "    return_matrix: bool = False,\n",
    ") -> torch.Tensor:\n",
    "    \"\"\"\n",
    "    Calculate the Hamiltonian of the Heisenberg model.\n",
    "    Args:\n",
    "        jx: float | torch.Tensor, the coupling strength of the x-axis.\n",
    "        jy: float | torch.Tensor, the coupling strength of the y-axis.\n",
    "        jz: float | torch.Tensor, the coupling strength of the z-axis.\n",
    "        double_precision: bool, whether to use double precision.\n",
    "        return_matrix: bool, whether to return the Hamiltonian in matrix form. By default, the Hamiltonian is returned in tensor form.\n",
    "    Returns:\n",
    "        torch.Tensor, the Hamiltonian of the Heisenberg model.\n",
    "    \"\"\"\n",
    "    pauli_x = pauli_operator(pauli=\"X\", double_precision=double_precision)\n",
    "    pauli_y = pauli_operator(pauli=\"Y\", double_precision=double_precision)\n",
    "    pauli_z = pauli_operator(pauli=\"Z\", double_precision=double_precision)\n",
    "    hamiltonian = (\n",
    "        jx * torch.einsum(\"ab, ij -> aibj\", pauli_x, pauli_x)\n",
    "        + jy * torch.einsum(\"ab, ij -> aibj\", pauli_y, pauli_y).real\n",
    "        + jz * torch.einsum(\"ab, ij -> aibj\", pauli_z, pauli_z)\n",
    "    )\n",
    "    hamiltonian /= 4\n",
    "    if return_matrix:\n",
    "        return hamiltonian.reshape(4, 4)\n",
    "    else:\n",
    "        return hamiltonian"
   ]
  },
  {
   "cell_type": "code",
   "execution_count": 3,
   "id": "2d6abaf7",
   "metadata": {},
   "outputs": [],
   "source": [
    "from typing import List\n",
    "from einops import einsum\n",
    "import numpy as np\n",
    "from tensor_network.tensor_gates.functional import gate_outer_product\n",
    "from scipy.sparse.linalg import LinearOperator, eigsh"
   ]
  },
  {
   "cell_type": "code",
   "execution_count": 4,
   "id": "bb82ccc0",
   "metadata": {},
   "outputs": [],
   "source": [
    "# |export tensor_gates.functional\n",
    "def kron(*matrices: torch.Tensor) -> torch.Tensor:\n",
    "    \"\"\"\n",
    "    Calculate the Kronecker product of a list of matrices.\n",
    "\n",
    "    Args:\n",
    "        *matrices: torch.Tensor, the matrices to be multiplied.\n",
    "    Returns:\n",
    "        torch.Tensor, the Kronecker product of the matrices.\n",
    "    \"\"\"\n",
    "    assert len(matrices) >= 2, \"At least two matrices are needed for Kronecker product\"\n",
    "    mat = torch.kron(matrices[0], matrices[1])\n",
    "    for m in matrices[2:]:\n",
    "        mat = torch.kron(mat, m)\n",
    "    return mat"
   ]
  },
  {
   "cell_type": "code",
   "execution_count": 5,
   "id": "393b3ef2",
   "metadata": {},
   "outputs": [],
   "source": [
    "hamiltonian = heisenberg(jx=1.0, jy=1.0, jz=1.0, double_precision=False)\n",
    "h_mat = hamiltonian.reshape(4, 4)\n",
    "identity = torch.eye(2)"
   ]
  },
  {
   "cell_type": "code",
   "execution_count": 6,
   "id": "803d4c85",
   "metadata": {},
   "outputs": [],
   "source": [
    "# calculate total hamiltonian by matrix ops\n",
    "total_hamiltonian_mat = kron(h_mat, identity, identity)\n",
    "total_hamiltonian_mat += kron(identity, h_mat, identity)\n",
    "total_hamiltonian_mat += kron(identity, identity, h_mat)\n",
    "# calculate total hamiltonian by tensor ops\n",
    "total_hamiltonian = gate_outer_product(hamiltonian, identity, identity)\n",
    "total_hamiltonian += gate_outer_product(identity, hamiltonian, identity)\n",
    "total_hamiltonian += gate_outer_product(identity, identity, hamiltonian)\n",
    "\n",
    "assert torch.allclose(total_hamiltonian.reshape(2**4, 2**4), total_hamiltonian_mat)"
   ]
  },
  {
   "cell_type": "code",
   "execution_count": 7,
   "id": "4b5d3247",
   "metadata": {},
   "outputs": [
    {
     "name": "stdout",
     "output_type": "stream",
     "text": [
      "获取完整 Hamiltonian 后调用 eigvalsh, 基态能量 = -1.6160258054733276\n"
     ]
    }
   ],
   "source": [
    "eigvalues = torch.linalg.eigvalsh(total_hamiltonian_mat)\n",
    "print(f\"获取完整 Hamiltonian 后调用 eigvalsh, 基态能量 = {eigvalues.min()}\")"
   ]
  },
  {
   "cell_type": "code",
   "execution_count": 8,
   "id": "32bcd084",
   "metadata": {},
   "outputs": [
    {
     "name": "stdout",
     "output_type": "stream",
     "text": [
      "LinearOperator, 基态能量 = -1.6160253286361694\n"
     ]
    }
   ],
   "source": [
    "h_np = hamiltonian.numpy()\n",
    "\n",
    "\n",
    "def heisenberg_hamilt_on_state(state: np.ndarray):\n",
    "    state = state.reshape(2, 2, 2, 2)\n",
    "    after_state = einsum(state, h_np, \"l0 l1 s2 s3, l0 l1 r0 r1 -> r0 r1 s2 s3\")\n",
    "    after_state += einsum(state, h_np, \"s0 l0 l1 s3, l0 l1 r0 r1 -> s0 r0 r1 s3\")\n",
    "    after_state += einsum(state, h_np, \"s0 s1 l0 l1, l0 l1 r0 r1 -> s0 s1 r0 r1\")\n",
    "    return after_state.flatten()\n",
    "\n",
    "\n",
    "linear_fn = LinearOperator(shape=(2**4, 2**4), matvec=heisenberg_hamilt_on_state)\n",
    "smallest_eigvalue, _ = eigsh(linear_fn, k=1, which=\"SA\")\n",
    "print(f\"LinearOperator, 基态能量 = {smallest_eigvalue[0]}\")"
   ]
  }
 ],
 "metadata": {
  "kernelspec": {
   "display_name": ".venv",
   "language": "python",
   "name": "python3"
  },
  "language_info": {
   "codemirror_mode": {
    "name": "ipython",
    "version": 3
   },
   "file_extension": ".py",
   "mimetype": "text/x-python",
   "name": "python",
   "nbconvert_exporter": "python",
   "pygments_lexer": "ipython3",
   "version": "3.12.9"
  }
 },
 "nbformat": 4,
 "nbformat_minor": 5
}
