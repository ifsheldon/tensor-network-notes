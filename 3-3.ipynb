{
 "cells": [
  {
   "cell_type": "markdown",
   "id": "91cf526e",
   "metadata": {},
   "source": [
    "# 3.3: 神经网络模块化编程\n",
    "\n",
    "TODO: finish MNIST training code"
   ]
  }
 ],
 "metadata": {
  "language_info": {
   "name": "python"
  }
 },
 "nbformat": 4,
 "nbformat_minor": 5
}
