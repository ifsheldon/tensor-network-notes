{
 "cells": [
  {
   "cell_type": "markdown",
   "id": "2d001cf3",
   "metadata": {},
   "source": [
    "# 2.7: 量子线路\n",
    "\n",
    "**基本定义**：多个量子门构成量子线路 (quantum circuit)\n",
    "\n",
    "**一般流程**：给定初态->由量子线路进行演化->通过测量读取信息\n"
   ]
  },
  {
   "cell_type": "markdown",
   "id": "b3513c04",
   "metadata": {},
   "source": [
    "## 交换门\n",
    "交换门的定义：\n",
    "* $\\hat{G}_{\\text{SWAP}}|00\\rangle = |00\\rangle$, $\\hat{G}_{\\text{SWAP}}|11\\rangle = |11\\rangle$\n",
    "* $\\hat{G}_{\\text{SWAP}}|01\\rangle = |10\\rangle$, $\\hat{G}_{\\text{SWAP}}|10\\rangle = |01\\rangle$\n",
    "\n",
    "系数矩阵：\n",
    "$$\n",
    "\\begin{bmatrix}\n",
    "1 & 0 & 0 & 0 \\\\\n",
    "0 & 0 & 1 & 0 \\\\\n",
    "0 & 1 & 0 & 0 \\\\\n",
    "0 & 0 & 0 & 1\n",
    "\\end{bmatrix}\n",
    "$$\n",
    "\n",
    "例子:\n",
    "\n",
    "![swap_circuit_example](./images/swap_circuit_example.png)\n",
    "\n",
    "![swap_circuit_example2](./images/swap_circuit_example2.png)"
   ]
  },
  {
   "cell_type": "markdown",
   "id": "018cc5cd",
   "metadata": {},
   "source": [
    "## 量子傅里叶变化例子\n",
    "\n",
    "![qft_example](./images/qft_example.png)\n",
    "\n",
    "TODO: Find some content explaining the quantum Fourier transform in detail.\n",
    "TODO: Read the QFT implementation in the code."
   ]
  }
 ],
 "metadata": {
  "language_info": {
   "name": "python"
  }
 },
 "nbformat": 4,
 "nbformat_minor": 5
}
