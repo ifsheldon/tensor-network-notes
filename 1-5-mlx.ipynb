{
 "cells": [
  {
   "cell_type": "code",
   "execution_count": 1,
   "id": "initial_id",
   "metadata": {
    "ExecuteTime": {
     "end_time": "2025-03-18T08:25:13.583251Z",
     "start_time": "2025-03-18T08:25:12.712054Z"
    },
    "collapsed": true
   },
   "outputs": [],
   "source": [
    "import mlx.core as mx"
   ]
  },
  {
   "cell_type": "markdown",
   "id": "cad1afa7849bc27b",
   "metadata": {},
   "source": [
    "# 自动微分"
   ]
  },
  {
   "cell_type": "code",
   "execution_count": 2,
   "id": "8a89e01042978e14",
   "metadata": {
    "ExecuteTime": {
     "end_time": "2025-03-18T08:25:13.643168Z",
     "start_time": "2025-03-18T08:25:13.587626Z"
    }
   },
   "outputs": [
    {
     "name": "stdout",
     "output_type": "stream",
     "text": [
      "Grad of x^2 at x = 1 is 2.0\n"
     ]
    }
   ],
   "source": [
    "x1 = mx.ones(())\n",
    "\n",
    "\n",
    "def f(x):\n",
    "    return (x**2).sum()\n",
    "\n",
    "\n",
    "grad_fn = mx.grad(f)\n",
    "grad = grad_fn(x1)\n",
    "print(\"Grad of x^2 at x = 1 is {}\".format(grad))"
   ]
  },
  {
   "cell_type": "code",
   "execution_count": 3,
   "id": "9b21c304eaac7293",
   "metadata": {
    "ExecuteTime": {
     "end_time": "2025-03-18T08:25:15.110021Z",
     "start_time": "2025-03-18T08:25:13.935721Z"
    }
   },
   "outputs": [
    {
     "name": "stdout",
     "output_type": "stream",
     "text": [
      "array([0, 2, 4], dtype=int32)\n"
     ]
    }
   ],
   "source": [
    "x3 = mx.arange(3)\n",
    "grad_x3 = grad_fn(x3)\n",
    "print(grad_x3)"
   ]
  }
 ],
 "metadata": {
  "kernelspec": {
   "display_name": ".venv",
   "language": "python",
   "name": "python3"
  },
  "language_info": {
   "codemirror_mode": {
    "name": "ipython",
    "version": 3
   },
   "file_extension": ".py",
   "mimetype": "text/x-python",
   "name": "python",
   "nbconvert_exporter": "python",
   "pygments_lexer": "ipython3",
   "version": "3.12.9"
  }
 },
 "nbformat": 4,
 "nbformat_minor": 5
}
