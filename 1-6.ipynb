{
 "cells": [
  {
   "cell_type": "code",
   "execution_count": 1,
   "id": "initial_id",
   "metadata": {
    "ExecuteTime": {
     "end_time": "2025-03-19T09:56:55.834486Z",
     "start_time": "2025-03-19T09:56:54.902705Z"
    }
   },
   "outputs": [],
   "source": [
    "#|default_exp eigen_decomposition\n",
    "#|export\n",
    "import torch\n",
    "from tqdm.auto import tqdm\n",
    "import matplotlib.pyplot as plt"
   ]
  },
  {
   "cell_type": "markdown",
   "id": "36e2fe2d72ef7d1f",
   "metadata": {},
   "source": [
    "# 1.6a: 本征值分解 Eigenvalue Decomposition\n",
    "\n",
    "*   矩阵分解可被简单理解为“在一定约束条件下，将一个矩阵化成多个矩阵乘积的过程”。\n",
    "*   **本征值分解数学形式：** $M = U\\Lambda U^{\\dagger}$ (其中 $\\dagger$ 表示取转置复共轭)，即 $M_{ac} = \\sum_{b} U_{ab}\\Lambda_{bb}U^{*}_{cb}$。\n",
    "*   **约束条件：**（1）变换矩阵的幺正性：$U^{\\dagger}U = UU^{\\dagger} = I$ ；(2) $\\Lambda$为对角矩阵。\n",
    "\n",
    "![eigenvalue-decomposition-tensor-network](images/eigenvalue_decomposition_tensor_network.png)\n",
    "\n",
    "注意对角矩阵用菱形或者实心圆点表示，两条线段其实代表同一个 index\n",
    "\n",
    "## 本征方程的解\n",
    "\n",
    "*   本征值分解给出**本征方程**的解，即归一化向量$v$，满足 $Mv = \\gamma v$\n",
    "*   $U$ 的列向量给出本征方程的解，$\\Lambda$的对角元给出本征值，满足 $MU_{:,n} = \\Lambda_{n,n}U_{:,n}$\n",
    "*   并不是任意矩阵都存在本征值分解！\n",
    "*   厄密矩阵（$M = M^{\\dagger}$）一定存在本征值分解，且本征值为实数。\n",
    "\n",
    "### 本征方程的应用\n",
    "* $M$ 可以是动力学的描述，$v$ 可以是动力学的一个稳定点\n",
    "* $M$ 可以是一个旋转算符，例如旋转 180 度，那么直线可以理解为是这个旋转算符的本征方程的解\n",
    "\n",
    "\n"
   ]
  },
  {
   "cell_type": "code",
   "execution_count": null,
   "id": "67f51dc08f87f64b",
   "metadata": {
    "ExecuteTime": {
     "end_time": "2025-03-19T09:56:55.843309Z",
     "start_time": "2025-03-19T09:56:55.841295Z"
    }
   },
   "outputs": [],
   "source": [
    "#|export\n",
    "def rand_hermitian_matrix(dim: int) -> torch.Tensor:\n",
    "    \"\"\"\n",
    "    Generate a random Hermitian matrix of given dimension.\n",
    "    \n",
    "    Args:\n",
    "        dim (int): Dimension of the matrix.\n",
    "    Returns:\n",
    "        torch.Tensor: A Hermitian matrix of the specified dimension.\n",
    "    \"\"\"\n",
    "    H = torch.randn(dim, dim, dtype=torch.complex64)\n",
    "    H = H + H.conj().t()\n",
    "    return H\n",
    "\n",
    "#|export\n",
    "def rand_real_symmetric_matrix(dim: int) -> torch.Tensor:\n",
    "    \"\"\"\n",
    "    Generate a random real symmetric matrix of given dimension.\n",
    "    \n",
    "    Args:\n",
    "        dim (int): Dimension of the matrix.\n",
    "    Returns:\n",
    "        torch.Tensor: A real symmetric matrix of the specified dimension.\n",
    "    \"\"\"\n",
    "    mat = torch.randn(dim, dim, dtype=torch.float32)\n",
    "    mat = (mat + mat.t()) / 2\n",
    "    return mat"
   ]
  },
  {
   "cell_type": "code",
   "execution_count": 3,
   "id": "df8e8173c38e8ed0",
   "metadata": {
    "ExecuteTime": {
     "end_time": "2025-03-19T09:56:55.968337Z",
     "start_time": "2025-03-19T09:56:55.962426Z"
    }
   },
   "outputs": [
    {
     "name": "stdout",
     "output_type": "stream",
     "text": [
      "Random Hermitian Matrix:\n",
      "tensor([[ 1.8346+0.0000j,  0.4025-0.4407j,  0.4944+0.7137j],\n",
      "        [ 0.4025+0.4407j, -1.3903+0.0000j,  2.0519+0.5499j],\n",
      "        [ 0.4944-0.7137j,  2.0519-0.5499j, -1.7406+0.0000j]])\n",
      "Eigenvalues:\n",
      "tensor([-3.7973,  0.2438,  2.2572])\n",
      "EigenVectors:\n",
      "tensor([[ 0.1338+0.0000j,  0.3951+0.0000j, -0.9089-0.0000j],\n",
      "        [ 0.1769-0.6413j, -0.6862+0.0990j, -0.2722-0.0514j],\n",
      "        [-0.0372+0.7336j, -0.5837+0.1504j, -0.2592+0.1733j]])\n",
      "Error:\n",
      "1.1794530792030855e-06\n"
     ]
    }
   ],
   "source": [
    "H = rand_hermitian_matrix(3)\n",
    "print(f\"Random Hermitian Matrix:\\n{H}\")\n",
    "\n",
    "# To decompose a *Hermitian* matrix, use the `eigh` function\n",
    "eigenvalues, u = torch.linalg.eigh(H)\n",
    "print(f\"Eigenvalues:\\n{eigenvalues}\")\n",
    "print(f\"EigenVectors:\\n{u}\")\n",
    "\n",
    "reconstructed_H = u @ torch.diag(eigenvalues.to(torch.complex64)) @ u.conj().t()\n",
    "error = (H - reconstructed_H).norm()\n",
    "print(f\"Error:\\n{error}\")"
   ]
  },
  {
   "cell_type": "code",
   "execution_count": 4,
   "id": "8692a58d6cea4a06",
   "metadata": {
    "ExecuteTime": {
     "end_time": "2025-03-19T09:56:55.990740Z",
     "start_time": "2025-03-19T09:56:55.988882Z"
    }
   },
   "outputs": [],
   "source": [
    "N = 1\n",
    "# To test eigenvalue decomposition\n",
    "v1 = eigenvalues[N] * u[:, N]\n",
    "v2 = H @ u[:, N]\n",
    "assert v1.allclose(v2)"
   ]
  },
  {
   "cell_type": "markdown",
   "id": "85c4b10a28e7e899",
   "metadata": {},
   "source": [
    "## 本征值分解对应的优化问题\n",
    "\n",
    "*   **本征值分解对应的优化问题**：求解归一化向量，满足 $\\max_{|v|=1}(v^\\dagger Mv)$，即\n",
    "    * $v$ 要保证是单位向量，同时最大化 $v^\\dagger Mv$\n",
    "*   上述问题的解为 **M** 的最大本征值对应的 **本征向量**，$v^\\dagger Mv$ 的值给出 **最大本征值**\n",
    "*   考虑建立如下损失函数：\n",
    "    $L = -\\frac{v^\\dagger Mv}{v^\\dagger v}$\n",
    "    * $v$ 不限制长度，所以要手动归一化\n",
    "*   优化 $v$ 实现 $L$ 的极小化，即可得到 **M** 的最大本征值及对应的本征向量"
   ]
  },
  {
   "cell_type": "markdown",
   "id": "e5a9803c2d8cd15b",
   "metadata": {},
   "source": [
    "### 证明\n",
    "Presumption: We don't consider eigenvalue degeneration, so there's only one max eigenvalue.\n",
    "\n",
    "Since $U$ is unitary, its columns are orthonormal so they can be basis vectors. Then we can express $v$ as a linear combination of the columns of $U$:\n",
    "$$\n",
    "v = Uc\n",
    "$$\n",
    "We also have that $v$ is unit vector, so\n",
    "$$\n",
    "v^\\dagger v = c^\\dagger U^\\dagger Uc = c^\\dagger c = 1\n",
    "$$\n",
    "Therefore, $c$ is a unit vector as well.\n",
    "\n",
    "We now have\n",
    "$$\n",
    "v^\\dagger M v = c^\\dagger U^\\dagger M U c = c^\\dagger U^\\dagger U \\Lambda U^\\dagger U c = c^\\dagger \\Lambda  c = \\sum_k c_k^\\dagger \\Lambda_{kk} c_k\n",
    "$$\n",
    "\n",
    "Since $c$ is a unit vector  $\\sum_k c_k^\\dagger c_k = 1$, so the result can be considered as the weighted sum of all eigenvalues.\n",
    "\n",
    "If and only if\n",
    "$$\n",
    "c_k = \\left\\{\n",
    "\\begin{array}{ll}\n",
    "      1 & \\text{if}\\ k=0 \\\\\n",
    "      0 & \\text{otherwise}\\\\\n",
    "\\end{array}\n",
    "\\right.\n",
    "$$\n",
    "then we have the max value.\n"
   ]
  },
  {
   "cell_type": "markdown",
   "id": "537e580e54457d5f",
   "metadata": {},
   "source": [
    "### 优化例子"
   ]
  },
  {
   "cell_type": "code",
   "execution_count": 5,
   "id": "697a85c561a5b9f",
   "metadata": {
    "ExecuteTime": {
     "end_time": "2025-03-19T09:56:58.250302Z",
     "start_time": "2025-03-19T09:56:56.015333Z"
    }
   },
   "outputs": [
    {
     "data": {
      "application/vnd.jupyter.widget-view+json": {
       "model_id": "2c473ab86b7d4e91851a2c3810eb4c3f",
       "version_major": 2,
       "version_minor": 0
      },
      "text/plain": [
       "  0%|          | 0/300 [00:00<?, ?it/s]"
      ]
     },
     "metadata": {},
     "output_type": "display_data"
    }
   ],
   "source": [
    "dim = 8\n",
    "lr = 2e-2\n",
    "it_num = 300\n",
    "\n",
    "# Generate a random real symmetric matrix (subset of Hermitian matrices)\n",
    "mat = rand_real_symmetric_matrix(8)\n",
    "\n",
    "v = torch.randn(dim, dtype=torch.float32, requires_grad=True)\n",
    "adam = torch.optim.Adam([v], lr=lr)\n",
    "losses = torch.zeros(it_num, dtype=torch.float32)\n",
    "\n",
    "for t in tqdm(range(it_num)):\n",
    "    # left out conjugate since v is real\n",
    "    loss = -torch.einsum(\"a,ab,b\", v, mat, v) / v.dot(v)\n",
    "    loss.backward()\n",
    "    adam.step()\n",
    "    adam.zero_grad()\n",
    "    losses[t] = loss.item()"
   ]
  },
  {
   "cell_type": "code",
   "execution_count": 6,
   "id": "8e1902bf73764f0c",
   "metadata": {
    "ExecuteTime": {
     "end_time": "2025-03-19T09:56:58.267236Z",
     "start_time": "2025-03-19T09:56:58.263671Z"
    }
   },
   "outputs": [],
   "source": [
    "found_max_eigenvalues = -losses\n",
    "ref_eigenvalues = torch.linalg.eigvalsh(mat)\n",
    "ref_max_eigenvalue = ref_eigenvalues.max()"
   ]
  },
  {
   "cell_type": "code",
   "execution_count": 7,
   "id": "ac52d11a3b0f6e",
   "metadata": {
    "ExecuteTime": {
     "end_time": "2025-03-19T09:56:58.380597Z",
     "start_time": "2025-03-19T09:56:58.283155Z"
    }
   },
   "outputs": [
    {
     "data": {
      "text/plain": [
       "<matplotlib.legend.Legend at 0x132919760>"
      ]
     },
     "execution_count": 7,
     "metadata": {},
     "output_type": "execute_result"
    },
    {
     "data": {
      "image/png": "[encoded data removed]",
      "text/plain": [
       "<Figure size 640x480 with 1 Axes>"
      ]
     },
     "metadata": {},
     "output_type": "display_data"
    }
   ],
   "source": [
    "# plot\n",
    "iterations = range(it_num)\n",
    "fig, ax = plt.subplots()\n",
    "ax.plot(iterations, torch.ones(it_num) * ref_max_eigenvalue, linestyle=\"--\", label=\"Reference\")\n",
    "ax.plot(iterations, found_max_eigenvalues, linestyle=\"-.\", label=\"Found\")\n",
    "ax.set_xlabel(\"Iterations\")\n",
    "ax.set_ylabel(\"Eigenvalues\")\n",
    "ax.legend()"
   ]
  },
  {
   "cell_type": "markdown",
   "id": "b44e40ce622fce7",
   "metadata": {},
   "source": [
    "### 任意线性映射的本征值分解\n",
    "\n",
    "*   **任何线性映射**均可定义本征方程\n",
    "    $f(v) = \\gamma v$\n",
    "*   使用scipy中的**线性算子 (LinearOperator)** 求解；\n",
    "*   该方法对于复杂线性映射的处理十分有用，比如说一些线性映射的参数很少，但是如果写矩阵 $M$ 出来的话很麻烦或者很大，那么可以直接用线性算子来进行计算"
   ]
  },
  {
   "cell_type": "code",
   "execution_count": 8,
   "id": "4801bc93f1895b7a",
   "metadata": {
    "ExecuteTime": {
     "end_time": "2025-03-19T09:56:58.874184Z",
     "start_time": "2025-03-19T09:56:58.394114Z"
    }
   },
   "outputs": [
    {
     "name": "stdout",
     "output_type": "stream",
     "text": [
      "torch: 2.0, scipy: 2.0, LinearOperator: 2.0\n"
     ]
    }
   ],
   "source": [
    "from scipy.sparse.linalg import eigsh, LinearOperator\n",
    "\n",
    "dim = 8\n",
    "# M is a sparse real symmetric matrix, representing a linear map that has a few parameters compared to the size of the matrix\n",
    "M = torch.eye(dim, dtype=torch.float32)\n",
    "M[0, 7] = 1.\n",
    "M[7, 0] = 1.\n",
    "\n",
    "# Get the max eigenvalue with PyTorch\n",
    "eigenvalues = torch.linalg.eigvalsh(M)\n",
    "max_eigenvalue_torch = eigenvalues.max()\n",
    "\n",
    "# Get the max eigenvalue with scipy\n",
    "M_scipy = M.numpy()\n",
    "eigenvalues, _ = eigsh(M_scipy, k=1, which=\"LA\")\n",
    "max_eigenvalue_scipy = eigenvalues[0]\n",
    "\n",
    "# Get the max eigenvalue with LinearOperator\n",
    "M2 = LinearOperator(shape=M_scipy.shape, matvec=lambda v: M_scipy @ v)\n",
    "eigenvalues, _ = eigsh(M2, k=1, which=\"LA\")\n",
    "max_eigenvalue_linear_operator = eigenvalues[0]\n",
    "\n",
    "print(f\"torch: {max_eigenvalue_torch}, scipy: {max_eigenvalue_scipy}, LinearOperator: {max_eigenvalue_linear_operator}\")"
   ]
  },
  {
   "cell_type": "markdown",
   "id": "1403760c-062b-4f08-b1ee-421b39725bd0",
   "metadata": {},
   "source": [
    "# 1.6b: 本征方程的幂方法\n",
    "\n",
    "**投影法**，用于求解 Hermitian Matrix 某个特定的本征值和本征向量\n",
    "\n",
    "\n",
    "* **定义投影矩阵**: $\\tau$ 一般取为一个小量；投影矩阵有不同的定义方法，求的是不同的本征向量，具体看证明\n",
    "    * $\\rho = e^{-\\tau H}$\n",
    "    * $\\rho = e^{\\tau H}$\n",
    "    * $\\rho = e^{\\tau H^2}$\n",
    "    * $\\rho = e^{-\\tau H^2}$\n",
    "* $\\rho$ 和 $H$ 具有相同的本征向量，本征值间为指数关系$e^{-\\tau\\Gamma}$，证明：\n",
    "  假设 $H$ is Hermitian，那么用泰勒展开得\n",
    "\n",
    "  $\\rho = \\sum_{n=0}^{\\infty} \\frac{(-\\tau)^n}{n!} H^n = \\sum_{n=0}^{\\infty} \\frac{(-\\tau)^n}{n!} (U\\Gamma U^{\\dagger})^n = U (\\sum_{n=0}^{\\infty} \\frac{(-\\tau)^n}{n!} \\Gamma^n) U^{\\dagger}$\n",
    "\n",
    "  $\\rho$ 的本征值为 $\\sum_{n=0}^{\\infty} \\frac{(-\\tau)^n}{n!} \\Gamma^n = e^{-\\tau \\Gamma}$\n",
    "* 注意：$\\rho$ 里的每个元素不是从 $H$ 的元素的简单指数，看上面的泰勒展开就知道了\n",
    "* 投影属性：$\\lim_{m\\to\\infty}\\rho^m v = C U_{:,0}$, $C$ 是一个常数\n",
    "    * 证明：TODO\n",
    "\n",
    "## 算法\n",
    "根据投影属性，可以做的是：\n",
    "1. 随机生成一个 $v$，不断把 $\\rho$ 和 $v$ 相乘，直到数值比较稳定\n",
    "2. 这个时候我们得到 $C U_{:,0}$, $C$ 是一个常数，那么只要单位化就可以得到本征向量 $u$\n",
    "3. 因为有 $M u = \\gamma u$，同时乘上 $u^\\dagger$ 得 $u^\\dagger M u = u^\\dagger \\gamma u = \\gamma$\n",
    "\n",
    "这个算法的效率比 PyTorch, SciPy 里的低很多（对于矩阵来说），但是在张量网络的计算里比较有用\n"
   ]
  },
  {
   "cell_type": "code",
   "execution_count": null,
   "id": "614e8dbb855e7d62",
   "metadata": {
    "ExecuteTime": {
     "end_time": "2025-03-19T09:56:58.891086Z",
     "start_time": "2025-03-19T09:56:58.884977Z"
    }
   },
   "outputs": [],
   "source": [
    "#|export\n",
    "def eigs_power(mat: torch.Tensor, which: str, v0=None) -> (torch.Tensor, torch.Tensor):\n",
    "    \"\"\"\n",
    "    ‘LM’ : Largest (in magnitude) eigenvalues.\n",
    "    ‘SM’ : Smallest (in magnitude) eigenvalues.\n",
    "    ‘LA’ : Largest (algebraic) eigenvalues.\n",
    "    ‘SA’ : Smallest (algebraic) eigenvalues.\n",
    "\n",
    "    Args:\n",
    "        mat (torch.Tensor): Input matrix (real symmetric).\n",
    "        which (str): Which eigenvalue to compute ('la', 'sa', 'lm', 'sm').\n",
    "        v0 (torch.Tensor, optional): Initial vector. If None, a random vector is generated.\n",
    "    Returns:\n",
    "        (torch.Tensor, torch.Tensor): The computed eigenvalue and corresponding eigenvector.\n",
    "    \"\"\"\n",
    "    which = which.lower()\n",
    "    H = mat\n",
    "    assert which in [\"la\", \"sa\", \"lm\", \"sm\"]\n",
    "    assert H.allclose(H.t())\n",
    "    assert len(H.shape) == 2\n",
    "\n",
    "    TAU = 0.01\n",
    "    if which == \"la\":\n",
    "        rho = torch.matrix_exp(TAU * H)\n",
    "    elif which == \"lm\":\n",
    "        rho = torch.matrix_exp(TAU * torch.matrix_power(H, 2))\n",
    "    elif which == \"sa\":\n",
    "        rho = torch.matrix_exp(-TAU * H)\n",
    "    elif which == \"sm\":\n",
    "        rho = torch.matrix_exp(-TAU * torch.matrix_power(H, 2))\n",
    "    else:\n",
    "        raise NotImplementedError()\n",
    "\n",
    "    ITER_NUM = 2000\n",
    "    TOLERANCE = 1e-14\n",
    "    if v0 is None:\n",
    "        v = torch.randn(H.shape[1], dtype=H.dtype)\n",
    "        v = v / v.norm()\n",
    "    else:\n",
    "        v = v0\n",
    "\n",
    "    norm = 1.\n",
    "    for _ in tqdm(range(ITER_NUM)):\n",
    "        v_next = rho @ v\n",
    "        norm = v_next.norm()\n",
    "        v_next /= norm\n",
    "        diff = (v_next - v).norm()\n",
    "        if diff < TOLERANCE:\n",
    "            break\n",
    "        v = v_next\n",
    "\n",
    "    scaled_eigenvector = H.matmul(v)  # eigenvalue * eigenvector\n",
    "    # correct sign due to squaring\n",
    "    sign = torch.sign(v.dot(scaled_eigenvector))\n",
    "\n",
    "    # TODO: Why we use `norm` instead of `scaled_eigenvector.norm()`?\n",
    "    if which == \"la\":\n",
    "        return torch.log(norm) / TAU, scaled_eigenvector / scaled_eigenvector.norm()\n",
    "    elif which == \"sa\":\n",
    "        return -torch.log(norm) / TAU, scaled_eigenvector / scaled_eigenvector.norm()\n",
    "    elif which == \"lm\":\n",
    "        return sign * torch.sqrt(torch.log(norm) / TAU), scaled_eigenvector / scaled_eigenvector.norm()\n",
    "    elif which == \"sm\":\n",
    "        return sign * torch.sqrt(-torch.log(norm) / TAU), scaled_eigenvector / scaled_eigenvector.norm()\n",
    "\n",
    "#|export\n",
    "def eigs_power_ref(mat, v0=None, which='la', tau=0.01, it_time=2000, tol=1e-14):\n",
    "    \"\"\"\n",
    "    From https://github.com/ranshiju/Python-for-Tensor-Network-Tutorial/blob/4c89b0766159d3495122ec39339e7bd019f10fdf/Library/ExampleFun.py#L4\n",
    "\n",
    "    :param mat: 输入矩阵（实对称阵）\n",
    "    :param v0: 初始化向量，默认值为随机向量\n",
    "    :param which: 计算哪个本征值与本征向量，\n",
    "                  'la'为代数最大，'sa'为代数最小，'lm'为模最大，'sm'为模最小\n",
    "    :param tau: 小的正实数，用以构造投影矩阵\n",
    "    :param it_time: 最大迭代步数\n",
    "    :param tol: 收敛阈值\n",
    "    :return -tc.log(lm)/tau: 代数最大（tau>0）或最小（tau<0）的本征值\n",
    "    :return v1: 对应的本征向量\n",
    "    \"\"\"\n",
    "    tc = torch\n",
    "    # 初始化向量\n",
    "    if v0 is None:\n",
    "        v0 = tc.randn(mat.shape[1], dtype=mat.dtype)\n",
    "        v0 /= v0.norm()\n",
    "    v1 = v0.clone()\n",
    "\n",
    "    # 根据which给出投影矩阵\n",
    "    tau = abs(tau)\n",
    "    if which.lower() == 'la':\n",
    "        rho = tc.matrix_exp(tau * mat)\n",
    "    elif which.lower() == 'sa':\n",
    "        rho = tc.matrix_exp(-tau * mat)\n",
    "    elif which.lower() == 'lm':\n",
    "        rho = tc.matrix_exp(tau * (tc.matrix_power(mat, 2)))\n",
    "    else:  # which.lower() == 'sm'\n",
    "        rho = tc.matrix_exp(-tau * (tc.matrix_power(mat, 2)))\n",
    "\n",
    "    lm = 1\n",
    "    for n in range(it_time):  # 开始循环迭代\n",
    "        v1 = rho.matmul(v0)  # 计算v1 = rho V0\n",
    "        lm = v1.norm()  # 求本征值\n",
    "        v1 /= lm  # 归一化v1\n",
    "        # 判断收敛\n",
    "        conv = (v1 - v0).norm()\n",
    "        if conv < tol:\n",
    "            break\n",
    "        else:\n",
    "            v0 = v1.clone()\n",
    "\n",
    "    # 修正平方带来的符号丢失\n",
    "    v1 = mat.matmul(v0)\n",
    "    sign = tc.sign(v0.dot(v1))\n",
    "\n",
    "    if which.lower() == 'la':\n",
    "        return tc.log(lm)/tau, v1/v1.norm()\n",
    "    elif which.lower() == 'sa':\n",
    "        return -tc.log(lm)/tau, v1/v1.norm()\n",
    "    elif which.lower() == 'lm':\n",
    "        return sign * tc.sqrt(tc.log(lm)/tau), v1/v1.norm()\n",
    "    else:  # which.lower() == 'sm'\n",
    "        return sign * tc.sqrt(-tc.log(lm)/tau), v1/v1.norm()\n"
   ]
  },
  {
   "cell_type": "code",
   "execution_count": 10,
   "id": "c4db30e51b4b9862",
   "metadata": {
    "ExecuteTime": {
     "end_time": "2025-03-19T09:56:59.064994Z",
     "start_time": "2025-03-19T09:56:58.896690Z"
    }
   },
   "outputs": [
    {
     "data": {
      "application/vnd.jupyter.widget-view+json": {
       "model_id": "511b1af299e344b88b29ff8af743de09",
       "version_major": 2,
       "version_minor": 0
      },
      "text/plain": [
       "  0%|          | 0/2000 [00:00<?, ?it/s]"
      ]
     },
     "metadata": {},
     "output_type": "display_data"
    },
    {
     "data": {
      "application/vnd.jupyter.widget-view+json": {
       "model_id": "b0e13b764df74e7587607819915738f7",
       "version_major": 2,
       "version_minor": 0
      },
      "text/plain": [
       "  0%|          | 0/2000 [00:00<?, ?it/s]"
      ]
     },
     "metadata": {},
     "output_type": "display_data"
    },
    {
     "data": {
      "application/vnd.jupyter.widget-view+json": {
       "model_id": "9909f258844f420090e0d049f6a8c348",
       "version_major": 2,
       "version_minor": 0
      },
      "text/plain": [
       "  0%|          | 0/2000 [00:00<?, ?it/s]"
      ]
     },
     "metadata": {},
     "output_type": "display_data"
    },
    {
     "data": {
      "application/vnd.jupyter.widget-view+json": {
       "model_id": "2528ea5262d340458ba0bf1bd80a9e98",
       "version_major": 2,
       "version_minor": 0
      },
      "text/plain": [
       "  0%|          | 0/2000 [00:00<?, ?it/s]"
      ]
     },
     "metadata": {},
     "output_type": "display_data"
    }
   ],
   "source": [
    "for mode in [\"la\", \"sa\", \"lm\", \"sm\"]:\n",
    "    mat = rand_real_symmetric_matrix(8)\n",
    "    eigenvalue, eigenvector = eigs_power(mat, which=mode, v0=v)\n",
    "    eigenvalue_ref, eigenvector_ref = eigs_power_ref(mat, which=mode, v0=v)\n",
    "    assert eigenvalue.allclose(eigenvalue_ref), f\"{mode} eigenvalue error\"\n",
    "    # It's okay if eigenvectors sign is flipped, since $U^\\dagger \\Lambda U = (-U^\\dagger) \\Lambda (-U)$\n",
    "    assert torch.allclose(eigenvector, eigenvector_ref) or torch.allclose(-eigenvector, eigenvector_ref), f\"{mode} eigenvector error, ref: {eigenvector_ref}, mine: {eigenvector}\""
   ]
  }
 ],
 "metadata": {
  "kernelspec": {
   "display_name": "Python 3 (ipykernel)",
   "language": "python",
   "name": "python3"
  },
  "language_info": {
   "codemirror_mode": {
    "name": "ipython",
    "version": 3
   },
   "file_extension": ".py",
   "mimetype": "text/x-python",
   "name": "python",
   "nbconvert_exporter": "python",
   "pygments_lexer": "ipython3",
   "version": "3.12.9"
  }
 },
 "nbformat": 4,
 "nbformat_minor": 5
}
