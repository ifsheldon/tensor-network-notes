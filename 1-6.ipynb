{
 "cells": [
  {
   "cell_type": "code",
   "id": "initial_id",
   "metadata": {
    "collapsed": true,
    "ExecuteTime": {
     "end_time": "2025-03-18T10:18:59.692355Z",
     "start_time": "2025-03-18T10:18:58.724459Z"
    }
   },
   "source": [
    "import torch\n",
    "from tqdm.auto import tqdm\n",
    "import matplotlib.pyplot as plt"
   ],
   "outputs": [],
   "execution_count": 1
  },
  {
   "metadata": {},
   "cell_type": "markdown",
   "source": [
    "# 1.6a: 本征值分解 Eigenvalue Decomposition\n",
    "\n",
    "*   矩阵分解可被简单理解为“在一定约束条件下，将一个矩阵化成多个矩阵乘积的过程”。\n",
    "*   **本征值分解数学形式：** $M = U\\Lambda U^{\\dagger}$ (其中 $\\dagger$ 表示取转置复共轭)，即 $M_{ac} = \\sum_{b} U_{ab}\\Lambda_{bb}U^{*}_{cb}$。\n",
    "*   **约束条件：**（1）变换矩阵的幺正性：$U^{\\dagger}U = UU^{\\dagger} = I$ ；(2) $\\Lambda$为对角矩阵。\n",
    "\n",
    "![eigenvalue-decomposition-tensor-network](images/eigenvalue_decomposition_tensor_network.png)\n",
    "\n",
    "注意对角矩阵用菱形或者实心圆点表示，两条线段其实代表同一个 index\n",
    "\n",
    "## 本征方程的解\n",
    "\n",
    "*   本征值分解给出**本征方程**的解，即归一化向量$v$，满足 $Mv = \\gamma v$\n",
    "*   $U$ 的列向量给出本征方程的解，$\\Lambda$的对角元给出本征值，满足 $MU_{:,n} = \\Lambda_{n,n}U_{:,n}$\n",
    "*   并不是任意矩阵都存在本征值分解！\n",
    "*   厄密矩阵（$M = M^{\\dagger}$）一定存在本征值分解，且本征值为实数。\n",
    "\n",
    "### 本征方程的应用\n",
    "* $M$ 可以是动力学的描述，$v$ 可以是动力学的一个稳定点\n",
    "* $M$ 可以是一个旋转算符，例如旋转 180 度，那么直线可以理解为是这个旋转算符的本征方程的解\n",
    "\n",
    "\n"
   ],
   "id": "36e2fe2d72ef7d1f"
  },
  {
   "metadata": {
    "ExecuteTime": {
     "end_time": "2025-03-18T10:18:59.697059Z",
     "start_time": "2025-03-18T10:18:59.695365Z"
    }
   },
   "cell_type": "code",
   "source": [
    "def rand_hermitian_matrix(dim: int) -> torch.Tensor:\n",
    "    H = torch.randn(dim, dim, dtype=torch.complex64)\n",
    "    H = H + H.conj().t()\n",
    "    return H"
   ],
   "id": "67f51dc08f87f64b",
   "outputs": [],
   "execution_count": 2
  },
  {
   "metadata": {
    "ExecuteTime": {
     "end_time": "2025-03-18T10:18:59.829841Z",
     "start_time": "2025-03-18T10:18:59.825883Z"
    }
   },
   "cell_type": "code",
   "source": [
    "H = rand_hermitian_matrix(3)\n",
    "print(f\"Random Hermitian Matrix:\\n{H}\")\n",
    "\n",
    "# To decompose a *Hermitian* matrix, use the `eigh` function\n",
    "eigenvalues, u = torch.linalg.eigh(H)\n",
    "print(f\"Eigenvalues:\\n{eigenvalues}\")\n",
    "print(f\"EigenVectors:\\n{u}\")\n",
    "\n",
    "reconstructed_H = u @ torch.diag(eigenvalues.to(torch.complex64)) @ u.conj().t()\n",
    "error = (H - reconstructed_H).norm()\n",
    "print(f\"Error:\\n{error}\")"
   ],
   "id": "df8e8173c38e8ed0",
   "outputs": [
    {
     "name": "stdout",
     "output_type": "stream",
     "text": [
      "Random Hermitian Matrix:\n",
      "tensor([[-2.7819+0.0000j,  2.0022-0.0569j,  2.1426+0.0770j],\n",
      "        [ 2.0022+0.0569j, -0.3999+0.0000j, -0.1157+0.1805j],\n",
      "        [ 2.1426-0.0770j, -0.1157-0.1805j, -0.7750+0.0000j]])\n",
      "Eigenvalues:\n",
      "tensor([-4.8606, -0.4902,  1.3940])\n",
      "EigenVectors:\n",
      "tensor([[ 0.8155+0.0000j, -0.0933+0.0000j, -0.5712-0.0000j],\n",
      "        [-0.3775+0.0073j,  0.4377+0.5361j, -0.6104-0.0771j],\n",
      "        [-0.4387-0.0011j, -0.5399-0.4700j, -0.5381+0.0752j]])\n",
      "Error:\n",
      "1.1915864206457627e-06\n"
     ]
    }
   ],
   "execution_count": 3
  },
  {
   "metadata": {
    "ExecuteTime": {
     "end_time": "2025-03-18T10:18:59.839815Z",
     "start_time": "2025-03-18T10:18:59.837867Z"
    }
   },
   "cell_type": "code",
   "source": [
    "N = 1\n",
    "# To test eigenvalue decomposition\n",
    "v1 = eigenvalues[N] * u[:, N]\n",
    "v2 = H @ u[:, N]\n",
    "assert v1.allclose(v2)"
   ],
   "id": "8692a58d6cea4a06",
   "outputs": [],
   "execution_count": 4
  },
  {
   "metadata": {},
   "cell_type": "markdown",
   "source": [
    "## 本征值分解对应的优化问题\n",
    "\n",
    "*   **本征值分解对应的优化问题**：求解归一化向量，满足 $\\max_{|v|=1}(v^\\dagger Mv)$，即\n",
    "    * $v$ 要保证是单位向量，同时最大化 $v^\\dagger Mv$\n",
    "*   上述问题的解为 **M** 的最大本征值对应的 **本征向量**，$v^\\dagger Mv$ 的值给出 **最大本征值** (证明过程可参考中文书1.4节)\n",
    "*   考虑建立如下损失函数：\n",
    "    $L = -\\frac{v^\\dagger Mv}{v^\\dagger v}$\n",
    "    * $v$ 不限制长度，所以要手动归一化\n",
    "*   优化 $v$ 实现 $L$ 的极小化，即可得到 **M** 的最大本征值及对应的本征向量"
   ],
   "id": "85c4b10a28e7e899"
  },
  {
   "metadata": {},
   "cell_type": "markdown",
   "source": "### 证明：TODO",
   "id": "e5a9803c2d8cd15b"
  },
  {
   "metadata": {},
   "cell_type": "markdown",
   "source": "### 优化例子",
   "id": "537e580e54457d5f"
  },
  {
   "metadata": {
    "ExecuteTime": {
     "end_time": "2025-03-18T10:19:01.811972Z",
     "start_time": "2025-03-18T10:18:59.848570Z"
    }
   },
   "cell_type": "code",
   "source": [
    "dim = 8\n",
    "lr = 2e-2\n",
    "it_num = 300\n",
    "\n",
    "# Generate a random real symmetric matrix (subset of Hermitian matrices)\n",
    "mat = torch.randn(dim, dim, dtype=torch.float32)\n",
    "mat = (mat + mat.t()) / 2\n",
    "\n",
    "v = torch.randn(dim, dtype=torch.float32, requires_grad=True)\n",
    "adam = torch.optim.Adam([v], lr=lr)\n",
    "losses = torch.zeros(it_num, dtype=torch.float32)\n",
    "\n",
    "for t in tqdm(range(it_num)):\n",
    "    # left out conjugate since v is real\n",
    "    loss = -torch.einsum(\"a,ab,b\", v, mat, v) / v.dot(v)\n",
    "    loss.backward()\n",
    "    adam.step()\n",
    "    adam.zero_grad()\n",
    "    losses[t] = loss.item()"
   ],
   "id": "697a85c561a5b9f",
   "outputs": [
    {
     "data": {
      "text/plain": [
       "  0%|          | 0/300 [00:00<?, ?it/s]"
      ],
      "application/vnd.jupyter.widget-view+json": {
       "version_major": 2,
       "version_minor": 0,
       "model_id": "9c031109ae934a02b052138f644031bc"
      }
     },
     "metadata": {},
     "output_type": "display_data"
    }
   ],
   "execution_count": 5
  },
  {
   "metadata": {
    "ExecuteTime": {
     "end_time": "2025-03-18T10:19:01.816893Z",
     "start_time": "2025-03-18T10:19:01.814886Z"
    }
   },
   "cell_type": "code",
   "source": [
    "found_max_eigenvalues = -losses\n",
    "ref_eigenvalues = torch.linalg.eigvalsh(mat)\n",
    "ref_max_eigenvalue = ref_eigenvalues.max()"
   ],
   "id": "8e1902bf73764f0c",
   "outputs": [],
   "execution_count": 6
  },
  {
   "metadata": {
    "ExecuteTime": {
     "end_time": "2025-03-18T10:19:01.901030Z",
     "start_time": "2025-03-18T10:19:01.823777Z"
    }
   },
   "cell_type": "code",
   "source": [
    "# plot\n",
    "iterations = range(it_num)\n",
    "fig, ax = plt.subplots()\n",
    "ax.plot(iterations, torch.ones(it_num) * ref_max_eigenvalue, linestyle=\"--\", label=\"Reference\")\n",
    "ax.plot(iterations, found_max_eigenvalues, linestyle=\"-.\", label=\"Found\")\n",
    "ax.set_xlabel(\"Iterations\")\n",
    "ax.set_ylabel(\"Eigenvalues\")\n",
    "ax.legend()"
   ],
   "id": "ac52d11a3b0f6e",
   "outputs": [
    {
     "data": {
      "text/plain": [
       "<matplotlib.legend.Legend at 0x138418110>"
      ]
     },
     "execution_count": 7,
     "metadata": {},
     "output_type": "execute_result"
    },
    {
     "data": {
      "text/plain": [
       "<Figure size 640x480 with 1 Axes>"
      ],
      "image/png": "[encoded data removed]"
     },
     "metadata": {},
     "output_type": "display_data"
    }
   ],
   "execution_count": 7
  },
  {
   "metadata": {},
   "cell_type": "markdown",
   "source": [
    "### 任意线性映射的本征值分解\n",
    "\n",
    "*   **任何线性映射**均可定义本征方程\n",
    "    $f(v) = \\gamma v$\n",
    "*   使用scipy中的**线性算子 (LinearOperator)** 求解；\n",
    "*   该方法对于复杂线性映射的处理十分有用，比如说一些线性映射的参数很少，但是如果写矩阵 $M$ 出来的话很麻烦或者很大，那么可以直接用线性算子来进行计算"
   ],
   "id": "b44e40ce622fce7"
  },
  {
   "metadata": {
    "ExecuteTime": {
     "end_time": "2025-03-18T10:19:02.188793Z",
     "start_time": "2025-03-18T10:19:01.919056Z"
    }
   },
   "cell_type": "code",
   "source": [
    "from scipy.sparse.linalg import eigsh, LinearOperator\n",
    "\n",
    "dim = 8\n",
    "# M is a sparse real symmetric matrix, representing a linear map that has a few parameters compared to the size of the matrix\n",
    "M = torch.eye(dim, dtype=torch.float32)\n",
    "M[0, 7] = 1.\n",
    "M[7, 0] = 1.\n",
    "\n",
    "# Get the max eigenvalue with PyTorch\n",
    "eigenvalues = torch.linalg.eigvalsh(M)\n",
    "max_eigenvalue_torch = eigenvalues.max()\n",
    "\n",
    "# Get the max eigenvalue with scipy\n",
    "M_scipy = M.numpy()\n",
    "eigenvalues, _ = eigsh(M_scipy, k=1, which=\"LA\")\n",
    "max_eigenvalue_scipy = eigenvalues[0]\n",
    "\n",
    "# Get the max eigenvalue with LinearOperator\n",
    "M2 = LinearOperator(shape=M_scipy.shape, matvec=lambda v: M_scipy @ v)\n",
    "eigenvalues, _ = eigsh(M2, k=1, which=\"LA\")\n",
    "max_eigenvalue_linear_operator = eigenvalues[0]\n",
    "\n",
    "print(f\"torch: {max_eigenvalue_torch}, scipy: {max_eigenvalue_scipy}, LinearOperator: {max_eigenvalue_linear_operator}\")"
   ],
   "id": "4801bc93f1895b7a",
   "outputs": [
    {
     "name": "stdout",
     "output_type": "stream",
     "text": [
      "torch: 2.0, scipy: 2.0, LinearOperator: 2.0\n"
     ]
    }
   ],
   "execution_count": 8
  }
 ],
 "metadata": {
  "kernelspec": {
   "display_name": "Python 3",
   "language": "python",
   "name": "python3"
  },
  "language_info": {
   "codemirror_mode": {
    "name": "ipython",
    "version": 2
   },
   "file_extension": ".py",
   "mimetype": "text/x-python",
   "name": "python",
   "nbconvert_exporter": "python",
   "pygments_lexer": "ipython2",
   "version": "2.7.6"
  }
 },
 "nbformat": 4,
 "nbformat_minor": 5
}
