{
 "cells": [
  {
   "cell_type": "markdown",
   "metadata": {},
   "source": [
    "# 3.8: 量子多体系统时演化的最优调控\n",
    "\n",
    "超导等量子计算机的底层物理原理：受控量子动力学\n",
    "\n",
    "## 哈密顿量 Hamiltonian\n",
    "\n",
    "> 涉及到量子哈密顿量的概念，可以看 [2.8节的笔记](./2-8.ipynb)\n",
    "\n",
    "哈密顿量决定量子态的演化，方程为\n",
    "\n",
    "$|\\varphi(T)\\rangle = e^{-i\\int_0^T \\hat{H}(t)dt}|\\varphi_0\\rangle$\n",
    "\n",
    "其中$\\hat{H}(t)$为$t$时刻哈密顿量，$|\\varphi_0\\rangle$为量子初态，$|\\varphi(T)\\rangle$为演化$T$时间后的末态，$T$为时间演化总时长。\n",
    "\n",
    "### Trotter-Suzuki 分解\n",
    "\n",
    " $$\n",
    " e^{-i\\int_0^T \\hat{H}(t)dt} \\approx \\prod_{k=0}^{K-1}e^{-i\\tau\\hat{H}(t_k)}\n",
    " $$\n",
    "\n",
    " > 简化版推导：\n",
    " > 1. 积分改求和，引入时间片 $\\tau$\n",
    " > 2. 指数上的求和变成连乘\n",
    " > \n",
    " > 详细推导：TODO，看书 3.8 节\n",
    "\n",
    "#### 例子\n",
    "以 6 个自旋的 XY（一维）模型为例，其哈密顿量为：\n",
    "\n",
    "$$\n",
    "\\hat{H}(t) = \\frac{1}{4}\\sum_{n=0}^{4}(\\hat{\\sigma}_n^x\\hat{\\sigma}_{n+1}^x + \\hat{\\sigma}_n^y\\hat{\\sigma}_{n+1}^y) + \\frac{1}{2}\\sum_{n=0}^{5}h_n^x(t)\\hat{\\sigma}_n^x + \\frac{1}{2}\\sum_{n=0}^{5}h_n^z(t)\\hat{\\sigma}_n^z\n",
    "$$\n",
    "\n",
    "> 第一个 $\\sum$ 项为耦合（相互作用）项，不含时间参数；第二个 $\\sum$ 项是 x 方向的磁场项，第三个 $\\sum$ 项是 z 方向的磁场项\n",
    "> \n",
    "> 第一个 $\\sum$ 项里没有变分参数，是两个泡利 x/y 门外积得到的双体门\n",
    ">\n",
    "> 磁场 $h_n^+(t)$ 与 $h_n^-(t)$ 为哈密顿量 $\\hat{H}(t)$ 的\"变分参数\"\n",
    "> \n",
    "> $\\frac{1}{4}$ 和 $\\frac{1}{2}$ 是因为泡利算符和自旋相差 $\\frac{1}{2}$\n",
    "\n",
    "把 $\\hat{H}(t)$ 代入到 Trotter-Suzuki 分解里，得到\n",
    "\n",
    "$$\n",
    "e^{-i\\tau\\hat{H}(t_k)} = \\prod_n e^{-\\frac{i\\tau}{4}(\\hat{\\sigma}_n^x\\hat{\\sigma}_{n+1}^x+\\hat{\\sigma}_n^y\\hat{\\sigma}_{n+1}^y)} \\prod_n e^{-\\frac{i\\tau}{2}(h_{n,k}^x\\hat{\\sigma}_n^x+h_{n,k}^z\\hat{\\sigma}_n^z)} + O(\\tau^2)\n",
    "$$\n",
    "其中：\n",
    "* $\\hat{U}_{n,n+1} = e^{-\\frac{i\\tau}{4}(\\hat{\\sigma}^x_n\\hat{\\sigma}^x_{n+1}+\\hat{\\sigma}^y_n\\hat{\\sigma}^y_{n+1})}$ 是作用到第n与n+1个自旋的二体算符\n",
    "    * 没有变分参数\n",
    "* $\\hat{V}_n = e^{-\\frac{it}{2}(h_{n,k}^x\\hat{\\sigma}_n^x+h_{n,k}^z\\hat{\\sigma}_n^z)}$ 是作用到第n个自旋的单体算符\n",
    "    * 有变分参数\n",
    "    * 可以看做为量子门的一种特殊的参数化形式\n",
    "* $O(\\tau^2)$ 是误差项，适用 Big-O Notation\n",
    "\n",
    "上面的公式可以用下面的量子线路实现\n",
    "![time-evolution-example](./images/time_evolution_example.png)\n",
    "\n",
    "> 每层的结构可以不同，但是误差都是 $O(\\tau^2)$，叫 Trotter 误差\n"
   ]
  },
  {
   "cell_type": "markdown",
   "metadata": {},
   "source": [
    "## Code"
   ]
  },
  {
   "cell_type": "code",
   "execution_count": 1,
   "metadata": {},
   "outputs": [],
   "source": [
    "# |default_exp networks.time_evolution\n",
    "# |export\n",
    "\n",
    "import torch\n",
    "from einops import einsum\n",
    "from torch import nn"
   ]
  },
  {
   "cell_type": "markdown",
   "metadata": {},
   "source": [
    "### Utils"
   ]
  },
  {
   "cell_type": "markdown",
   "metadata": {},
   "source": [
    "#### Gate Outer Product"
   ]
  },
  {
   "cell_type": "code",
   "execution_count": 2,
   "metadata": {},
   "outputs": [],
   "source": [
    "# |export tensor_gates.functional\n",
    "from einops import rearrange\n",
    "from tensor_network.utils import check_quantum_gate\n",
    "\n",
    "\n",
    "def gate_outer_product(*gates: torch.Tensor, matrix_form: bool = False) -> torch.Tensor:\n",
    "    \"\"\"\n",
    "    Outer product of multiple quantum gates. This only deals with the case where the target qubits of gates are disjoint.\n",
    "    Args:\n",
    "        *gates: The quantum gates to be cross-multiplied.\n",
    "        matrix_form: Whether the quantum gates are in matrix form.\n",
    "    Returns:\n",
    "        The cross product of the quantum gates.\n",
    "    \"\"\"\n",
    "    gates_num = len(gates)\n",
    "    assert gates_num >= 2, \"at least 2 gates\"\n",
    "    num_qubits = [check_quantum_gate(gate) for gate in gates]\n",
    "    gate_tensors = []\n",
    "    for i, gate in enumerate(gates):\n",
    "        if gate.ndim == 2 and gate.shape[0] == gate.shape[1]:  # if gate is in matrix form\n",
    "            gate_tensors.append(gate.reshape([2] * (num_qubits[i] * 2)))\n",
    "        else:\n",
    "            gate_tensors.append(gate)\n",
    "    gate_dim_names = []\n",
    "    for i in range(gates_num):\n",
    "        num_qubits_of_gate_i = num_qubits[i]\n",
    "        gate_dim_names.append(\n",
    "            {\n",
    "                \"left_dim_names\": [f\"g{i}l{j}\" for j in range(num_qubits_of_gate_i)],\n",
    "                \"right_dim_names\": [f\"g{i}r{j}\" for j in range(num_qubits_of_gate_i)],\n",
    "            }\n",
    "        )\n",
    "\n",
    "    input_subexpressions = []\n",
    "    for gate_dim_info in gate_dim_names:\n",
    "        input_subexp = \" \".join(gate_dim_info[\"left_dim_names\"] + gate_dim_info[\"right_dim_names\"])\n",
    "        input_subexpressions.append(input_subexp)\n",
    "    input_expression = \",\".join(input_subexpressions)\n",
    "\n",
    "    output_subexpressions = []\n",
    "    for gate_dim_info in gate_dim_names:\n",
    "        output_subexpressions.extend(gate_dim_info[\"left_dim_names\"])\n",
    "    for gate_dim_info in gate_dim_names:\n",
    "        output_subexpressions.extend(gate_dim_info[\"right_dim_names\"])\n",
    "    output_expression = \" \".join(output_subexpressions)\n",
    "\n",
    "    einsum_expression = f\"{input_expression} -> {output_expression}\"\n",
    "    gate_product = einsum(*gate_tensors, einsum_expression)\n",
    "\n",
    "    if matrix_form:\n",
    "        output_left_dim_num = len(output_subexpressions) // 2\n",
    "        left_exp = \" \".join(output_subexpressions[:output_left_dim_num])\n",
    "        right_exp = \" \".join(output_subexpressions[output_left_dim_num:])\n",
    "        gate_product = rearrange(gate_product, f\"{output_expression} -> ({left_exp}) ({right_exp})\")\n",
    "    return gate_product"
   ]
  },
  {
   "cell_type": "code",
   "execution_count": 3,
   "metadata": {},
   "outputs": [],
   "source": [
    "# test gate_cross_product\n",
    "\n",
    "\n",
    "def rand_gate_tensor(n: int):\n",
    "    return torch.randn(*([2] * (n * 2)), dtype=torch.complex64)\n",
    "\n",
    "\n",
    "for i in range(1, 5):\n",
    "    gate1 = rand_gate_tensor(i)\n",
    "    gate1_mat = gate1.reshape(2**i, 2**i)\n",
    "    for j in range(1, 5):\n",
    "        gate2 = rand_gate_tensor(j)\n",
    "        gate2_mat = gate2.reshape(2**j, 2**j)\n",
    "        kron12 = torch.kron(gate1_mat, gate2_mat)\n",
    "        for l in range(1, 5):\n",
    "            gate3 = rand_gate_tensor(l)\n",
    "            gate3_mat = gate3.reshape(2**l, 2**l)\n",
    "\n",
    "            product_mat_ref = torch.kron(kron12, gate3_mat)\n",
    "            product_mat1 = gate_outer_product(gate1, gate2, gate3, matrix_form=True)\n",
    "\n",
    "            assert torch.allclose(product_mat_ref, product_mat1), (\n",
    "                f\"{i=},{j=}\\n {product_mat_ref} \\n{product_mat1}\"\n",
    "            )\n",
    "            product = gate_outer_product(gate1, gate2, gate3, matrix_form=False)\n",
    "            product_mat2 = product.reshape(2 ** (i + j + l), 2 ** (i + j + l))\n",
    "            assert torch.allclose(product_mat_ref, product_mat2), (\n",
    "                f\"{i=},{j=}\\n {product_mat_ref} \\n{product_mat2}\"\n",
    "            )"
   ]
  },
  {
   "cell_type": "markdown",
   "metadata": {},
   "source": [
    "#### Spin Operator"
   ]
  },
  {
   "cell_type": "code",
   "execution_count": null,
   "metadata": {},
   "outputs": [],
   "source": [
    "from tensor_network.tensor_gates.functional import pauli_operator\n",
    "from typing import Literal"
   ]
  },
  {
   "cell_type": "code",
   "execution_count": 4,
   "metadata": {},
   "outputs": [],
   "source": [
    "# |export tensor_gates.functional\n",
    "\n",
    "\n",
    "def spin_operator(direction: Literal[\"X\", \"Y\", \"Z\", \"ID\"]):\n",
    "    \"\"\"\n",
    "    Return the spin operator for the given direction.\n",
    "    Args:\n",
    "        direction: The direction of the spin operator. Can be \"X\", \"Y\", \"Z\", or \"ID\".\n",
    "    Returns:\n",
    "        The spin operator for the given direction.\n",
    "    \"\"\"\n",
    "    assert direction in [\"X\", \"Y\", \"Z\", \"ID\"], \"direction must be one of X, Y, Z, ID\"\n",
    "    if direction == \"ID\":\n",
    "        return pauli_operator(pauli=\"ID\")\n",
    "    return pauli_operator(pauli=direction) / 2"
   ]
  },
  {
   "cell_type": "markdown",
   "metadata": {},
   "source": [
    "### Time Evolution Module"
   ]
  },
  {
   "cell_type": "code",
   "execution_count": 5,
   "metadata": {},
   "outputs": [],
   "source": [
    "# |export\n",
    "from torch import Tensor\n",
    "from tensor_network.networks.adqc import ADQCNet\n",
    "from tensor_network.tensor_gates.modules import QuantumGate\n",
    "from typing import Set, Literal\n",
    "from tensor_network.tensor_gates.functional import spin_operator\n",
    "\n",
    "\n",
    "class PolarizationGate(QuantumGate):\n",
    "    \"\"\"\n",
    "    A gate that applies a magnetic field to polarize a qubit.\n",
    "    \"\"\"\n",
    "\n",
    "    def __init__(\n",
    "        self,\n",
    "        *,\n",
    "        batched_input: bool,\n",
    "        time_slice: float,\n",
    "        target_qubit: int,\n",
    "        h_directions: Set[Literal[\"x\", \"y\", \"z\"]],\n",
    "    ):\n",
    "        \"\"\"\n",
    "        Initialize the PolarizationGate.\n",
    "\n",
    "        Args:\n",
    "            batched_input: Whether the input is batched.\n",
    "            time_slice: The time slice width of the gate.\n",
    "            target_qubit: The target qubit of the gate.\n",
    "            h_directions: The directions of the spin operator.\n",
    "        \"\"\"\n",
    "        assert isinstance(h_directions, set), \"h_directions must be a list\"\n",
    "        assert 3 >= len(h_directions) > 0, \"h_directions must be a non-empty set\"\n",
    "        assert all(direction in [\"x\", \"y\", \"z\"] for direction in h_directions), (\n",
    "            \"h_directions must contain only x, y, z\"\n",
    "        )\n",
    "        assert time_slice > 0, \"time_slice must be greater than 0\"\n",
    "        assert target_qubit >= 0, \"target_qubit must be greater than or equal to 0\"\n",
    "        parameters = nn.ParameterDict(\n",
    "            {\n",
    "                direction: nn.Parameter(torch.randn(1), requires_grad=True)\n",
    "                for direction in h_directions\n",
    "            }\n",
    "        )\n",
    "\n",
    "        super().__init__(\n",
    "            batched_input=batched_input,\n",
    "            gate_params=parameters,\n",
    "            requires_grad=True,\n",
    "            target_qubit=target_qubit,\n",
    "        )\n",
    "        self.spin = nn.ParameterDict(\n",
    "            {\n",
    "                \"x\": nn.Parameter(spin_operator(\"X\"), requires_grad=False),\n",
    "                \"y\": nn.Parameter(spin_operator(\"Y\"), requires_grad=False),\n",
    "                \"z\": nn.Parameter(spin_operator(\"Z\"), requires_grad=False),\n",
    "            }\n",
    "        )\n",
    "        self.time_slice = time_slice\n",
    "        self.h_directions = h_directions\n",
    "\n",
    "    def forward(self, tensor: Tensor) -> Tensor:\n",
    "        spin_matrix = 0\n",
    "        for direction in self.h_directions:\n",
    "            spin_matrix += self.gate_params[direction] * self.spin[direction]\n",
    "\n",
    "        gate = torch.matrix_exp(-1j * self.time_slice * spin_matrix)\n",
    "        return self.apply_gate(\n",
    "            tensor=tensor,\n",
    "            gate=gate,\n",
    "            target_qubit=self.target_qubit,\n",
    "        )\n",
    "\n",
    "\n",
    "class ADQCTimeEvolution(nn.Module):\n",
    "    def __init__(\n",
    "        self,\n",
    "        hamiltonian: torch.Tensor,\n",
    "        num_qubits: int,\n",
    "        time_steps: int,\n",
    "        time_slice: float,\n",
    "        h_directions: Set[Literal[\"x\", \"y\", \"z\"]],\n",
    "    ):\n",
    "        super().__init__()\n",
    "        assert hamiltonian.shape == (4, 4) or hamiltonian.shape == (2, 2, 2, 2), (\n",
    "            \"Hamiltonian must be a 4x4 matrix or 2x2x2x2 tensor\"\n",
    "        )\n",
    "        if hamiltonian.shape == (2, 2, 2, 2):\n",
    "            hamiltonian = hamiltonian.reshape(4, 4)\n",
    "        assert num_qubits > 0, \"Number of qubits must be greater than 0\"\n",
    "        assert time_steps > 0, \"Time steps must be greater than 0\"\n",
    "        assert time_slice > 0, \"Time slice must be greater than 0\"\n",
    "        U = torch.matrix_exp(-1j * time_slice * hamiltonian).reshape(2, 2, 2, 2)\n",
    "        per_layer_gate_pattern = ADQCNet.calc_gate_target_qubit_positions(\n",
    "            gate_pattern=\"brick\", num_qubits=num_qubits\n",
    "        )\n",
    "        gates = []\n",
    "        for _ in range(time_steps):\n",
    "            # gates for coupling\n",
    "            for position in per_layer_gate_pattern:\n",
    "                gates.append(\n",
    "                    QuantumGate(\n",
    "                        batched_input=False,\n",
    "                        gate_name=\"coupling\",\n",
    "                        target_qubit=list(position),\n",
    "                        gate=U,\n",
    "                        requires_grad=False,\n",
    "                    )\n",
    "                )\n",
    "            # gates for polarization\n",
    "            for qubit_idx in range(num_qubits):\n",
    "                gates.append(\n",
    "                    PolarizationGate(\n",
    "                        batched_input=False,\n",
    "                        time_slice=time_slice,\n",
    "                        target_qubit=qubit_idx,\n",
    "                        h_directions=h_directions,\n",
    "                    )\n",
    "                )\n",
    "\n",
    "        self.net = nn.Sequential(*gates)\n",
    "\n",
    "    def forward(self, tensor: Tensor) -> Tensor:\n",
    "        return self.net(tensor)"
   ]
  },
  {
   "cell_type": "markdown",
   "metadata": {},
   "source": [
    "### Training"
   ]
  },
  {
   "cell_type": "code",
   "execution_count": 6,
   "metadata": {},
   "outputs": [
    {
     "name": "stdout",
     "output_type": "stream",
     "text": [
      "From setup_ref_code_import:\n",
      "  Added reference_code_path='/Users/zhiqiu/offline_code/personal/tensor_network/reference_code' to sys.path.\n",
      "  You can import the reference code now.\n"
     ]
    }
   ],
   "source": [
    "from tensor_network import setup_ref_code_import\n",
    "from Library.Hamiltonians import heisenberg\n",
    "from Library.ED import ED_ground_state\n",
    "from torch.optim import Adam\n",
    "from tensor_network.tensor_utils import zeros_state\n",
    "from tqdm.auto import tqdm\n",
    "from matplotlib import pyplot as plt"
   ]
  },
  {
   "cell_type": "markdown",
   "metadata": {},
   "source": [
    "#### Hyperparameters"
   ]
  },
  {
   "cell_type": "code",
   "execution_count": 7,
   "metadata": {},
   "outputs": [],
   "source": [
    "num_qubits = 6  # 自旋个数\n",
    "time_slice = 0.02  # Trotter切片宽度\n",
    "num_slice = 50  # 切片次数\n",
    "h_directions = set([\"x\", \"z\"])  # 磁场方向限制为x与z方向，y方向磁场为0\n",
    "device = torch.device(\"cpu\")\n",
    "lr = 1e-1\n",
    "it_time = 600"
   ]
  },
  {
   "cell_type": "markdown",
   "metadata": {},
   "source": [
    "#### Get Target State"
   ]
  },
  {
   "cell_type": "code",
   "execution_count": 8,
   "metadata": {},
   "outputs": [],
   "source": [
    "J_target = [1, 1, 1]  # 制备该哈密顿量（海森堡模型）基态\n",
    "hamilt_t = heisenberg(J_target[0], J_target[1], J_target[2])\n",
    "pos = [[n, n + 1] for n in range(num_qubits - 1)]\n",
    "psi_target = ED_ground_state(hamilt_t.reshape(2, 2, 2, 2), pos)[1]\n",
    "psi_target = torch.from_numpy(psi_target).flatten().to(device=device, dtype=torch.complex128)\n",
    "target_state = psi_target.reshape([2] * num_qubits)\n",
    "# TODO: check function `heisenberg` and `ED_ground_state`"
   ]
  },
  {
   "cell_type": "markdown",
   "metadata": {},
   "source": [
    "#### Init Circuit"
   ]
  },
  {
   "cell_type": "code",
   "execution_count": 9,
   "metadata": {},
   "outputs": [],
   "source": [
    "spin_x = spin_operator(\"X\")\n",
    "spin_y = spin_operator(\"Y\")\n",
    "hamilt = gate_outer_product(spin_x, spin_x) + gate_outer_product(spin_y, spin_y)"
   ]
  },
  {
   "cell_type": "code",
   "execution_count": 10,
   "metadata": {},
   "outputs": [],
   "source": [
    "quantum_circuit = ADQCTimeEvolution(\n",
    "    hamiltonian=hamilt,\n",
    "    num_qubits=num_qubits,\n",
    "    time_steps=num_slice,\n",
    "    time_slice=time_slice,\n",
    "    h_directions=h_directions,\n",
    ").to(device=device)"
   ]
  },
  {
   "cell_type": "markdown",
   "metadata": {},
   "source": [
    "#### Train"
   ]
  },
  {
   "cell_type": "code",
   "execution_count": 11,
   "metadata": {},
   "outputs": [],
   "source": [
    "optimizer = Adam(quantum_circuit.parameters(), lr=lr)"
   ]
  },
  {
   "cell_type": "code",
   "execution_count": 12,
   "metadata": {},
   "outputs": [
    {
     "data": {
      "application/vnd.jupyter.widget-view+json": {
       "model_id": "3441ccf9b66e4954a855d2a8b590d859",
       "version_major": 2,
       "version_minor": 0
      },
      "text/plain": [
       "  0%|          | 0/600 [00:00<?, ?it/s]"
      ]
     },
     "metadata": {},
     "output_type": "display_data"
    }
   ],
   "source": [
    "losses = torch.empty(it_time)\n",
    "init_state = zeros_state(num_qubits=num_qubits, dtype=target_state.dtype).to(device=device)\n",
    "\n",
    "progress_bar = tqdm(range(it_time))\n",
    "\n",
    "for t in progress_bar:\n",
    "    state = quantum_circuit(init_state)\n",
    "    loss = 1 - (state * target_state.conj()).sum().norm()\n",
    "    l = loss.detach().cpu()\n",
    "    loss.backward()\n",
    "    optimizer.step()\n",
    "    optimizer.zero_grad()\n",
    "    losses[t] = l\n",
    "    progress_bar.set_description(f\"Loss: {l:.4f}\")"
   ]
  },
  {
   "cell_type": "code",
   "execution_count": 13,
   "metadata": {},
   "outputs": [
    {
     "data": {
      "image/png": "[encoded data removed]",
      "text/plain": [
       "<Figure size 640x480 with 1 Axes>"
      ]
     },
     "metadata": {},
     "output_type": "display_data"
    }
   ],
   "source": [
    "plt.plot(losses)\n",
    "plt.show()"
   ]
  }
 ],
 "metadata": {
  "kernelspec": {
   "display_name": ".venv",
   "language": "python",
   "name": "python3"
  },
  "language_info": {
   "codemirror_mode": {
    "name": "ipython",
    "version": 3
   },
   "file_extension": ".py",
   "mimetype": "text/x-python",
   "name": "python",
   "nbconvert_exporter": "python",
   "pygments_lexer": "ipython3",
   "version": "3.12.9"
  }
 },
 "nbformat": 4,
 "nbformat_minor": 2
}
