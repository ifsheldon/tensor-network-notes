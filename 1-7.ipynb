{
 "cells": [
  {
   "cell_type": "markdown",
   "id": "3c74e0cf468bfa3d",
   "metadata": {},
   "source": [
    "# 1.7: 奇异值分解 Singular Value Decomposition\n",
    "\n",
    "*   **奇异值分解数学形式**:  $M = U \\Lambda V^{\\dagger}$, 即 $M_{ac} = \\sum_b U_{ab} \\Lambda_{bb} V^*_{cb}$\n",
    "*   **约束条件**:\n",
    "    1. 变换矩阵由奇异向量构成，具有幺正性：$U^{\\dagger} U = I$,  $V^{\\dagger} V = I$ ;\n",
    "    2. $\\Lambda$ 被称为奇异谱，为非负对角矩阵，对角元被称为奇异值，规定需降序排列。\n",
    "*   非零对角元个数给出矩阵的(rank)\n",
    "\n",
    "对比本征值分解：$M = U\\Lambda U^{\\dagger}$\n",
    "\n",
    "奇异值分解之后可以用来做低秩近似，也就是\n",
    "$\\text{min}_{\\text{rank}(\\tilde{M})=\\tilde{r}} |M-\\tilde{M}|\\ \\text{where}\\ \\tilde{r} < r$\n",
    "\n",
    "一般情况下，任意矩阵的奇异值分解是唯一的，但是对于复数的情况，我们需要引入额外条件来确保分解的唯一性。\n",
    "\n",
    "> 当矩阵存在奇异值分解 $M = U \\Lambda V^{\\dagger}$ 时，我们可以定义 $\\tilde{U} = i U$, $\\tilde{V} = -i V$ 同样也可以满足奇异值分解的条件。\n",
    "> \n",
    "> 别的条件例如：我们可以要求 $U$ 的实部最大化"
   ]
  },
  {
   "cell_type": "markdown",
   "id": "76c6993c31dfb776",
   "metadata": {},
   "source": [
    "## 本征值分解与奇异值分解的联系\n",
    "\n",
    "本征值分解与奇异值分解可通过约化矩阵(reduced matrix)联系起来\n",
    "\n",
    "定义任意张量的约化矩阵：对于 $N$ 阶张量 $T_{i_0i_1...i_{N-1}}$，关于部分指标$(i_a,i_b,...)$的约化矩阵定义为\n",
    "\n",
    "$B \\stackrel{def}{=} T_{[i_ai_b...]}T_{[i_ai_b...]}^{\\dagger}$\n",
    "\n",
    "> 注意，这里用到了上文介绍的张量矩阵化表示，等式右边对矩阵化后的矩阵做矩阵乘运算。以4阶张量 $T_{i_0i_1i_2i_3}$ 为例，关于指标的$(i_0,i_3)$的约化矩阵为 $B=\\hat{B}_{i_0i_3}$，其中张量 $\\hat{B}$ 满足 \n",
    "> \n",
    "> $\\hat{B}_{i_0i_3i'_0i'_3} \\stackrel{def}{=} \\sum_{i_1i_2} T_{i_0i_1i_2i_3}T^*_{i'_0i_1i_2i'_3}$\n",
    "> \n",
    "> 约化密度矩阵详情可以看 [2-6.ipynb](.2-6.ipynb)\n",
    "\n",
    "对于任意矩阵 $M$，将其奇异值分解记为 $M=U\\Lambda V^{\\dagger}$，则:\n",
    "* 其左约化矩阵 $M^L \\stackrel{def}{=} MM^{\\dagger}$ 有本征值分解 $M^L=U\\Lambda^2U^{\\dagger}$\n",
    "* 右约化矩阵 $M^R \\stackrel{def}{=} M^{\\dagger}M$ 有本征值分解 $M^R=V\\Lambda^2V^{\\dagger}$\n",
    "\n",
    "> 通过将奇异值分解式代入约化矩阵的定义即可证明上述二式，例如 $M^L=MM^{\\dagger}=U\\Lambda V^{\\dagger}(U\\Lambda V^{\\dagger})^{\\dagger}=U\\Lambda V^{\\dagger}V\\Lambda U^{\\dagger}=U\\Lambda^2U^{\\dagger}$，这里用到了 $V$ 的幺正性。\n",
    "\n",
    "通过上述推导，我们可以得到几个有用的结论：\n",
    "* 约化矩阵一定存在本征值分解，因为约化矩阵是厄米矩阵，即 $M^L=(M^L)^{\\dagger}$，$M^R=(M^R)^{\\dagger}$，且厄米矩阵一定存在本征值分解\n",
    "* 约化矩阵的本征值一定是非负实数\n",
    "* 可以通过计算约化矩阵的本征值分解来得到原矩阵的奇异谱和奇异向量\n",
    "\n"
   ]
  }
 ],
 "metadata": {
  "kernelspec": {
   "display_name": "Python 3",
   "language": "python",
   "name": "python3"
  },
  "language_info": {
   "codemirror_mode": {
    "name": "ipython",
    "version": 2
   },
   "file_extension": ".py",
   "mimetype": "text/x-python",
   "name": "python",
   "nbconvert_exporter": "python",
   "pygments_lexer": "ipython2",
   "version": "2.7.6"
  }
 },
 "nbformat": 4,
 "nbformat_minor": 5
}
