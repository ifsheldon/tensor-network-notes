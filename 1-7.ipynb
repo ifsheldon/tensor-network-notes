{
 "cells": [
  {
   "metadata": {},
   "cell_type": "markdown",
   "source": [
    "# 1.7: 奇异值分解 Singular Value Decomposition\n",
    "\n",
    "*   **奇异值分解数学形式**:  $M = U \\Lambda V^{\\dagger}$, 即 $M_{ac} = \\sum_b U_{ab} \\Lambda_{bb} V^*_{cb}$\n",
    "*   **约束条件**:\n",
    "    1. 变换矩阵由奇异向量构成，具有幺正性：$U^{\\dagger} U = I$,  $V^{\\dagger} V = I$ ;\n",
    "    2. $\\Lambda$ 被称为奇异谱，为非负对角矩阵，对角元被称为奇异值，规定需降序排列。\n",
    "*   非零对角元个数给出矩阵的(rank)\n",
    "\n",
    "对比本征值分解：$M = U\\Lambda U^{\\dagger}$\n",
    "\n",
    "奇异值分解之后可以用来做低秩近似，也就是\n",
    "$\\text{min}_{\\text{rank}(\\tilde{M})=\\tilde{r}} |M-\\tilde{M}|\\ \\text{where}\\ \\tilde{r} < r$\n"
   ],
   "id": "3c74e0cf468bfa3d"
  },
  {
   "metadata": {},
   "cell_type": "markdown",
   "source": "TODO: 看书 1.5",
   "id": "76c6993c31dfb776"
  }
 ],
 "metadata": {
  "kernelspec": {
   "display_name": "Python 3",
   "language": "python",
   "name": "python3"
  },
  "language_info": {
   "codemirror_mode": {
    "name": "ipython",
    "version": 2
   },
   "file_extension": ".py",
   "mimetype": "text/x-python",
   "name": "python",
   "nbconvert_exporter": "python",
   "pygments_lexer": "ipython2",
   "version": "2.7.6"
  }
 },
 "nbformat": 4,
 "nbformat_minor": 5
}
