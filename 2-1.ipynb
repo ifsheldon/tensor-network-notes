{
 "cells": [
  {
   "cell_type": "markdown",
   "metadata": {},
   "source": [
    "# 单比特量子态\n",
    "\n",
    "* 经典比特位：取0或1的标量\n",
    "    * 也可以理解为二维的 one-hot 向量\n",
    "* 量子比特位 (qubit)：又称量子比特或量子位，对应的物理模型被称为自旋 (spin)，可看作是一个模长为1的二维（复）向量\n",
    "* 量子力学中的狄拉克符号系统：将量子态表示为竖线 \"|\" 加\"字母\"加右尖括号 \">\" 的形式，例如 $|\\varphi\\rangle$\n",
    "* 左矢量子态（原量子态右矢的对偶，可理解为转置复共轭）： $\\langle\\varphi| = (|\\varphi\\rangle)^\\dagger$"
   ]
  },
  {
   "cell_type": "markdown",
   "metadata": {},
   "source": [
    "## 量子希尔伯特空间 Quantum Hilbert Space\n",
    "\n",
    "### 基底 Basis\n",
    "\n",
    "对于向量空间，任意一个$D$维向量$v$可用$D$维空间的一组完备基底$\\{e^{(s)}\\}$ $(s=0,...,D-1)$ 进行展开：$v=\\sum_{s=0}^{D-1} v_s e^{(s)}$\n",
    "\n",
    "> 例：三维向量空间的完备基底可选为$e^{(0)}=[1,0,0]$，$e^{(1)}=[0,1,0]$，$e^{(2)}=[0,0,1]$，则有 $[-1,0.3,0.1]=-1\\times e^{(0)}+0.3\\times e^{(1)}+0.1\\times e^{(2)}$\n",
    "\n",
    "量子希尔伯特空间的基底由量子态构成，记为$\\{|s\\rangle\\}$，设其满足正交归一性，由基底量子态与其对偶的内积定义：\n",
    "\n",
    "$\\langle s|s'\\rangle=I_{ss'}=\\begin{cases}1,\\quad 当s=s'\\\\0,\\quad 当s\\neq s'\\end{cases}$\n",
    "\n",
    "量子态在给定基底下的展开形式，$\\varphi$ 被称为量子态系数：\n",
    "\n",
    "> 例：单量子比特的量子态 $|\\varphi\\rangle = \\sum_{s=0,1} \\varphi_s|s\\rangle = \\varphi_0|0\\rangle + \\varphi_1|1\\rangle$\n",
    "\n",
    "$|\\varphi\\rangle$ 指的是量子态，而 $\\varphi$ 指的是这个量子态的量子态系数的向量（w.r.t 某个基底）\n",
    "\n",
    "### 量子态内积\n",
    "\n",
    "由基底的内积定义量子态间的内积\n",
    "\n",
    "$\\langle\\psi|\\varphi\\rangle = \\psi^\\dagger\\varphi = \\sum_s \\psi_s^*\\varphi_s$\n",
    "> 量子态的内积等于量子态系数向量的内积\n",
    "\n",
    "其中$|\\varphi\\rangle = \\sum_{s=0,1} \\varphi_s|s\\rangle$，$|\\psi\\rangle = \\sum_{s=0,1} \\psi_s|s\\rangle$，复共轭$\\langle\\psi| = \\sum_{s=0,1} \\psi_s^*\\langle s|$\n",
    "\n",
    "显然，系数可以由量子态与相应基底态的内积获得\n",
    "\n",
    "$|\\varphi_s\\rangle = \\langle s | \\varphi \\rangle$\n",
    "\n",
    "### 量子态的波恩概率诠释\n",
    "\n",
    "系数的模方描述该量子系统处于对应（某个基底的）状态的概率\n",
    "\n",
    "$p(s) := |\\varphi_s|^2 = \\varphi_s^*\\varphi_s = \\langle\\varphi|s\\rangle\\langle s|\\varphi\\rangle = |\\langle\\varphi|s\\rangle|^2$\n",
    "\n",
    "概率满足归一性：所有可能状态的概率之和为1\n",
    "\n",
    "$\\sum_s|\\varphi_s|^2 = |\\varphi|^2 = 1$\n",
    "\n",
    "概率的归一性对应于系数二范数的归一性\n",
    "\n",
    "#### 叠加态\n",
    "\n",
    "波恩概率诠释允许定义叠加态，例如：\n",
    "\n",
    "$|+\\rangle := \\frac{|0\\rangle + |1\\rangle}{\\sqrt{2}}$, $|-\\rangle := \\frac{|0\\rangle - |1\\rangle}{\\sqrt{2}}$\n",
    "\n",
    "$|+\\rangle$为$|0\\rangle$与$|1\\rangle$的叠加态，其处于$|0\\rangle$态的概率为$p(0) = |\\langle+|0\\rangle|^2 = (1/\\sqrt{2})^2 = 0.5$，处于$|1\\rangle$态的概率也为$p(1) = 0.5$；$|-\\rangle$\n",
    "\n",
    "$\\{|+\\rangle,|-\\rangle\\}$构成一组量子基底，满足正交归一性。$|+\\rangle$处于$|+\\rangle$态的概率为1，处于$|-\\rangle$态的概率为0。\n",
    "\n",
    "$|0\\rangle$为$|+\\rangle$与$|-\\rangle$的叠加态，其处于$|+\\rangle$态的概率为$p(+) = |\\langle+|0\\rangle|^2 = (1/\\sqrt{2})^2 = 0.5$，处于$|-\\rangle$态的概率也为$p(-) = 0.5$；$|1\\rangle$\n",
    "\n",
    "可见，**量子态是否处于叠加态取决于基底的选择**。\n",
    "\n",
    "#### 布洛赫球 Bloch Sphere\n",
    "\n",
    "![bloch_sphere](images/bloch_sphere.png)"
   ]
  }
 ],
 "metadata": {
  "kernelspec": {
   "display_name": ".venv",
   "language": "python",
   "name": "python3"
  },
  "language_info": {
   "codemirror_mode": {
    "name": "ipython",
    "version": 3
   },
   "file_extension": ".py",
   "mimetype": "text/x-python",
   "name": "python",
   "nbconvert_exporter": "python",
   "pygments_lexer": "ipython3",
   "version": "3.12.9"
  }
 },
 "nbformat": 4,
 "nbformat_minor": 2
}
