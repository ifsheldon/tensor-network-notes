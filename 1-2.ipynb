{
 "cells": [
  {
   "cell_type": "code",
   "id": "initial_id",
   "metadata": {
    "collapsed": true,
    "ExecuteTime": {
     "end_time": "2025-03-16T16:07:21.674067Z",
     "start_time": "2025-03-16T16:07:20.771520Z"
    }
   },
   "source": "import torch",
   "outputs": [],
   "execution_count": 1
  },
  {
   "metadata": {},
   "cell_type": "markdown",
   "source": "# 指标操作与张量基本运算",
   "id": "9c6a868adb1977d9"
  },
  {
   "metadata": {
    "ExecuteTime": {
     "end_time": "2025-03-16T16:07:21.680893Z",
     "start_time": "2025-03-16T16:07:21.677559Z"
    }
   },
   "cell_type": "code",
   "source": [
    "x = torch.tensor([1, 3, 5, 7])\n",
    "x1 = torch.reshape(x, [2,2])\n",
    "x1_ = x.reshape(2, 2)\n",
    "print(x1)\n",
    "print(x1_)"
   ],
   "id": "6b289c240606b659",
   "outputs": [
    {
     "name": "stdout",
     "output_type": "stream",
     "text": [
      "tensor([[1, 3],\n",
      "        [5, 7]])\n",
      "tensor([[1, 3],\n",
      "        [5, 7]])\n"
     ]
    }
   ],
   "execution_count": 2
  },
  {
   "metadata": {
    "ExecuteTime": {
     "end_time": "2025-03-16T16:07:21.971744Z",
     "start_time": "2025-03-16T16:07:21.969366Z"
    }
   },
   "cell_type": "code",
   "source": [
    "x2 = x1.permute(1, 0)\n",
    "print(x2)"
   ],
   "id": "826b59e640e63f69",
   "outputs": [
    {
     "name": "stdout",
     "output_type": "stream",
     "text": [
      "tensor([[1, 5],\n",
      "        [3, 7]])\n"
     ]
    }
   ],
   "execution_count": 3
  },
  {
   "metadata": {},
   "cell_type": "markdown",
   "source": [
    "## 向量化与矩阵化的数学公式符号约定:\n",
    "\n",
    "张量的矩阵化。如果将某几个指标(例如 $i_a,i_b,i_c$) 合并作为左指标,其余合并作为右指标,该矩阵简记为 $T_{[i_a i_b i_c]}$ , 在不引起误解的情况下,剩余的指标可以不写出来,或也可以写在第二个方括号中,记为 $T_{[i_a i_b i_c][\\cdots]}$ 。若不希望指定代表各个指标的名字 (字母), 可以写成 $T_{[0,2,\\cdots]}$ , 方括号中的数字代表张量的第几个指标。\n",
    "\n",
    "如果将某一个指标 $i_m$ 作为矩阵左指标, 并合并其余指标作为矩阵右指标,该矩阵简记为 $T_{[i_m]}$ ; 如果将前 $m$ 个指标合并作为左指标,剩下的指标合并作为右指标,该矩阵简记为 $T_{[i_0 \\cdots i_{m-1}][i_m \\cdots i_{N-1}]} $ 或 $T_{[i_0 \\cdots i_{m-1}][\\cdots]} $ 或 $T_{[0 \\cdots m-1]}$. 如果需要将一个张量的所有指标合并成一个指标,则以此获得的向量可简记为 $T_{[:]}$ , 其也被称为 $T$ 的向量化 (vectorization)"
   ],
   "id": "c2a9ba52a071d41c"
  },
  {
   "metadata": {},
   "cell_type": "markdown",
   "source": [
    "## 外积\n",
    "\n",
    "\n",
    "外积运算: $U = X \\otimes Y \\leftrightarrow U_{abc...ijk...} = X_{abc...}Y_{ijk...}$\n",
    "\n",
    "注意左张量的维度在前，右张量的维度在后"
   ],
   "id": "d3839b24487c44bc"
  },
  {
   "metadata": {
    "ExecuteTime": {
     "end_time": "2025-03-16T16:07:22.049855Z",
     "start_time": "2025-03-16T16:07:22.045930Z"
    }
   },
   "cell_type": "code",
   "source": [
    "x = torch.tensor([1, 3, 5])\n",
    "y = torch.tensor([2, 4, 6, 8])\n",
    "# 得到张量的形状是 (3, 4)\n",
    "z1 = torch.outer(x, y)\n",
    "z2 = torch.einsum(\"a,b -> ab\", x, y)\n",
    "print(z1)\n",
    "print(z2)\n",
    "\n",
    "# equivalently\n",
    "z3 = x.reshape(3, 1) * y.reshape(1, 4)\n",
    "print(z3)"
   ],
   "id": "ce653b77883ef910",
   "outputs": [
    {
     "name": "stdout",
     "output_type": "stream",
     "text": [
      "tensor([[ 2,  4,  6,  8],\n",
      "        [ 6, 12, 18, 24],\n",
      "        [10, 20, 30, 40]])\n",
      "tensor([[ 2,  4,  6,  8],\n",
      "        [ 6, 12, 18, 24],\n",
      "        [10, 20, 30, 40]])\n",
      "tensor([[ 2,  4,  6,  8],\n",
      "        [ 6, 12, 18, 24],\n",
      "        [10, 20, 30, 40]])\n"
     ]
    }
   ],
   "execution_count": 4
  },
  {
   "metadata": {},
   "cell_type": "markdown",
   "source": [
    "### Einsum\n",
    "\n",
    "*   其输入为字符串公式与相关张量；\n",
    "*   公式包含箭头 “->”，箭头左侧为各个待收缩张量的指标，右侧为收缩所得张量的指标；\n",
    "*   左侧各个张量的指标用逗号隔开，共有指标使用同一个字母表示；\n",
    "*   当左侧出现的指标没有出现在右侧时，说明对该指标作求和运算；\n",
    "\n",
    "例子1:\n",
    " `torch.einsum(\"a,b -> ab\", x, y)`\n",
    " 从outer对应的einsum可以容易看出outer的计算公式为 $w_{ab} = u_a v_b$。\n"
   ],
   "id": "3c498cc56e37bc01"
  },
  {
   "metadata": {
    "ExecuteTime": {
     "end_time": "2025-03-16T16:07:22.073266Z",
     "start_time": "2025-03-16T16:07:22.071233Z"
    }
   },
   "cell_type": "code",
   "source": [
    "# 例子2\n",
    "z = torch.einsum(\"a,b -> ab\", x, y)\n",
    "# sum over the first index\n",
    "z_sum = torch.einsum(\"ab -> a\", z)\n",
    "print(z_sum)"
   ],
   "id": "a99562bceb0d2aff",
   "outputs": [
    {
     "name": "stdout",
     "output_type": "stream",
     "text": [
      "tensor([ 20,  60, 100])\n"
     ]
    }
   ],
   "execution_count": 5
  },
  {
   "metadata": {},
   "cell_type": "markdown",
   "source": [
    "### Kronecker Product\n",
    "\n",
    "Einsum 公式:\n",
    "$u_av_b = w_{ab} \\rightarrow w_{[ab]}$"
   ],
   "id": "d2d3c49cc6507381"
  },
  {
   "metadata": {
    "ExecuteTime": {
     "end_time": "2025-03-16T16:07:22.095303Z",
     "start_time": "2025-03-16T16:07:22.092530Z"
    }
   },
   "cell_type": "code",
   "source": [
    "u = torch.tensor([1, 3, 5])\n",
    "v = torch.tensor([2, 4, 6, 8])\n",
    "\n",
    "kron1 = torch.kron(u, v)\n",
    "kron2 = torch.einsum(\"a,b -> ab\", u, v).flatten()\n",
    "print(kron1)\n",
    "print(kron2)"
   ],
   "id": "36f030b04a055844",
   "outputs": [
    {
     "name": "stdout",
     "output_type": "stream",
     "text": [
      "tensor([ 2,  4,  6,  8,  6, 12, 18, 24, 10, 20, 30, 40])\n",
      "tensor([ 2,  4,  6,  8,  6, 12, 18, 24, 10, 20, 30, 40])\n"
     ]
    }
   ],
   "execution_count": 6
  }
 ],
 "metadata": {
  "kernelspec": {
   "display_name": "Python 3",
   "language": "python",
   "name": "python3"
  },
  "language_info": {
   "codemirror_mode": {
    "name": "ipython",
    "version": 2
   },
   "file_extension": ".py",
   "mimetype": "text/x-python",
   "name": "python",
   "nbconvert_exporter": "python",
   "pygments_lexer": "ipython2",
   "version": "2.7.6"
  }
 },
 "nbformat": 4,
 "nbformat_minor": 5
}
