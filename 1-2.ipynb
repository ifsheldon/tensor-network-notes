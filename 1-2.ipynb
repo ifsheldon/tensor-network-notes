{
 "cells": [
  {
   "cell_type": "code",
   "id": "initial_id",
   "metadata": {
    "collapsed": true,
    "ExecuteTime": {
     "end_time": "2025-03-16T10:15:39.343105Z",
     "start_time": "2025-03-16T10:15:38.200093Z"
    }
   },
   "source": "import torch",
   "outputs": [],
   "execution_count": 1
  },
  {
   "metadata": {
    "ExecuteTime": {
     "end_time": "2025-03-16T10:15:40.720280Z",
     "start_time": "2025-03-16T10:15:40.716430Z"
    }
   },
   "cell_type": "code",
   "source": [
    "x = torch.tensor([1, 3, 5, 7])\n",
    "x1 = torch.reshape(x, [2,2])\n",
    "x1_ = x.reshape(2, 2)\n",
    "print(x1)\n",
    "print(x1_)"
   ],
   "id": "6b289c240606b659",
   "outputs": [
    {
     "name": "stdout",
     "output_type": "stream",
     "text": [
      "tensor([[1, 3],\n",
      "        [5, 7]])\n",
      "tensor([[1, 3],\n",
      "        [5, 7]])\n"
     ]
    }
   ],
   "execution_count": 2
  }
 ],
 "metadata": {
  "kernelspec": {
   "display_name": "Python 3",
   "language": "python",
   "name": "python3"
  },
  "language_info": {
   "codemirror_mode": {
    "name": "ipython",
    "version": 2
   },
   "file_extension": ".py",
   "mimetype": "text/x-python",
   "name": "python",
   "nbconvert_exporter": "python",
   "pygments_lexer": "ipython2",
   "version": "2.7.6"
  }
 },
 "nbformat": 4,
 "nbformat_minor": 5
}
